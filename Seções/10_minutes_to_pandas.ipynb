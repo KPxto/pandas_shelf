{
 "cells": [
  {
   "cell_type": "code",
   "execution_count": 1,
   "metadata": {},
   "outputs": [],
   "source": [
    "import pandas as pd\n",
    "import numpy as np"
   ]
  },
  {
   "cell_type": "markdown",
   "metadata": {},
   "source": [
    "[Link](https://pandas.pydata.org/pandas-docs/stable/getting_started/10min.html)"
   ]
  },
  {
   "cell_type": "markdown",
   "metadata": {},
   "source": [
    "### Object creation"
   ]
  },
  {
   "cell_type": "markdown",
   "metadata": {},
   "source": [
    "#### Criar objeto a partir de um indice de data"
   ]
  },
  {
   "cell_type": "code",
   "execution_count": 35,
   "metadata": {},
   "outputs": [],
   "source": [
    "dates = pd.date_range('20130101', periods=6, freq='D')"
   ]
  },
  {
   "cell_type": "code",
   "execution_count": 36,
   "metadata": {},
   "outputs": [
    {
     "data": {
      "text/plain": [
       "DatetimeIndex(['2013-01-01', '2013-01-02', '2013-01-03', '2013-01-04',\n",
       "               '2013-01-05', '2013-01-06'],\n",
       "              dtype='datetime64[ns]', freq='D')"
      ]
     },
     "execution_count": 36,
     "metadata": {},
     "output_type": "execute_result"
    }
   ],
   "source": [
    "dates"
   ]
  },
  {
   "cell_type": "code",
   "execution_count": 37,
   "metadata": {},
   "outputs": [],
   "source": [
    "df = pd.DataFrame(np.random.randn(6, 4), index=dates, columns=['A', 'B', 'C', 'D'])"
   ]
  },
  {
   "cell_type": "code",
   "execution_count": 38,
   "metadata": {},
   "outputs": [
    {
     "data": {
      "text/html": [
       "<div>\n",
       "<style scoped>\n",
       "    .dataframe tbody tr th:only-of-type {\n",
       "        vertical-align: middle;\n",
       "    }\n",
       "\n",
       "    .dataframe tbody tr th {\n",
       "        vertical-align: top;\n",
       "    }\n",
       "\n",
       "    .dataframe thead th {\n",
       "        text-align: right;\n",
       "    }\n",
       "</style>\n",
       "<table border=\"1\" class=\"dataframe\">\n",
       "  <thead>\n",
       "    <tr style=\"text-align: right;\">\n",
       "      <th></th>\n",
       "      <th>A</th>\n",
       "      <th>B</th>\n",
       "      <th>C</th>\n",
       "      <th>D</th>\n",
       "    </tr>\n",
       "  </thead>\n",
       "  <tbody>\n",
       "    <tr>\n",
       "      <th>2013-01-01</th>\n",
       "      <td>-0.258812</td>\n",
       "      <td>0.490639</td>\n",
       "      <td>0.554961</td>\n",
       "      <td>0.720710</td>\n",
       "    </tr>\n",
       "    <tr>\n",
       "      <th>2013-01-02</th>\n",
       "      <td>-0.569535</td>\n",
       "      <td>-2.202793</td>\n",
       "      <td>0.779490</td>\n",
       "      <td>0.891344</td>\n",
       "    </tr>\n",
       "    <tr>\n",
       "      <th>2013-01-03</th>\n",
       "      <td>1.143778</td>\n",
       "      <td>0.158215</td>\n",
       "      <td>-0.658485</td>\n",
       "      <td>-0.415042</td>\n",
       "    </tr>\n",
       "    <tr>\n",
       "      <th>2013-01-04</th>\n",
       "      <td>-1.217585</td>\n",
       "      <td>0.220858</td>\n",
       "      <td>0.653302</td>\n",
       "      <td>-0.524009</td>\n",
       "    </tr>\n",
       "    <tr>\n",
       "      <th>2013-01-05</th>\n",
       "      <td>0.512217</td>\n",
       "      <td>-0.316117</td>\n",
       "      <td>0.272829</td>\n",
       "      <td>0.208035</td>\n",
       "    </tr>\n",
       "    <tr>\n",
       "      <th>2013-01-06</th>\n",
       "      <td>0.331481</td>\n",
       "      <td>-1.244193</td>\n",
       "      <td>-1.308281</td>\n",
       "      <td>-1.120084</td>\n",
       "    </tr>\n",
       "  </tbody>\n",
       "</table>\n",
       "</div>"
      ],
      "text/plain": [
       "                   A         B         C         D\n",
       "2013-01-01 -0.258812  0.490639  0.554961  0.720710\n",
       "2013-01-02 -0.569535 -2.202793  0.779490  0.891344\n",
       "2013-01-03  1.143778  0.158215 -0.658485 -0.415042\n",
       "2013-01-04 -1.217585  0.220858  0.653302 -0.524009\n",
       "2013-01-05  0.512217 -0.316117  0.272829  0.208035\n",
       "2013-01-06  0.331481 -1.244193 -1.308281 -1.120084"
      ]
     },
     "execution_count": 38,
     "metadata": {},
     "output_type": "execute_result"
    }
   ],
   "source": [
    "df"
   ]
  },
  {
   "cell_type": "code",
   "execution_count": 39,
   "metadata": {},
   "outputs": [],
   "source": [
    "df = df.cumsum()"
   ]
  },
  {
   "cell_type": "code",
   "execution_count": 40,
   "metadata": {},
   "outputs": [
    {
     "data": {
      "text/plain": [
       "<matplotlib.axes._subplots.AxesSubplot at 0x19a8eefc668>"
      ]
     },
     "execution_count": 40,
     "metadata": {},
     "output_type": "execute_result"
    },
    {
     "data": {
      "image/png": "[encoded data removed]",
      "text/plain": [
       "<Figure size 432x288 with 1 Axes>"
      ]
     },
     "metadata": {
      "needs_background": "light"
     },
     "output_type": "display_data"
    }
   ],
   "source": [
    "df.plot()"
   ]
  },
  {
   "cell_type": "markdown",
   "metadata": {},
   "source": [
    "#### Criar objeto misturando varios tipos de dados"
   ]
  },
  {
   "cell_type": "code",
   "execution_count": 68,
   "metadata": {},
   "outputs": [],
   "source": [
    "df2 = pd.DataFrame({'A': 1., 'B':pd.Timestamp('20200324'), 'C':pd.Series(1, index=list(range(4)), dtype='float32'), \n",
    "                   'D':np.array([4] * 4, dtype='int32'), 'E':pd.Categorical(['foo', 'bar', 'loco', 'metre']), 'F':'kapa'})"
   ]
  },
  {
   "cell_type": "code",
   "execution_count": 69,
   "metadata": {},
   "outputs": [
    {
     "data": {
      "text/html": [
       "<div>\n",
       "<style scoped>\n",
       "    .dataframe tbody tr th:only-of-type {\n",
       "        vertical-align: middle;\n",
       "    }\n",
       "\n",
       "    .dataframe tbody tr th {\n",
       "        vertical-align: top;\n",
       "    }\n",
       "\n",
       "    .dataframe thead th {\n",
       "        text-align: right;\n",
       "    }\n",
       "</style>\n",
       "<table border=\"1\" class=\"dataframe\">\n",
       "  <thead>\n",
       "    <tr style=\"text-align: right;\">\n",
       "      <th></th>\n",
       "      <th>A</th>\n",
       "      <th>B</th>\n",
       "      <th>C</th>\n",
       "      <th>D</th>\n",
       "      <th>E</th>\n",
       "      <th>F</th>\n",
       "    </tr>\n",
       "  </thead>\n",
       "  <tbody>\n",
       "    <tr>\n",
       "      <th>0</th>\n",
       "      <td>1.0</td>\n",
       "      <td>2020-03-24</td>\n",
       "      <td>1.0</td>\n",
       "      <td>4</td>\n",
       "      <td>foo</td>\n",
       "      <td>kapa</td>\n",
       "    </tr>\n",
       "    <tr>\n",
       "      <th>1</th>\n",
       "      <td>1.0</td>\n",
       "      <td>2020-03-24</td>\n",
       "      <td>1.0</td>\n",
       "      <td>4</td>\n",
       "      <td>bar</td>\n",
       "      <td>kapa</td>\n",
       "    </tr>\n",
       "    <tr>\n",
       "      <th>2</th>\n",
       "      <td>1.0</td>\n",
       "      <td>2020-03-24</td>\n",
       "      <td>1.0</td>\n",
       "      <td>4</td>\n",
       "      <td>loco</td>\n",
       "      <td>kapa</td>\n",
       "    </tr>\n",
       "    <tr>\n",
       "      <th>3</th>\n",
       "      <td>1.0</td>\n",
       "      <td>2020-03-24</td>\n",
       "      <td>1.0</td>\n",
       "      <td>4</td>\n",
       "      <td>metre</td>\n",
       "      <td>kapa</td>\n",
       "    </tr>\n",
       "  </tbody>\n",
       "</table>\n",
       "</div>"
      ],
      "text/plain": [
       "     A          B    C  D      E     F\n",
       "0  1.0 2020-03-24  1.0  4    foo  kapa\n",
       "1  1.0 2020-03-24  1.0  4    bar  kapa\n",
       "2  1.0 2020-03-24  1.0  4   loco  kapa\n",
       "3  1.0 2020-03-24  1.0  4  metre  kapa"
      ]
     },
     "execution_count": 69,
     "metadata": {},
     "output_type": "execute_result"
    }
   ],
   "source": [
    "df2"
   ]
  },
  {
   "cell_type": "code",
   "execution_count": 70,
   "metadata": {},
   "outputs": [
    {
     "data": {
      "text/plain": [
       "A           float64\n",
       "B    datetime64[ns]\n",
       "C           float32\n",
       "D             int32\n",
       "E          category\n",
       "F            object\n",
       "dtype: object"
      ]
     },
     "execution_count": 70,
     "metadata": {},
     "output_type": "execute_result"
    }
   ],
   "source": [
    "df2.dtypes"
   ]
  },
  {
   "cell_type": "markdown",
   "metadata": {},
   "source": [
    "### Viewing Data"
   ]
  },
  {
   "cell_type": "code",
   "execution_count": 74,
   "metadata": {},
   "outputs": [],
   "source": [
    "df3 = pd.DataFrame(np.random.randn(50, 4), index=pd.date_range('20200101', periods=50, freq='D'), columns=list('ABCD'))"
   ]
  },
  {
   "cell_type": "code",
   "execution_count": 76,
   "metadata": {},
   "outputs": [
    {
     "data": {
      "text/html": [
       "<div>\n",
       "<style scoped>\n",
       "    .dataframe tbody tr th:only-of-type {\n",
       "        vertical-align: middle;\n",
       "    }\n",
       "\n",
       "    .dataframe tbody tr th {\n",
       "        vertical-align: top;\n",
       "    }\n",
       "\n",
       "    .dataframe thead th {\n",
       "        text-align: right;\n",
       "    }\n",
       "</style>\n",
       "<table border=\"1\" class=\"dataframe\">\n",
       "  <thead>\n",
       "    <tr style=\"text-align: right;\">\n",
       "      <th></th>\n",
       "      <th>A</th>\n",
       "      <th>B</th>\n",
       "      <th>C</th>\n",
       "      <th>D</th>\n",
       "    </tr>\n",
       "  </thead>\n",
       "  <tbody>\n",
       "    <tr>\n",
       "      <th>2020-01-01</th>\n",
       "      <td>0.060154</td>\n",
       "      <td>0.718504</td>\n",
       "      <td>-0.699011</td>\n",
       "      <td>0.252951</td>\n",
       "    </tr>\n",
       "    <tr>\n",
       "      <th>2020-01-02</th>\n",
       "      <td>-0.879357</td>\n",
       "      <td>-1.392539</td>\n",
       "      <td>-0.227250</td>\n",
       "      <td>-1.650153</td>\n",
       "    </tr>\n",
       "    <tr>\n",
       "      <th>2020-01-03</th>\n",
       "      <td>0.062244</td>\n",
       "      <td>-1.397159</td>\n",
       "      <td>0.199508</td>\n",
       "      <td>1.869659</td>\n",
       "    </tr>\n",
       "    <tr>\n",
       "      <th>2020-01-04</th>\n",
       "      <td>2.489535</td>\n",
       "      <td>-1.050802</td>\n",
       "      <td>0.142806</td>\n",
       "      <td>-0.362285</td>\n",
       "    </tr>\n",
       "    <tr>\n",
       "      <th>2020-01-05</th>\n",
       "      <td>1.492937</td>\n",
       "      <td>-0.178271</td>\n",
       "      <td>-0.950748</td>\n",
       "      <td>1.047542</td>\n",
       "    </tr>\n",
       "  </tbody>\n",
       "</table>\n",
       "</div>"
      ],
      "text/plain": [
       "                   A         B         C         D\n",
       "2020-01-01  0.060154  0.718504 -0.699011  0.252951\n",
       "2020-01-02 -0.879357 -1.392539 -0.227250 -1.650153\n",
       "2020-01-03  0.062244 -1.397159  0.199508  1.869659\n",
       "2020-01-04  2.489535 -1.050802  0.142806 -0.362285\n",
       "2020-01-05  1.492937 -0.178271 -0.950748  1.047542"
      ]
     },
     "execution_count": 76,
     "metadata": {},
     "output_type": "execute_result"
    }
   ],
   "source": [
    "df3.head() #para ver os 5 primeiros rows"
   ]
  },
  {
   "cell_type": "code",
   "execution_count": 77,
   "metadata": {},
   "outputs": [
    {
     "data": {
      "text/html": [
       "<div>\n",
       "<style scoped>\n",
       "    .dataframe tbody tr th:only-of-type {\n",
       "        vertical-align: middle;\n",
       "    }\n",
       "\n",
       "    .dataframe tbody tr th {\n",
       "        vertical-align: top;\n",
       "    }\n",
       "\n",
       "    .dataframe thead th {\n",
       "        text-align: right;\n",
       "    }\n",
       "</style>\n",
       "<table border=\"1\" class=\"dataframe\">\n",
       "  <thead>\n",
       "    <tr style=\"text-align: right;\">\n",
       "      <th></th>\n",
       "      <th>A</th>\n",
       "      <th>B</th>\n",
       "      <th>C</th>\n",
       "      <th>D</th>\n",
       "    </tr>\n",
       "  </thead>\n",
       "  <tbody>\n",
       "    <tr>\n",
       "      <th>2020-02-15</th>\n",
       "      <td>0.359237</td>\n",
       "      <td>0.094721</td>\n",
       "      <td>0.212683</td>\n",
       "      <td>0.174753</td>\n",
       "    </tr>\n",
       "    <tr>\n",
       "      <th>2020-02-16</th>\n",
       "      <td>1.534969</td>\n",
       "      <td>-1.106458</td>\n",
       "      <td>-1.039238</td>\n",
       "      <td>0.390383</td>\n",
       "    </tr>\n",
       "    <tr>\n",
       "      <th>2020-02-17</th>\n",
       "      <td>-0.448166</td>\n",
       "      <td>-0.052794</td>\n",
       "      <td>-0.506013</td>\n",
       "      <td>0.175998</td>\n",
       "    </tr>\n",
       "    <tr>\n",
       "      <th>2020-02-18</th>\n",
       "      <td>-0.429897</td>\n",
       "      <td>1.344904</td>\n",
       "      <td>-0.821279</td>\n",
       "      <td>1.165238</td>\n",
       "    </tr>\n",
       "    <tr>\n",
       "      <th>2020-02-19</th>\n",
       "      <td>-1.735096</td>\n",
       "      <td>-1.291164</td>\n",
       "      <td>-1.478018</td>\n",
       "      <td>0.566968</td>\n",
       "    </tr>\n",
       "  </tbody>\n",
       "</table>\n",
       "</div>"
      ],
      "text/plain": [
       "                   A         B         C         D\n",
       "2020-02-15  0.359237  0.094721  0.212683  0.174753\n",
       "2020-02-16  1.534969 -1.106458 -1.039238  0.390383\n",
       "2020-02-17 -0.448166 -0.052794 -0.506013  0.175998\n",
       "2020-02-18 -0.429897  1.344904 -0.821279  1.165238\n",
       "2020-02-19 -1.735096 -1.291164 -1.478018  0.566968"
      ]
     },
     "execution_count": 77,
     "metadata": {},
     "output_type": "execute_result"
    }
   ],
   "source": [
    "df3.tail() #para ver os 5 ultimos rows"
   ]
  },
  {
   "cell_type": "markdown",
   "metadata": {},
   "source": [
    "#### Para mostrar indices e colunas"
   ]
  },
  {
   "cell_type": "code",
   "execution_count": 78,
   "metadata": {},
   "outputs": [
    {
     "data": {
      "text/plain": [
       "DatetimeIndex(['2020-01-01', '2020-01-02', '2020-01-03', '2020-01-04',\n",
       "               '2020-01-05', '2020-01-06', '2020-01-07', '2020-01-08',\n",
       "               '2020-01-09', '2020-01-10', '2020-01-11', '2020-01-12',\n",
       "               '2020-01-13', '2020-01-14', '2020-01-15', '2020-01-16',\n",
       "               '2020-01-17', '2020-01-18', '2020-01-19', '2020-01-20',\n",
       "               '2020-01-21', '2020-01-22', '2020-01-23', '2020-01-24',\n",
       "               '2020-01-25', '2020-01-26', '2020-01-27', '2020-01-28',\n",
       "               '2020-01-29', '2020-01-30', '2020-01-31', '2020-02-01',\n",
       "               '2020-02-02', '2020-02-03', '2020-02-04', '2020-02-05',\n",
       "               '2020-02-06', '2020-02-07', '2020-02-08', '2020-02-09',\n",
       "               '2020-02-10', '2020-02-11', '2020-02-12', '2020-02-13',\n",
       "               '2020-02-14', '2020-02-15', '2020-02-16', '2020-02-17',\n",
       "               '2020-02-18', '2020-02-19'],\n",
       "              dtype='datetime64[ns]', freq='D')"
      ]
     },
     "execution_count": 78,
     "metadata": {},
     "output_type": "execute_result"
    }
   ],
   "source": [
    "df3.index"
   ]
  },
  {
   "cell_type": "code",
   "execution_count": 79,
   "metadata": {},
   "outputs": [
    {
     "data": {
      "text/plain": [
       "Index(['A', 'B', 'C', 'D'], dtype='object')"
      ]
     },
     "execution_count": 79,
     "metadata": {},
     "output_type": "execute_result"
    }
   ],
   "source": [
    "df3.columns"
   ]
  },
  {
   "cell_type": "markdown",
   "metadata": {},
   "source": [
    "#### Describe nos da um resumo estatistico dos dados"
   ]
  },
  {
   "cell_type": "code",
   "execution_count": 124,
   "metadata": {},
   "outputs": [
    {
     "data": {
      "text/html": [
       "<div>\n",
       "<style scoped>\n",
       "    .dataframe tbody tr th:only-of-type {\n",
       "        vertical-align: middle;\n",
       "    }\n",
       "\n",
       "    .dataframe tbody tr th {\n",
       "        vertical-align: top;\n",
       "    }\n",
       "\n",
       "    .dataframe thead th {\n",
       "        text-align: right;\n",
       "    }\n",
       "</style>\n",
       "<table border=\"1\" class=\"dataframe\">\n",
       "  <thead>\n",
       "    <tr style=\"text-align: right;\">\n",
       "      <th></th>\n",
       "      <th>A</th>\n",
       "      <th>B</th>\n",
       "      <th>C</th>\n",
       "      <th>D</th>\n",
       "    </tr>\n",
       "  </thead>\n",
       "  <tbody>\n",
       "    <tr>\n",
       "      <th>count</th>\n",
       "      <td>50.000000</td>\n",
       "      <td>50.000000</td>\n",
       "      <td>50.000000</td>\n",
       "      <td>50.000000</td>\n",
       "    </tr>\n",
       "    <tr>\n",
       "      <th>mean</th>\n",
       "      <td>0.039917</td>\n",
       "      <td>-0.071813</td>\n",
       "      <td>-0.023889</td>\n",
       "      <td>0.042898</td>\n",
       "    </tr>\n",
       "    <tr>\n",
       "      <th>std</th>\n",
       "      <td>0.992051</td>\n",
       "      <td>0.901423</td>\n",
       "      <td>1.251279</td>\n",
       "      <td>0.942280</td>\n",
       "    </tr>\n",
       "    <tr>\n",
       "      <th>min</th>\n",
       "      <td>-2.117380</td>\n",
       "      <td>-1.676068</td>\n",
       "      <td>-2.885559</td>\n",
       "      <td>-2.237904</td>\n",
       "    </tr>\n",
       "    <tr>\n",
       "      <th>25%</th>\n",
       "      <td>-0.450067</td>\n",
       "      <td>-0.881679</td>\n",
       "      <td>-0.807993</td>\n",
       "      <td>-0.570017</td>\n",
       "    </tr>\n",
       "    <tr>\n",
       "      <th>50%</th>\n",
       "      <td>0.076650</td>\n",
       "      <td>-0.115532</td>\n",
       "      <td>-0.064138</td>\n",
       "      <td>0.159347</td>\n",
       "    </tr>\n",
       "    <tr>\n",
       "      <th>75%</th>\n",
       "      <td>0.575328</td>\n",
       "      <td>0.567097</td>\n",
       "      <td>1.011090</td>\n",
       "      <td>0.769392</td>\n",
       "    </tr>\n",
       "    <tr>\n",
       "      <th>max</th>\n",
       "      <td>2.489535</td>\n",
       "      <td>1.765904</td>\n",
       "      <td>2.719943</td>\n",
       "      <td>1.887615</td>\n",
       "    </tr>\n",
       "  </tbody>\n",
       "</table>\n",
       "</div>"
      ],
      "text/plain": [
       "               A          B          C          D\n",
       "count  50.000000  50.000000  50.000000  50.000000\n",
       "mean    0.039917  -0.071813  -0.023889   0.042898\n",
       "std     0.992051   0.901423   1.251279   0.942280\n",
       "min    -2.117380  -1.676068  -2.885559  -2.237904\n",
       "25%    -0.450067  -0.881679  -0.807993  -0.570017\n",
       "50%     0.076650  -0.115532  -0.064138   0.159347\n",
       "75%     0.575328   0.567097   1.011090   0.769392\n",
       "max     2.489535   1.765904   2.719943   1.887615"
      ]
     },
     "execution_count": 124,
     "metadata": {},
     "output_type": "execute_result"
    }
   ],
   "source": [
    "df3.describe()"
   ]
  },
  {
   "cell_type": "markdown",
   "metadata": {},
   "source": [
    "#### Ja para transpor o dataframe..."
   ]
  },
  {
   "cell_type": "code",
   "execution_count": 125,
   "metadata": {},
   "outputs": [
    {
     "data": {
      "text/html": [
       "<div>\n",
       "<style scoped>\n",
       "    .dataframe tbody tr th:only-of-type {\n",
       "        vertical-align: middle;\n",
       "    }\n",
       "\n",
       "    .dataframe tbody tr th {\n",
       "        vertical-align: top;\n",
       "    }\n",
       "\n",
       "    .dataframe thead th {\n",
       "        text-align: right;\n",
       "    }\n",
       "</style>\n",
       "<table border=\"1\" class=\"dataframe\">\n",
       "  <thead>\n",
       "    <tr style=\"text-align: right;\">\n",
       "      <th></th>\n",
       "      <th>2020-01-01 00:00:00</th>\n",
       "      <th>2020-01-02 00:00:00</th>\n",
       "      <th>2020-01-03 00:00:00</th>\n",
       "      <th>2020-01-04 00:00:00</th>\n",
       "      <th>2020-01-05 00:00:00</th>\n",
       "      <th>2020-01-06 00:00:00</th>\n",
       "      <th>2020-01-07 00:00:00</th>\n",
       "      <th>2020-01-08 00:00:00</th>\n",
       "      <th>2020-01-09 00:00:00</th>\n",
       "      <th>2020-01-10 00:00:00</th>\n",
       "      <th>...</th>\n",
       "      <th>2020-02-10 00:00:00</th>\n",
       "      <th>2020-02-11 00:00:00</th>\n",
       "      <th>2020-02-12 00:00:00</th>\n",
       "      <th>2020-02-13 00:00:00</th>\n",
       "      <th>2020-02-14 00:00:00</th>\n",
       "      <th>2020-02-15 00:00:00</th>\n",
       "      <th>2020-02-16 00:00:00</th>\n",
       "      <th>2020-02-17 00:00:00</th>\n",
       "      <th>2020-02-18 00:00:00</th>\n",
       "      <th>2020-02-19 00:00:00</th>\n",
       "    </tr>\n",
       "  </thead>\n",
       "  <tbody>\n",
       "    <tr>\n",
       "      <th>A</th>\n",
       "      <td>0.060154</td>\n",
       "      <td>-0.879357</td>\n",
       "      <td>0.062244</td>\n",
       "      <td>2.489535</td>\n",
       "      <td>1.492937</td>\n",
       "      <td>-2.117380</td>\n",
       "      <td>1.155720</td>\n",
       "      <td>0.453506</td>\n",
       "      <td>-1.167143</td>\n",
       "      <td>0.296041</td>\n",
       "      <td>...</td>\n",
       "      <td>-0.562041</td>\n",
       "      <td>0.575519</td>\n",
       "      <td>0.099407</td>\n",
       "      <td>0.181300</td>\n",
       "      <td>-0.056039</td>\n",
       "      <td>0.359237</td>\n",
       "      <td>1.534969</td>\n",
       "      <td>-0.448166</td>\n",
       "      <td>-0.429897</td>\n",
       "      <td>-1.735096</td>\n",
       "    </tr>\n",
       "    <tr>\n",
       "      <th>B</th>\n",
       "      <td>0.718504</td>\n",
       "      <td>-1.392539</td>\n",
       "      <td>-1.397159</td>\n",
       "      <td>-1.050802</td>\n",
       "      <td>-0.178271</td>\n",
       "      <td>-1.065192</td>\n",
       "      <td>-0.005995</td>\n",
       "      <td>-1.052147</td>\n",
       "      <td>0.569353</td>\n",
       "      <td>0.297209</td>\n",
       "      <td>...</td>\n",
       "      <td>0.296520</td>\n",
       "      <td>0.861960</td>\n",
       "      <td>-0.948089</td>\n",
       "      <td>1.765904</td>\n",
       "      <td>-0.187451</td>\n",
       "      <td>0.094721</td>\n",
       "      <td>-1.106458</td>\n",
       "      <td>-0.052794</td>\n",
       "      <td>1.344904</td>\n",
       "      <td>-1.291164</td>\n",
       "    </tr>\n",
       "    <tr>\n",
       "      <th>C</th>\n",
       "      <td>-0.699011</td>\n",
       "      <td>-0.227250</td>\n",
       "      <td>0.199508</td>\n",
       "      <td>0.142806</td>\n",
       "      <td>-0.950748</td>\n",
       "      <td>-0.629815</td>\n",
       "      <td>0.625575</td>\n",
       "      <td>1.580398</td>\n",
       "      <td>-0.540987</td>\n",
       "      <td>0.847920</td>\n",
       "      <td>...</td>\n",
       "      <td>-2.210330</td>\n",
       "      <td>-1.139410</td>\n",
       "      <td>-2.885559</td>\n",
       "      <td>1.372232</td>\n",
       "      <td>1.236994</td>\n",
       "      <td>0.212683</td>\n",
       "      <td>-1.039238</td>\n",
       "      <td>-0.506013</td>\n",
       "      <td>-0.821279</td>\n",
       "      <td>-1.478018</td>\n",
       "    </tr>\n",
       "    <tr>\n",
       "      <th>D</th>\n",
       "      <td>0.252951</td>\n",
       "      <td>-1.650153</td>\n",
       "      <td>1.869659</td>\n",
       "      <td>-0.362285</td>\n",
       "      <td>1.047542</td>\n",
       "      <td>0.875181</td>\n",
       "      <td>-0.381408</td>\n",
       "      <td>-1.175469</td>\n",
       "      <td>0.362153</td>\n",
       "      <td>0.143941</td>\n",
       "      <td>...</td>\n",
       "      <td>-1.483440</td>\n",
       "      <td>-2.237904</td>\n",
       "      <td>-0.942135</td>\n",
       "      <td>1.384885</td>\n",
       "      <td>-0.315387</td>\n",
       "      <td>0.174753</td>\n",
       "      <td>0.390383</td>\n",
       "      <td>0.175998</td>\n",
       "      <td>1.165238</td>\n",
       "      <td>0.566968</td>\n",
       "    </tr>\n",
       "  </tbody>\n",
       "</table>\n",
       "<p>4 rows × 50 columns</p>\n",
       "</div>"
      ],
      "text/plain": [
       "   2020-01-01  2020-01-02  2020-01-03  2020-01-04  2020-01-05  2020-01-06  \\\n",
       "A    0.060154   -0.879357    0.062244    2.489535    1.492937   -2.117380   \n",
       "B    0.718504   -1.392539   -1.397159   -1.050802   -0.178271   -1.065192   \n",
       "C   -0.699011   -0.227250    0.199508    0.142806   -0.950748   -0.629815   \n",
       "D    0.252951   -1.650153    1.869659   -0.362285    1.047542    0.875181   \n",
       "\n",
       "   2020-01-07  2020-01-08  2020-01-09  2020-01-10  ...  2020-02-10  \\\n",
       "A    1.155720    0.453506   -1.167143    0.296041  ...   -0.562041   \n",
       "B   -0.005995   -1.052147    0.569353    0.297209  ...    0.296520   \n",
       "C    0.625575    1.580398   -0.540987    0.847920  ...   -2.210330   \n",
       "D   -0.381408   -1.175469    0.362153    0.143941  ...   -1.483440   \n",
       "\n",
       "   2020-02-11  2020-02-12  2020-02-13  2020-02-14  2020-02-15  2020-02-16  \\\n",
       "A    0.575519    0.099407    0.181300   -0.056039    0.359237    1.534969   \n",
       "B    0.861960   -0.948089    1.765904   -0.187451    0.094721   -1.106458   \n",
       "C   -1.139410   -2.885559    1.372232    1.236994    0.212683   -1.039238   \n",
       "D   -2.237904   -0.942135    1.384885   -0.315387    0.174753    0.390383   \n",
       "\n",
       "   2020-02-17  2020-02-18  2020-02-19  \n",
       "A   -0.448166   -0.429897   -1.735096  \n",
       "B   -0.052794    1.344904   -1.291164  \n",
       "C   -0.506013   -0.821279   -1.478018  \n",
       "D    0.175998    1.165238    0.566968  \n",
       "\n",
       "[4 rows x 50 columns]"
      ]
     },
     "execution_count": 125,
     "metadata": {},
     "output_type": "execute_result"
    }
   ],
   "source": [
    "df3.T"
   ]
  },
  {
   "cell_type": "markdown",
   "metadata": {},
   "source": [
    "#### Podemos regorganizar os dados por eixo"
   ]
  },
  {
   "cell_type": "code",
   "execution_count": 131,
   "metadata": {},
   "outputs": [
    {
     "data": {
      "text/html": [
       "<div>\n",
       "<style scoped>\n",
       "    .dataframe tbody tr th:only-of-type {\n",
       "        vertical-align: middle;\n",
       "    }\n",
       "\n",
       "    .dataframe tbody tr th {\n",
       "        vertical-align: top;\n",
       "    }\n",
       "\n",
       "    .dataframe thead th {\n",
       "        text-align: right;\n",
       "    }\n",
       "</style>\n",
       "<table border=\"1\" class=\"dataframe\">\n",
       "  <thead>\n",
       "    <tr style=\"text-align: right;\">\n",
       "      <th></th>\n",
       "      <th>D</th>\n",
       "      <th>C</th>\n",
       "      <th>B</th>\n",
       "      <th>A</th>\n",
       "    </tr>\n",
       "  </thead>\n",
       "  <tbody>\n",
       "    <tr>\n",
       "      <th>2020-01-01</th>\n",
       "      <td>0.252951</td>\n",
       "      <td>-0.699011</td>\n",
       "      <td>0.718504</td>\n",
       "      <td>0.060154</td>\n",
       "    </tr>\n",
       "    <tr>\n",
       "      <th>2020-01-02</th>\n",
       "      <td>-1.650153</td>\n",
       "      <td>-0.227250</td>\n",
       "      <td>-1.392539</td>\n",
       "      <td>-0.879357</td>\n",
       "    </tr>\n",
       "    <tr>\n",
       "      <th>2020-01-03</th>\n",
       "      <td>1.869659</td>\n",
       "      <td>0.199508</td>\n",
       "      <td>-1.397159</td>\n",
       "      <td>0.062244</td>\n",
       "    </tr>\n",
       "    <tr>\n",
       "      <th>2020-01-04</th>\n",
       "      <td>-0.362285</td>\n",
       "      <td>0.142806</td>\n",
       "      <td>-1.050802</td>\n",
       "      <td>2.489535</td>\n",
       "    </tr>\n",
       "    <tr>\n",
       "      <th>2020-01-05</th>\n",
       "      <td>1.047542</td>\n",
       "      <td>-0.950748</td>\n",
       "      <td>-0.178271</td>\n",
       "      <td>1.492937</td>\n",
       "    </tr>\n",
       "  </tbody>\n",
       "</table>\n",
       "</div>"
      ],
      "text/plain": [
       "                   D         C         B         A\n",
       "2020-01-01  0.252951 -0.699011  0.718504  0.060154\n",
       "2020-01-02 -1.650153 -0.227250 -1.392539 -0.879357\n",
       "2020-01-03  1.869659  0.199508 -1.397159  0.062244\n",
       "2020-01-04 -0.362285  0.142806 -1.050802  2.489535\n",
       "2020-01-05  1.047542 -0.950748 -0.178271  1.492937"
      ]
     },
     "execution_count": 131,
     "metadata": {},
     "output_type": "execute_result"
    }
   ],
   "source": [
    "df3.sort_index(axis=1, ascending=False).head()"
   ]
  },
  {
   "cell_type": "code",
   "execution_count": 132,
   "metadata": {},
   "outputs": [
    {
     "data": {
      "text/html": [
       "<div>\n",
       "<style scoped>\n",
       "    .dataframe tbody tr th:only-of-type {\n",
       "        vertical-align: middle;\n",
       "    }\n",
       "\n",
       "    .dataframe tbody tr th {\n",
       "        vertical-align: top;\n",
       "    }\n",
       "\n",
       "    .dataframe thead th {\n",
       "        text-align: right;\n",
       "    }\n",
       "</style>\n",
       "<table border=\"1\" class=\"dataframe\">\n",
       "  <thead>\n",
       "    <tr style=\"text-align: right;\">\n",
       "      <th></th>\n",
       "      <th>A</th>\n",
       "      <th>B</th>\n",
       "      <th>C</th>\n",
       "      <th>D</th>\n",
       "    </tr>\n",
       "  </thead>\n",
       "  <tbody>\n",
       "    <tr>\n",
       "      <th>2020-02-19</th>\n",
       "      <td>-1.735096</td>\n",
       "      <td>-1.291164</td>\n",
       "      <td>-1.478018</td>\n",
       "      <td>0.566968</td>\n",
       "    </tr>\n",
       "    <tr>\n",
       "      <th>2020-02-18</th>\n",
       "      <td>-0.429897</td>\n",
       "      <td>1.344904</td>\n",
       "      <td>-0.821279</td>\n",
       "      <td>1.165238</td>\n",
       "    </tr>\n",
       "    <tr>\n",
       "      <th>2020-02-17</th>\n",
       "      <td>-0.448166</td>\n",
       "      <td>-0.052794</td>\n",
       "      <td>-0.506013</td>\n",
       "      <td>0.175998</td>\n",
       "    </tr>\n",
       "    <tr>\n",
       "      <th>2020-02-16</th>\n",
       "      <td>1.534969</td>\n",
       "      <td>-1.106458</td>\n",
       "      <td>-1.039238</td>\n",
       "      <td>0.390383</td>\n",
       "    </tr>\n",
       "    <tr>\n",
       "      <th>2020-02-15</th>\n",
       "      <td>0.359237</td>\n",
       "      <td>0.094721</td>\n",
       "      <td>0.212683</td>\n",
       "      <td>0.174753</td>\n",
       "    </tr>\n",
       "  </tbody>\n",
       "</table>\n",
       "</div>"
      ],
      "text/plain": [
       "                   A         B         C         D\n",
       "2020-02-19 -1.735096 -1.291164 -1.478018  0.566968\n",
       "2020-02-18 -0.429897  1.344904 -0.821279  1.165238\n",
       "2020-02-17 -0.448166 -0.052794 -0.506013  0.175998\n",
       "2020-02-16  1.534969 -1.106458 -1.039238  0.390383\n",
       "2020-02-15  0.359237  0.094721  0.212683  0.174753"
      ]
     },
     "execution_count": 132,
     "metadata": {},
     "output_type": "execute_result"
    }
   ],
   "source": [
    "df3.sort_index(ascending=False).head()"
   ]
  },
  {
   "cell_type": "markdown",
   "metadata": {},
   "source": [
    "#### Podemos tambem reorganizar por valor"
   ]
  },
  {
   "cell_type": "code",
   "execution_count": 135,
   "metadata": {},
   "outputs": [
    {
     "data": {
      "text/html": [
       "<div>\n",
       "<style scoped>\n",
       "    .dataframe tbody tr th:only-of-type {\n",
       "        vertical-align: middle;\n",
       "    }\n",
       "\n",
       "    .dataframe tbody tr th {\n",
       "        vertical-align: top;\n",
       "    }\n",
       "\n",
       "    .dataframe thead th {\n",
       "        text-align: right;\n",
       "    }\n",
       "</style>\n",
       "<table border=\"1\" class=\"dataframe\">\n",
       "  <thead>\n",
       "    <tr style=\"text-align: right;\">\n",
       "      <th></th>\n",
       "      <th>A</th>\n",
       "      <th>B</th>\n",
       "      <th>C</th>\n",
       "      <th>D</th>\n",
       "    </tr>\n",
       "  </thead>\n",
       "  <tbody>\n",
       "    <tr>\n",
       "      <th>2020-02-12</th>\n",
       "      <td>0.099407</td>\n",
       "      <td>-0.948089</td>\n",
       "      <td>-2.885559</td>\n",
       "      <td>-0.942135</td>\n",
       "    </tr>\n",
       "    <tr>\n",
       "      <th>2020-02-10</th>\n",
       "      <td>-0.562041</td>\n",
       "      <td>0.296520</td>\n",
       "      <td>-2.210330</td>\n",
       "      <td>-1.483440</td>\n",
       "    </tr>\n",
       "    <tr>\n",
       "      <th>2020-01-27</th>\n",
       "      <td>-0.437520</td>\n",
       "      <td>-1.676068</td>\n",
       "      <td>-2.153497</td>\n",
       "      <td>-0.097232</td>\n",
       "    </tr>\n",
       "    <tr>\n",
       "      <th>2020-02-05</th>\n",
       "      <td>0.257554</td>\n",
       "      <td>-0.827770</td>\n",
       "      <td>-2.081583</td>\n",
       "      <td>-0.484735</td>\n",
       "    </tr>\n",
       "    <tr>\n",
       "      <th>2020-01-25</th>\n",
       "      <td>0.616108</td>\n",
       "      <td>0.606208</td>\n",
       "      <td>-1.720248</td>\n",
       "      <td>0.881464</td>\n",
       "    </tr>\n",
       "  </tbody>\n",
       "</table>\n",
       "</div>"
      ],
      "text/plain": [
       "                   A         B         C         D\n",
       "2020-02-12  0.099407 -0.948089 -2.885559 -0.942135\n",
       "2020-02-10 -0.562041  0.296520 -2.210330 -1.483440\n",
       "2020-01-27 -0.437520 -1.676068 -2.153497 -0.097232\n",
       "2020-02-05  0.257554 -0.827770 -2.081583 -0.484735\n",
       "2020-01-25  0.616108  0.606208 -1.720248  0.881464"
      ]
     },
     "execution_count": 135,
     "metadata": {},
     "output_type": "execute_result"
    }
   ],
   "source": [
    "df3.sort_values(by='C').head()"
   ]
  },
  {
   "cell_type": "markdown",
   "metadata": {},
   "source": [
    "### Selecao de dados"
   ]
  },
  {
   "cell_type": "markdown",
   "metadata": {},
   "source": [
    "#### Para selecionar uma unica coluna, que nos trara uma serie"
   ]
  },
  {
   "cell_type": "code",
   "execution_count": 138,
   "metadata": {},
   "outputs": [
    {
     "data": {
      "text/plain": [
       "2020-01-01    0.060154\n",
       "2020-01-02   -0.879357\n",
       "2020-01-03    0.062244\n",
       "2020-01-04    2.489535\n",
       "2020-01-05    1.492937\n",
       "Freq: D, Name: A, dtype: float64"
      ]
     },
     "execution_count": 138,
     "metadata": {},
     "output_type": "execute_result"
    }
   ],
   "source": [
    "df3['A'].head()"
   ]
  },
  {
   "cell_type": "code",
   "execution_count": 159,
   "metadata": {},
   "outputs": [
    {
     "data": {
      "text/html": [
       "<div>\n",
       "<style scoped>\n",
       "    .dataframe tbody tr th:only-of-type {\n",
       "        vertical-align: middle;\n",
       "    }\n",
       "\n",
       "    .dataframe tbody tr th {\n",
       "        vertical-align: top;\n",
       "    }\n",
       "\n",
       "    .dataframe thead th {\n",
       "        text-align: right;\n",
       "    }\n",
       "</style>\n",
       "<table border=\"1\" class=\"dataframe\">\n",
       "  <thead>\n",
       "    <tr style=\"text-align: right;\">\n",
       "      <th></th>\n",
       "      <th>A</th>\n",
       "      <th>B</th>\n",
       "      <th>C</th>\n",
       "      <th>D</th>\n",
       "    </tr>\n",
       "  </thead>\n",
       "  <tbody>\n",
       "    <tr>\n",
       "      <th>2020-01-02</th>\n",
       "      <td>-0.879357</td>\n",
       "      <td>-1.392539</td>\n",
       "      <td>-0.227250</td>\n",
       "      <td>-1.650153</td>\n",
       "    </tr>\n",
       "    <tr>\n",
       "      <th>2020-01-03</th>\n",
       "      <td>0.062244</td>\n",
       "      <td>-1.397159</td>\n",
       "      <td>0.199508</td>\n",
       "      <td>1.869659</td>\n",
       "    </tr>\n",
       "    <tr>\n",
       "      <th>2020-01-04</th>\n",
       "      <td>2.489535</td>\n",
       "      <td>-1.050802</td>\n",
       "      <td>0.142806</td>\n",
       "      <td>-0.362285</td>\n",
       "    </tr>\n",
       "    <tr>\n",
       "      <th>2020-01-05</th>\n",
       "      <td>1.492937</td>\n",
       "      <td>-0.178271</td>\n",
       "      <td>-0.950748</td>\n",
       "      <td>1.047542</td>\n",
       "    </tr>\n",
       "  </tbody>\n",
       "</table>\n",
       "</div>"
      ],
      "text/plain": [
       "                   A         B         C         D\n",
       "2020-01-02 -0.879357 -1.392539 -0.227250 -1.650153\n",
       "2020-01-03  0.062244 -1.397159  0.199508  1.869659\n",
       "2020-01-04  2.489535 -1.050802  0.142806 -0.362285\n",
       "2020-01-05  1.492937 -0.178271 -0.950748  1.047542"
      ]
     },
     "execution_count": 159,
     "metadata": {},
     "output_type": "execute_result"
    }
   ],
   "source": [
    "df3[1:5] # dessa forma podemos fatiar a partir dos indices"
   ]
  },
  {
   "cell_type": "code",
   "execution_count": 144,
   "metadata": {},
   "outputs": [
    {
     "data": {
      "text/html": [
       "<div>\n",
       "<style scoped>\n",
       "    .dataframe tbody tr th:only-of-type {\n",
       "        vertical-align: middle;\n",
       "    }\n",
       "\n",
       "    .dataframe tbody tr th {\n",
       "        vertical-align: top;\n",
       "    }\n",
       "\n",
       "    .dataframe thead th {\n",
       "        text-align: right;\n",
       "    }\n",
       "</style>\n",
       "<table border=\"1\" class=\"dataframe\">\n",
       "  <thead>\n",
       "    <tr style=\"text-align: right;\">\n",
       "      <th></th>\n",
       "      <th>A</th>\n",
       "      <th>B</th>\n",
       "      <th>C</th>\n",
       "      <th>D</th>\n",
       "    </tr>\n",
       "  </thead>\n",
       "  <tbody>\n",
       "    <tr>\n",
       "      <th>2020-01-02</th>\n",
       "      <td>-0.879357</td>\n",
       "      <td>-1.392539</td>\n",
       "      <td>-0.227250</td>\n",
       "      <td>-1.650153</td>\n",
       "    </tr>\n",
       "    <tr>\n",
       "      <th>2020-01-03</th>\n",
       "      <td>0.062244</td>\n",
       "      <td>-1.397159</td>\n",
       "      <td>0.199508</td>\n",
       "      <td>1.869659</td>\n",
       "    </tr>\n",
       "    <tr>\n",
       "      <th>2020-01-04</th>\n",
       "      <td>2.489535</td>\n",
       "      <td>-1.050802</td>\n",
       "      <td>0.142806</td>\n",
       "      <td>-0.362285</td>\n",
       "    </tr>\n",
       "    <tr>\n",
       "      <th>2020-01-05</th>\n",
       "      <td>1.492937</td>\n",
       "      <td>-0.178271</td>\n",
       "      <td>-0.950748</td>\n",
       "      <td>1.047542</td>\n",
       "    </tr>\n",
       "  </tbody>\n",
       "</table>\n",
       "</div>"
      ],
      "text/plain": [
       "                   A         B         C         D\n",
       "2020-01-02 -0.879357 -1.392539 -0.227250 -1.650153\n",
       "2020-01-03  0.062244 -1.397159  0.199508  1.869659\n",
       "2020-01-04  2.489535 -1.050802  0.142806 -0.362285\n",
       "2020-01-05  1.492937 -0.178271 -0.950748  1.047542"
      ]
     },
     "execution_count": 144,
     "metadata": {},
     "output_type": "execute_result"
    }
   ],
   "source": [
    "df3['2020-01-02':'2020-01-05']"
   ]
  },
  {
   "cell_type": "markdown",
   "metadata": {},
   "source": [
    "#### Selecionando por label"
   ]
  },
  {
   "cell_type": "code",
   "execution_count": 161,
   "metadata": {},
   "outputs": [
    {
     "data": {
      "text/plain": [
       "A    1.489409\n",
       "B    1.133318\n",
       "C    1.330864\n",
       "D   -0.723526\n",
       "Name: 2020-02-08 00:00:00, dtype: float64"
      ]
     },
     "execution_count": 161,
     "metadata": {},
     "output_type": "execute_result"
    }
   ],
   "source": [
    "df3.loc['2020-02-08']"
   ]
  },
  {
   "cell_type": "markdown",
   "metadata": {},
   "source": [
    "##### Selecionar por label usando mais de um eixo"
   ]
  },
  {
   "cell_type": "code",
   "execution_count": 166,
   "metadata": {},
   "outputs": [
    {
     "data": {
      "text/html": [
       "<div>\n",
       "<style scoped>\n",
       "    .dataframe tbody tr th:only-of-type {\n",
       "        vertical-align: middle;\n",
       "    }\n",
       "\n",
       "    .dataframe tbody tr th {\n",
       "        vertical-align: top;\n",
       "    }\n",
       "\n",
       "    .dataframe thead th {\n",
       "        text-align: right;\n",
       "    }\n",
       "</style>\n",
       "<table border=\"1\" class=\"dataframe\">\n",
       "  <thead>\n",
       "    <tr style=\"text-align: right;\">\n",
       "      <th></th>\n",
       "      <th>A</th>\n",
       "      <th>B</th>\n",
       "      <th>C</th>\n",
       "    </tr>\n",
       "  </thead>\n",
       "  <tbody>\n",
       "    <tr>\n",
       "      <th>2020-02-08</th>\n",
       "      <td>1.489409</td>\n",
       "      <td>1.133318</td>\n",
       "      <td>1.330864</td>\n",
       "    </tr>\n",
       "    <tr>\n",
       "      <th>2020-02-09</th>\n",
       "      <td>0.994930</td>\n",
       "      <td>-0.445755</td>\n",
       "      <td>-1.526174</td>\n",
       "    </tr>\n",
       "    <tr>\n",
       "      <th>2020-02-10</th>\n",
       "      <td>-0.562041</td>\n",
       "      <td>0.296520</td>\n",
       "      <td>-2.210330</td>\n",
       "    </tr>\n",
       "    <tr>\n",
       "      <th>2020-02-11</th>\n",
       "      <td>0.575519</td>\n",
       "      <td>0.861960</td>\n",
       "      <td>-1.139410</td>\n",
       "    </tr>\n",
       "    <tr>\n",
       "      <th>2020-02-12</th>\n",
       "      <td>0.099407</td>\n",
       "      <td>-0.948089</td>\n",
       "      <td>-2.885559</td>\n",
       "    </tr>\n",
       "    <tr>\n",
       "      <th>2020-02-13</th>\n",
       "      <td>0.181300</td>\n",
       "      <td>1.765904</td>\n",
       "      <td>1.372232</td>\n",
       "    </tr>\n",
       "  </tbody>\n",
       "</table>\n",
       "</div>"
      ],
      "text/plain": [
       "                   A         B         C\n",
       "2020-02-08  1.489409  1.133318  1.330864\n",
       "2020-02-09  0.994930 -0.445755 -1.526174\n",
       "2020-02-10 -0.562041  0.296520 -2.210330\n",
       "2020-02-11  0.575519  0.861960 -1.139410\n",
       "2020-02-12  0.099407 -0.948089 -2.885559\n",
       "2020-02-13  0.181300  1.765904  1.372232"
      ]
     },
     "execution_count": 166,
     "metadata": {},
     "output_type": "execute_result"
    }
   ],
   "source": [
    "df3.loc['2020-02-08':'2020-02-13', 'A':'C']"
   ]
  },
  {
   "cell_type": "code",
   "execution_count": 168,
   "metadata": {},
   "outputs": [
    {
     "data": {
      "text/plain": [
       "0.4289442492714167"
      ]
     },
     "execution_count": 168,
     "metadata": {},
     "output_type": "execute_result"
    }
   ],
   "source": [
    "df3.loc['2020-02-03', 'D'] # para selecionar um valor escalar"
   ]
  },
  {
   "cell_type": "markdown",
   "metadata": {},
   "source": [
    "### Selecionar por posição (integer)"
   ]
  },
  {
   "cell_type": "code",
   "execution_count": 170,
   "metadata": {},
   "outputs": [
    {
     "data": {
      "text/plain": [
       "A    2.489535\n",
       "B   -1.050802\n",
       "C    0.142806\n",
       "D   -0.362285\n",
       "Name: 2020-01-04 00:00:00, dtype: float64"
      ]
     },
     "execution_count": 170,
     "metadata": {},
     "output_type": "execute_result"
    }
   ],
   "source": [
    "df3.iloc[3]"
   ]
  },
  {
   "cell_type": "markdown",
   "metadata": {},
   "source": [
    "#### Fatiando por varios eixos"
   ]
  },
  {
   "cell_type": "code",
   "execution_count": 171,
   "metadata": {},
   "outputs": [
    {
     "data": {
      "text/html": [
       "<div>\n",
       "<style scoped>\n",
       "    .dataframe tbody tr th:only-of-type {\n",
       "        vertical-align: middle;\n",
       "    }\n",
       "\n",
       "    .dataframe tbody tr th {\n",
       "        vertical-align: top;\n",
       "    }\n",
       "\n",
       "    .dataframe thead th {\n",
       "        text-align: right;\n",
       "    }\n",
       "</style>\n",
       "<table border=\"1\" class=\"dataframe\">\n",
       "  <thead>\n",
       "    <tr style=\"text-align: right;\">\n",
       "      <th></th>\n",
       "      <th>B</th>\n",
       "      <th>C</th>\n",
       "    </tr>\n",
       "  </thead>\n",
       "  <tbody>\n",
       "    <tr>\n",
       "      <th>2020-01-01</th>\n",
       "      <td>0.718504</td>\n",
       "      <td>-0.699011</td>\n",
       "    </tr>\n",
       "    <tr>\n",
       "      <th>2020-01-02</th>\n",
       "      <td>-1.392539</td>\n",
       "      <td>-0.227250</td>\n",
       "    </tr>\n",
       "  </tbody>\n",
       "</table>\n",
       "</div>"
      ],
      "text/plain": [
       "                   B         C\n",
       "2020-01-01  0.718504 -0.699011\n",
       "2020-01-02 -1.392539 -0.227250"
      ]
     },
     "execution_count": 171,
     "metadata": {},
     "output_type": "execute_result"
    }
   ],
   "source": [
    "df3.iloc[0:2, 1:3]"
   ]
  },
  {
   "cell_type": "code",
   "execution_count": 175,
   "metadata": {},
   "outputs": [
    {
     "data": {
      "text/html": [
       "<div>\n",
       "<style scoped>\n",
       "    .dataframe tbody tr th:only-of-type {\n",
       "        vertical-align: middle;\n",
       "    }\n",
       "\n",
       "    .dataframe tbody tr th {\n",
       "        vertical-align: top;\n",
       "    }\n",
       "\n",
       "    .dataframe thead th {\n",
       "        text-align: right;\n",
       "    }\n",
       "</style>\n",
       "<table border=\"1\" class=\"dataframe\">\n",
       "  <thead>\n",
       "    <tr style=\"text-align: right;\">\n",
       "      <th></th>\n",
       "      <th>B</th>\n",
       "      <th>C</th>\n",
       "    </tr>\n",
       "  </thead>\n",
       "  <tbody>\n",
       "    <tr>\n",
       "      <th>2020-01-01</th>\n",
       "      <td>0.718504</td>\n",
       "      <td>-0.699011</td>\n",
       "    </tr>\n",
       "    <tr>\n",
       "      <th>2020-01-03</th>\n",
       "      <td>-1.397159</td>\n",
       "      <td>0.199508</td>\n",
       "    </tr>\n",
       "    <tr>\n",
       "      <th>2020-01-11</th>\n",
       "      <td>-0.448366</td>\n",
       "      <td>0.565571</td>\n",
       "    </tr>\n",
       "  </tbody>\n",
       "</table>\n",
       "</div>"
      ],
      "text/plain": [
       "                   B         C\n",
       "2020-01-01  0.718504 -0.699011\n",
       "2020-01-03 -1.397159  0.199508\n",
       "2020-01-11 -0.448366  0.565571"
      ]
     },
     "execution_count": 175,
     "metadata": {},
     "output_type": "execute_result"
    }
   ],
   "source": [
    "df3.iloc[[0,2,10], [1,2]]"
   ]
  },
  {
   "cell_type": "code",
   "execution_count": 184,
   "metadata": {},
   "outputs": [
    {
     "data": {
      "text/html": [
       "<div>\n",
       "<style scoped>\n",
       "    .dataframe tbody tr th:only-of-type {\n",
       "        vertical-align: middle;\n",
       "    }\n",
       "\n",
       "    .dataframe tbody tr th {\n",
       "        vertical-align: top;\n",
       "    }\n",
       "\n",
       "    .dataframe thead th {\n",
       "        text-align: right;\n",
       "    }\n",
       "</style>\n",
       "<table border=\"1\" class=\"dataframe\">\n",
       "  <thead>\n",
       "    <tr style=\"text-align: right;\">\n",
       "      <th></th>\n",
       "      <th>A</th>\n",
       "      <th>B</th>\n",
       "      <th>C</th>\n",
       "      <th>D</th>\n",
       "    </tr>\n",
       "  </thead>\n",
       "  <tbody>\n",
       "    <tr>\n",
       "      <th>2020-01-01</th>\n",
       "      <td>0.060154</td>\n",
       "      <td>0.718504</td>\n",
       "      <td>-0.699011</td>\n",
       "      <td>0.252951</td>\n",
       "    </tr>\n",
       "    <tr>\n",
       "      <th>2020-01-02</th>\n",
       "      <td>-0.879357</td>\n",
       "      <td>-1.392539</td>\n",
       "      <td>-0.227250</td>\n",
       "      <td>-1.650153</td>\n",
       "    </tr>\n",
       "    <tr>\n",
       "      <th>2020-01-03</th>\n",
       "      <td>0.062244</td>\n",
       "      <td>-1.397159</td>\n",
       "      <td>0.199508</td>\n",
       "      <td>1.869659</td>\n",
       "    </tr>\n",
       "  </tbody>\n",
       "</table>\n",
       "</div>"
      ],
      "text/plain": [
       "                   A         B         C         D\n",
       "2020-01-01  0.060154  0.718504 -0.699011  0.252951\n",
       "2020-01-02 -0.879357 -1.392539 -0.227250 -1.650153\n",
       "2020-01-03  0.062244 -1.397159  0.199508  1.869659"
      ]
     },
     "execution_count": 184,
     "metadata": {},
     "output_type": "execute_result"
    }
   ],
   "source": [
    "df3.iloc[0:3, :] # para fatiar somente linhas"
   ]
  },
  {
   "cell_type": "code",
   "execution_count": 185,
   "metadata": {},
   "outputs": [
    {
     "data": {
      "text/html": [
       "<div>\n",
       "<style scoped>\n",
       "    .dataframe tbody tr th:only-of-type {\n",
       "        vertical-align: middle;\n",
       "    }\n",
       "\n",
       "    .dataframe tbody tr th {\n",
       "        vertical-align: top;\n",
       "    }\n",
       "\n",
       "    .dataframe thead th {\n",
       "        text-align: right;\n",
       "    }\n",
       "</style>\n",
       "<table border=\"1\" class=\"dataframe\">\n",
       "  <thead>\n",
       "    <tr style=\"text-align: right;\">\n",
       "      <th></th>\n",
       "      <th>B</th>\n",
       "      <th>C</th>\n",
       "    </tr>\n",
       "  </thead>\n",
       "  <tbody>\n",
       "    <tr>\n",
       "      <th>2020-01-01</th>\n",
       "      <td>0.718504</td>\n",
       "      <td>-0.699011</td>\n",
       "    </tr>\n",
       "    <tr>\n",
       "      <th>2020-01-02</th>\n",
       "      <td>-1.392539</td>\n",
       "      <td>-0.227250</td>\n",
       "    </tr>\n",
       "    <tr>\n",
       "      <th>2020-01-03</th>\n",
       "      <td>-1.397159</td>\n",
       "      <td>0.199508</td>\n",
       "    </tr>\n",
       "    <tr>\n",
       "      <th>2020-01-04</th>\n",
       "      <td>-1.050802</td>\n",
       "      <td>0.142806</td>\n",
       "    </tr>\n",
       "    <tr>\n",
       "      <th>2020-01-05</th>\n",
       "      <td>-0.178271</td>\n",
       "      <td>-0.950748</td>\n",
       "    </tr>\n",
       "  </tbody>\n",
       "</table>\n",
       "</div>"
      ],
      "text/plain": [
       "                   B         C\n",
       "2020-01-01  0.718504 -0.699011\n",
       "2020-01-02 -1.392539 -0.227250\n",
       "2020-01-03 -1.397159  0.199508\n",
       "2020-01-04 -1.050802  0.142806\n",
       "2020-01-05 -0.178271 -0.950748"
      ]
     },
     "execution_count": 185,
     "metadata": {},
     "output_type": "execute_result"
    }
   ],
   "source": [
    "df3.iloc[:,1:3].head() # para fatiar somente colunas"
   ]
  },
  {
   "cell_type": "code",
   "execution_count": 188,
   "metadata": {},
   "outputs": [
    {
     "data": {
      "text/plain": [
       "-0.22725040030837926"
      ]
     },
     "execution_count": 188,
     "metadata": {},
     "output_type": "execute_result"
    }
   ],
   "source": [
    "df3.iloc[1,2] # para retornar um valor especifico"
   ]
  },
  {
   "cell_type": "markdown",
   "metadata": {},
   "source": [
    "#### Boolean Indexing"
   ]
  },
  {
   "cell_type": "code",
   "execution_count": 190,
   "metadata": {},
   "outputs": [
    {
     "data": {
      "text/html": [
       "<div>\n",
       "<style scoped>\n",
       "    .dataframe tbody tr th:only-of-type {\n",
       "        vertical-align: middle;\n",
       "    }\n",
       "\n",
       "    .dataframe tbody tr th {\n",
       "        vertical-align: top;\n",
       "    }\n",
       "\n",
       "    .dataframe thead th {\n",
       "        text-align: right;\n",
       "    }\n",
       "</style>\n",
       "<table border=\"1\" class=\"dataframe\">\n",
       "  <thead>\n",
       "    <tr style=\"text-align: right;\">\n",
       "      <th></th>\n",
       "      <th>A</th>\n",
       "      <th>B</th>\n",
       "      <th>C</th>\n",
       "      <th>D</th>\n",
       "    </tr>\n",
       "  </thead>\n",
       "  <tbody>\n",
       "    <tr>\n",
       "      <th>2020-01-01</th>\n",
       "      <td>0.060154</td>\n",
       "      <td>0.718504</td>\n",
       "      <td>-0.699011</td>\n",
       "      <td>0.252951</td>\n",
       "    </tr>\n",
       "    <tr>\n",
       "      <th>2020-01-03</th>\n",
       "      <td>0.062244</td>\n",
       "      <td>-1.397159</td>\n",
       "      <td>0.199508</td>\n",
       "      <td>1.869659</td>\n",
       "    </tr>\n",
       "    <tr>\n",
       "      <th>2020-01-04</th>\n",
       "      <td>2.489535</td>\n",
       "      <td>-1.050802</td>\n",
       "      <td>0.142806</td>\n",
       "      <td>-0.362285</td>\n",
       "    </tr>\n",
       "    <tr>\n",
       "      <th>2020-01-05</th>\n",
       "      <td>1.492937</td>\n",
       "      <td>-0.178271</td>\n",
       "      <td>-0.950748</td>\n",
       "      <td>1.047542</td>\n",
       "    </tr>\n",
       "    <tr>\n",
       "      <th>2020-01-07</th>\n",
       "      <td>1.155720</td>\n",
       "      <td>-0.005995</td>\n",
       "      <td>0.625575</td>\n",
       "      <td>-0.381408</td>\n",
       "    </tr>\n",
       "    <tr>\n",
       "      <th>2020-01-08</th>\n",
       "      <td>0.453506</td>\n",
       "      <td>-1.052147</td>\n",
       "      <td>1.580398</td>\n",
       "      <td>-1.175469</td>\n",
       "    </tr>\n",
       "    <tr>\n",
       "      <th>2020-01-10</th>\n",
       "      <td>0.296041</td>\n",
       "      <td>0.297209</td>\n",
       "      <td>0.847920</td>\n",
       "      <td>0.143941</td>\n",
       "    </tr>\n",
       "    <tr>\n",
       "      <th>2020-01-11</th>\n",
       "      <td>0.078246</td>\n",
       "      <td>-0.448366</td>\n",
       "      <td>0.565571</td>\n",
       "      <td>-0.853886</td>\n",
       "    </tr>\n",
       "    <tr>\n",
       "      <th>2020-01-14</th>\n",
       "      <td>0.842701</td>\n",
       "      <td>0.110357</td>\n",
       "      <td>1.712637</td>\n",
       "      <td>0.180081</td>\n",
       "    </tr>\n",
       "    <tr>\n",
       "      <th>2020-01-16</th>\n",
       "      <td>0.708097</td>\n",
       "      <td>-0.889243</td>\n",
       "      <td>0.585820</td>\n",
       "      <td>-1.320292</td>\n",
       "    </tr>\n",
       "    <tr>\n",
       "      <th>2020-01-18</th>\n",
       "      <td>0.208290</td>\n",
       "      <td>-0.451150</td>\n",
       "      <td>1.563768</td>\n",
       "      <td>0.858494</td>\n",
       "    </tr>\n",
       "    <tr>\n",
       "      <th>2020-01-20</th>\n",
       "      <td>0.026114</td>\n",
       "      <td>-0.380932</td>\n",
       "      <td>-0.121792</td>\n",
       "      <td>-0.622630</td>\n",
       "    </tr>\n",
       "    <tr>\n",
       "      <th>2020-01-21</th>\n",
       "      <td>0.010680</td>\n",
       "      <td>-0.233393</td>\n",
       "      <td>0.512138</td>\n",
       "      <td>0.377135</td>\n",
       "    </tr>\n",
       "    <tr>\n",
       "      <th>2020-01-24</th>\n",
       "      <td>0.345686</td>\n",
       "      <td>-1.182235</td>\n",
       "      <td>1.371795</td>\n",
       "      <td>-0.333665</td>\n",
       "    </tr>\n",
       "    <tr>\n",
       "      <th>2020-01-25</th>\n",
       "      <td>0.616108</td>\n",
       "      <td>0.606208</td>\n",
       "      <td>-1.720248</td>\n",
       "      <td>0.881464</td>\n",
       "    </tr>\n",
       "    <tr>\n",
       "      <th>2020-01-26</th>\n",
       "      <td>0.574754</td>\n",
       "      <td>-0.858988</td>\n",
       "      <td>-0.077275</td>\n",
       "      <td>0.013739</td>\n",
       "    </tr>\n",
       "    <tr>\n",
       "      <th>2020-01-29</th>\n",
       "      <td>0.305220</td>\n",
       "      <td>1.743578</td>\n",
       "      <td>0.874592</td>\n",
       "      <td>1.887615</td>\n",
       "    </tr>\n",
       "    <tr>\n",
       "      <th>2020-01-30</th>\n",
       "      <td>0.593733</td>\n",
       "      <td>-0.674906</td>\n",
       "      <td>1.269596</td>\n",
       "      <td>0.836867</td>\n",
       "    </tr>\n",
       "    <tr>\n",
       "      <th>2020-01-31</th>\n",
       "      <td>1.714771</td>\n",
       "      <td>-0.965457</td>\n",
       "      <td>1.100071</td>\n",
       "      <td>-0.091997</td>\n",
       "    </tr>\n",
       "    <tr>\n",
       "      <th>2020-02-01</th>\n",
       "      <td>0.491580</td>\n",
       "      <td>0.452546</td>\n",
       "      <td>-1.124146</td>\n",
       "      <td>0.295499</td>\n",
       "    </tr>\n",
       "    <tr>\n",
       "      <th>2020-02-04</th>\n",
       "      <td>1.468738</td>\n",
       "      <td>0.686806</td>\n",
       "      <td>2.719943</td>\n",
       "      <td>-0.994130</td>\n",
       "    </tr>\n",
       "    <tr>\n",
       "      <th>2020-02-05</th>\n",
       "      <td>0.257554</td>\n",
       "      <td>-0.827770</td>\n",
       "      <td>-2.081583</td>\n",
       "      <td>-0.484735</td>\n",
       "    </tr>\n",
       "    <tr>\n",
       "      <th>2020-02-06</th>\n",
       "      <td>0.075053</td>\n",
       "      <td>0.560330</td>\n",
       "      <td>2.070199</td>\n",
       "      <td>0.843031</td>\n",
       "    </tr>\n",
       "    <tr>\n",
       "      <th>2020-02-08</th>\n",
       "      <td>1.489409</td>\n",
       "      <td>1.133318</td>\n",
       "      <td>1.330864</td>\n",
       "      <td>-0.723526</td>\n",
       "    </tr>\n",
       "    <tr>\n",
       "      <th>2020-02-09</th>\n",
       "      <td>0.994930</td>\n",
       "      <td>-0.445755</td>\n",
       "      <td>-1.526174</td>\n",
       "      <td>1.265552</td>\n",
       "    </tr>\n",
       "    <tr>\n",
       "      <th>2020-02-11</th>\n",
       "      <td>0.575519</td>\n",
       "      <td>0.861960</td>\n",
       "      <td>-1.139410</td>\n",
       "      <td>-2.237904</td>\n",
       "    </tr>\n",
       "    <tr>\n",
       "      <th>2020-02-12</th>\n",
       "      <td>0.099407</td>\n",
       "      <td>-0.948089</td>\n",
       "      <td>-2.885559</td>\n",
       "      <td>-0.942135</td>\n",
       "    </tr>\n",
       "    <tr>\n",
       "      <th>2020-02-13</th>\n",
       "      <td>0.181300</td>\n",
       "      <td>1.765904</td>\n",
       "      <td>1.372232</td>\n",
       "      <td>1.384885</td>\n",
       "    </tr>\n",
       "    <tr>\n",
       "      <th>2020-02-15</th>\n",
       "      <td>0.359237</td>\n",
       "      <td>0.094721</td>\n",
       "      <td>0.212683</td>\n",
       "      <td>0.174753</td>\n",
       "    </tr>\n",
       "    <tr>\n",
       "      <th>2020-02-16</th>\n",
       "      <td>1.534969</td>\n",
       "      <td>-1.106458</td>\n",
       "      <td>-1.039238</td>\n",
       "      <td>0.390383</td>\n",
       "    </tr>\n",
       "  </tbody>\n",
       "</table>\n",
       "</div>"
      ],
      "text/plain": [
       "                   A         B         C         D\n",
       "2020-01-01  0.060154  0.718504 -0.699011  0.252951\n",
       "2020-01-03  0.062244 -1.397159  0.199508  1.869659\n",
       "2020-01-04  2.489535 -1.050802  0.142806 -0.362285\n",
       "2020-01-05  1.492937 -0.178271 -0.950748  1.047542\n",
       "2020-01-07  1.155720 -0.005995  0.625575 -0.381408\n",
       "2020-01-08  0.453506 -1.052147  1.580398 -1.175469\n",
       "2020-01-10  0.296041  0.297209  0.847920  0.143941\n",
       "2020-01-11  0.078246 -0.448366  0.565571 -0.853886\n",
       "2020-01-14  0.842701  0.110357  1.712637  0.180081\n",
       "2020-01-16  0.708097 -0.889243  0.585820 -1.320292\n",
       "2020-01-18  0.208290 -0.451150  1.563768  0.858494\n",
       "2020-01-20  0.026114 -0.380932 -0.121792 -0.622630\n",
       "2020-01-21  0.010680 -0.233393  0.512138  0.377135\n",
       "2020-01-24  0.345686 -1.182235  1.371795 -0.333665\n",
       "2020-01-25  0.616108  0.606208 -1.720248  0.881464\n",
       "2020-01-26  0.574754 -0.858988 -0.077275  0.013739\n",
       "2020-01-29  0.305220  1.743578  0.874592  1.887615\n",
       "2020-01-30  0.593733 -0.674906  1.269596  0.836867\n",
       "2020-01-31  1.714771 -0.965457  1.100071 -0.091997\n",
       "2020-02-01  0.491580  0.452546 -1.124146  0.295499\n",
       "2020-02-04  1.468738  0.686806  2.719943 -0.994130\n",
       "2020-02-05  0.257554 -0.827770 -2.081583 -0.484735\n",
       "2020-02-06  0.075053  0.560330  2.070199  0.843031\n",
       "2020-02-08  1.489409  1.133318  1.330864 -0.723526\n",
       "2020-02-09  0.994930 -0.445755 -1.526174  1.265552\n",
       "2020-02-11  0.575519  0.861960 -1.139410 -2.237904\n",
       "2020-02-12  0.099407 -0.948089 -2.885559 -0.942135\n",
       "2020-02-13  0.181300  1.765904  1.372232  1.384885\n",
       "2020-02-15  0.359237  0.094721  0.212683  0.174753\n",
       "2020-02-16  1.534969 -1.106458 -1.039238  0.390383"
      ]
     },
     "execution_count": 190,
     "metadata": {},
     "output_type": "execute_result"
    }
   ],
   "source": [
    "df3[df3['A'] > 0] # retorna um dataframe onde so mostra os valores da coluna A maiores que 0"
   ]
  },
  {
   "cell_type": "code",
   "execution_count": 192,
   "metadata": {},
   "outputs": [
    {
     "data": {
      "text/html": [
       "<div>\n",
       "<style scoped>\n",
       "    .dataframe tbody tr th:only-of-type {\n",
       "        vertical-align: middle;\n",
       "    }\n",
       "\n",
       "    .dataframe tbody tr th {\n",
       "        vertical-align: top;\n",
       "    }\n",
       "\n",
       "    .dataframe thead th {\n",
       "        text-align: right;\n",
       "    }\n",
       "</style>\n",
       "<table border=\"1\" class=\"dataframe\">\n",
       "  <thead>\n",
       "    <tr style=\"text-align: right;\">\n",
       "      <th></th>\n",
       "      <th>A</th>\n",
       "      <th>B</th>\n",
       "      <th>C</th>\n",
       "      <th>D</th>\n",
       "    </tr>\n",
       "  </thead>\n",
       "  <tbody>\n",
       "    <tr>\n",
       "      <th>2020-01-01</th>\n",
       "      <td>0.060154</td>\n",
       "      <td>0.718504</td>\n",
       "      <td>NaN</td>\n",
       "      <td>0.252951</td>\n",
       "    </tr>\n",
       "    <tr>\n",
       "      <th>2020-01-02</th>\n",
       "      <td>NaN</td>\n",
       "      <td>NaN</td>\n",
       "      <td>NaN</td>\n",
       "      <td>NaN</td>\n",
       "    </tr>\n",
       "    <tr>\n",
       "      <th>2020-01-03</th>\n",
       "      <td>0.062244</td>\n",
       "      <td>NaN</td>\n",
       "      <td>0.199508</td>\n",
       "      <td>1.869659</td>\n",
       "    </tr>\n",
       "    <tr>\n",
       "      <th>2020-01-04</th>\n",
       "      <td>2.489535</td>\n",
       "      <td>NaN</td>\n",
       "      <td>0.142806</td>\n",
       "      <td>NaN</td>\n",
       "    </tr>\n",
       "    <tr>\n",
       "      <th>2020-01-05</th>\n",
       "      <td>1.492937</td>\n",
       "      <td>NaN</td>\n",
       "      <td>NaN</td>\n",
       "      <td>1.047542</td>\n",
       "    </tr>\n",
       "    <tr>\n",
       "      <th>2020-01-06</th>\n",
       "      <td>NaN</td>\n",
       "      <td>NaN</td>\n",
       "      <td>NaN</td>\n",
       "      <td>0.875181</td>\n",
       "    </tr>\n",
       "    <tr>\n",
       "      <th>2020-01-07</th>\n",
       "      <td>1.155720</td>\n",
       "      <td>NaN</td>\n",
       "      <td>0.625575</td>\n",
       "      <td>NaN</td>\n",
       "    </tr>\n",
       "    <tr>\n",
       "      <th>2020-01-08</th>\n",
       "      <td>0.453506</td>\n",
       "      <td>NaN</td>\n",
       "      <td>1.580398</td>\n",
       "      <td>NaN</td>\n",
       "    </tr>\n",
       "    <tr>\n",
       "      <th>2020-01-09</th>\n",
       "      <td>NaN</td>\n",
       "      <td>0.569353</td>\n",
       "      <td>NaN</td>\n",
       "      <td>0.362153</td>\n",
       "    </tr>\n",
       "    <tr>\n",
       "      <th>2020-01-10</th>\n",
       "      <td>0.296041</td>\n",
       "      <td>0.297209</td>\n",
       "      <td>0.847920</td>\n",
       "      <td>0.143941</td>\n",
       "    </tr>\n",
       "    <tr>\n",
       "      <th>2020-01-11</th>\n",
       "      <td>0.078246</td>\n",
       "      <td>NaN</td>\n",
       "      <td>0.565571</td>\n",
       "      <td>NaN</td>\n",
       "    </tr>\n",
       "    <tr>\n",
       "      <th>2020-01-12</th>\n",
       "      <td>NaN</td>\n",
       "      <td>1.068790</td>\n",
       "      <td>NaN</td>\n",
       "      <td>NaN</td>\n",
       "    </tr>\n",
       "    <tr>\n",
       "      <th>2020-01-13</th>\n",
       "      <td>NaN</td>\n",
       "      <td>1.404796</td>\n",
       "      <td>0.210019</td>\n",
       "      <td>NaN</td>\n",
       "    </tr>\n",
       "    <tr>\n",
       "      <th>2020-01-14</th>\n",
       "      <td>0.842701</td>\n",
       "      <td>0.110357</td>\n",
       "      <td>1.712637</td>\n",
       "      <td>0.180081</td>\n",
       "    </tr>\n",
       "    <tr>\n",
       "      <th>2020-01-15</th>\n",
       "      <td>NaN</td>\n",
       "      <td>NaN</td>\n",
       "      <td>0.624693</td>\n",
       "      <td>NaN</td>\n",
       "    </tr>\n",
       "    <tr>\n",
       "      <th>2020-01-16</th>\n",
       "      <td>0.708097</td>\n",
       "      <td>NaN</td>\n",
       "      <td>0.585820</td>\n",
       "      <td>NaN</td>\n",
       "    </tr>\n",
       "    <tr>\n",
       "      <th>2020-01-17</th>\n",
       "      <td>NaN</td>\n",
       "      <td>0.333185</td>\n",
       "      <td>NaN</td>\n",
       "      <td>0.538315</td>\n",
       "    </tr>\n",
       "    <tr>\n",
       "      <th>2020-01-18</th>\n",
       "      <td>0.208290</td>\n",
       "      <td>NaN</td>\n",
       "      <td>1.563768</td>\n",
       "      <td>0.858494</td>\n",
       "    </tr>\n",
       "    <tr>\n",
       "      <th>2020-01-19</th>\n",
       "      <td>NaN</td>\n",
       "      <td>0.332162</td>\n",
       "      <td>NaN</td>\n",
       "      <td>1.100783</td>\n",
       "    </tr>\n",
       "    <tr>\n",
       "      <th>2020-01-20</th>\n",
       "      <td>0.026114</td>\n",
       "      <td>NaN</td>\n",
       "      <td>NaN</td>\n",
       "      <td>NaN</td>\n",
       "    </tr>\n",
       "    <tr>\n",
       "      <th>2020-01-21</th>\n",
       "      <td>0.010680</td>\n",
       "      <td>NaN</td>\n",
       "      <td>0.512138</td>\n",
       "      <td>0.377135</td>\n",
       "    </tr>\n",
       "    <tr>\n",
       "      <th>2020-01-22</th>\n",
       "      <td>NaN</td>\n",
       "      <td>1.509114</td>\n",
       "      <td>NaN</td>\n",
       "      <td>0.016750</td>\n",
       "    </tr>\n",
       "    <tr>\n",
       "      <th>2020-01-23</th>\n",
       "      <td>NaN</td>\n",
       "      <td>NaN</td>\n",
       "      <td>1.375960</td>\n",
       "      <td>NaN</td>\n",
       "    </tr>\n",
       "    <tr>\n",
       "      <th>2020-01-24</th>\n",
       "      <td>0.345686</td>\n",
       "      <td>NaN</td>\n",
       "      <td>1.371795</td>\n",
       "      <td>NaN</td>\n",
       "    </tr>\n",
       "    <tr>\n",
       "      <th>2020-01-25</th>\n",
       "      <td>0.616108</td>\n",
       "      <td>0.606208</td>\n",
       "      <td>NaN</td>\n",
       "      <td>0.881464</td>\n",
       "    </tr>\n",
       "    <tr>\n",
       "      <th>2020-01-26</th>\n",
       "      <td>0.574754</td>\n",
       "      <td>NaN</td>\n",
       "      <td>NaN</td>\n",
       "      <td>0.013739</td>\n",
       "    </tr>\n",
       "    <tr>\n",
       "      <th>2020-01-27</th>\n",
       "      <td>NaN</td>\n",
       "      <td>NaN</td>\n",
       "      <td>NaN</td>\n",
       "      <td>NaN</td>\n",
       "    </tr>\n",
       "    <tr>\n",
       "      <th>2020-01-28</th>\n",
       "      <td>NaN</td>\n",
       "      <td>0.037536</td>\n",
       "      <td>NaN</td>\n",
       "      <td>1.617875</td>\n",
       "    </tr>\n",
       "    <tr>\n",
       "      <th>2020-01-29</th>\n",
       "      <td>0.305220</td>\n",
       "      <td>1.743578</td>\n",
       "      <td>0.874592</td>\n",
       "      <td>1.887615</td>\n",
       "    </tr>\n",
       "    <tr>\n",
       "      <th>2020-01-30</th>\n",
       "      <td>0.593733</td>\n",
       "      <td>NaN</td>\n",
       "      <td>1.269596</td>\n",
       "      <td>0.836867</td>\n",
       "    </tr>\n",
       "    <tr>\n",
       "      <th>2020-01-31</th>\n",
       "      <td>1.714771</td>\n",
       "      <td>NaN</td>\n",
       "      <td>1.100071</td>\n",
       "      <td>NaN</td>\n",
       "    </tr>\n",
       "    <tr>\n",
       "      <th>2020-02-01</th>\n",
       "      <td>0.491580</td>\n",
       "      <td>0.452546</td>\n",
       "      <td>NaN</td>\n",
       "      <td>0.295499</td>\n",
       "    </tr>\n",
       "    <tr>\n",
       "      <th>2020-02-02</th>\n",
       "      <td>NaN</td>\n",
       "      <td>0.875810</td>\n",
       "      <td>NaN</td>\n",
       "      <td>NaN</td>\n",
       "    </tr>\n",
       "    <tr>\n",
       "      <th>2020-02-03</th>\n",
       "      <td>NaN</td>\n",
       "      <td>0.030479</td>\n",
       "      <td>NaN</td>\n",
       "      <td>0.428944</td>\n",
       "    </tr>\n",
       "    <tr>\n",
       "      <th>2020-02-04</th>\n",
       "      <td>1.468738</td>\n",
       "      <td>0.686806</td>\n",
       "      <td>2.719943</td>\n",
       "      <td>NaN</td>\n",
       "    </tr>\n",
       "    <tr>\n",
       "      <th>2020-02-05</th>\n",
       "      <td>0.257554</td>\n",
       "      <td>NaN</td>\n",
       "      <td>NaN</td>\n",
       "      <td>NaN</td>\n",
       "    </tr>\n",
       "    <tr>\n",
       "      <th>2020-02-06</th>\n",
       "      <td>0.075053</td>\n",
       "      <td>0.560330</td>\n",
       "      <td>2.070199</td>\n",
       "      <td>0.843031</td>\n",
       "    </tr>\n",
       "    <tr>\n",
       "      <th>2020-02-07</th>\n",
       "      <td>NaN</td>\n",
       "      <td>NaN</td>\n",
       "      <td>1.056589</td>\n",
       "      <td>0.331491</td>\n",
       "    </tr>\n",
       "    <tr>\n",
       "      <th>2020-02-08</th>\n",
       "      <td>1.489409</td>\n",
       "      <td>1.133318</td>\n",
       "      <td>1.330864</td>\n",
       "      <td>NaN</td>\n",
       "    </tr>\n",
       "    <tr>\n",
       "      <th>2020-02-09</th>\n",
       "      <td>0.994930</td>\n",
       "      <td>NaN</td>\n",
       "      <td>NaN</td>\n",
       "      <td>1.265552</td>\n",
       "    </tr>\n",
       "    <tr>\n",
       "      <th>2020-02-10</th>\n",
       "      <td>NaN</td>\n",
       "      <td>0.296520</td>\n",
       "      <td>NaN</td>\n",
       "      <td>NaN</td>\n",
       "    </tr>\n",
       "    <tr>\n",
       "      <th>2020-02-11</th>\n",
       "      <td>0.575519</td>\n",
       "      <td>0.861960</td>\n",
       "      <td>NaN</td>\n",
       "      <td>NaN</td>\n",
       "    </tr>\n",
       "    <tr>\n",
       "      <th>2020-02-12</th>\n",
       "      <td>0.099407</td>\n",
       "      <td>NaN</td>\n",
       "      <td>NaN</td>\n",
       "      <td>NaN</td>\n",
       "    </tr>\n",
       "    <tr>\n",
       "      <th>2020-02-13</th>\n",
       "      <td>0.181300</td>\n",
       "      <td>1.765904</td>\n",
       "      <td>1.372232</td>\n",
       "      <td>1.384885</td>\n",
       "    </tr>\n",
       "    <tr>\n",
       "      <th>2020-02-14</th>\n",
       "      <td>NaN</td>\n",
       "      <td>NaN</td>\n",
       "      <td>1.236994</td>\n",
       "      <td>NaN</td>\n",
       "    </tr>\n",
       "    <tr>\n",
       "      <th>2020-02-15</th>\n",
       "      <td>0.359237</td>\n",
       "      <td>0.094721</td>\n",
       "      <td>0.212683</td>\n",
       "      <td>0.174753</td>\n",
       "    </tr>\n",
       "    <tr>\n",
       "      <th>2020-02-16</th>\n",
       "      <td>1.534969</td>\n",
       "      <td>NaN</td>\n",
       "      <td>NaN</td>\n",
       "      <td>0.390383</td>\n",
       "    </tr>\n",
       "    <tr>\n",
       "      <th>2020-02-17</th>\n",
       "      <td>NaN</td>\n",
       "      <td>NaN</td>\n",
       "      <td>NaN</td>\n",
       "      <td>0.175998</td>\n",
       "    </tr>\n",
       "    <tr>\n",
       "      <th>2020-02-18</th>\n",
       "      <td>NaN</td>\n",
       "      <td>1.344904</td>\n",
       "      <td>NaN</td>\n",
       "      <td>1.165238</td>\n",
       "    </tr>\n",
       "    <tr>\n",
       "      <th>2020-02-19</th>\n",
       "      <td>NaN</td>\n",
       "      <td>NaN</td>\n",
       "      <td>NaN</td>\n",
       "      <td>0.566968</td>\n",
       "    </tr>\n",
       "  </tbody>\n",
       "</table>\n",
       "</div>"
      ],
      "text/plain": [
       "                   A         B         C         D\n",
       "2020-01-01  0.060154  0.718504       NaN  0.252951\n",
       "2020-01-02       NaN       NaN       NaN       NaN\n",
       "2020-01-03  0.062244       NaN  0.199508  1.869659\n",
       "2020-01-04  2.489535       NaN  0.142806       NaN\n",
       "2020-01-05  1.492937       NaN       NaN  1.047542\n",
       "2020-01-06       NaN       NaN       NaN  0.875181\n",
       "2020-01-07  1.155720       NaN  0.625575       NaN\n",
       "2020-01-08  0.453506       NaN  1.580398       NaN\n",
       "2020-01-09       NaN  0.569353       NaN  0.362153\n",
       "2020-01-10  0.296041  0.297209  0.847920  0.143941\n",
       "2020-01-11  0.078246       NaN  0.565571       NaN\n",
       "2020-01-12       NaN  1.068790       NaN       NaN\n",
       "2020-01-13       NaN  1.404796  0.210019       NaN\n",
       "2020-01-14  0.842701  0.110357  1.712637  0.180081\n",
       "2020-01-15       NaN       NaN  0.624693       NaN\n",
       "2020-01-16  0.708097       NaN  0.585820       NaN\n",
       "2020-01-17       NaN  0.333185       NaN  0.538315\n",
       "2020-01-18  0.208290       NaN  1.563768  0.858494\n",
       "2020-01-19       NaN  0.332162       NaN  1.100783\n",
       "2020-01-20  0.026114       NaN       NaN       NaN\n",
       "2020-01-21  0.010680       NaN  0.512138  0.377135\n",
       "2020-01-22       NaN  1.509114       NaN  0.016750\n",
       "2020-01-23       NaN       NaN  1.375960       NaN\n",
       "2020-01-24  0.345686       NaN  1.371795       NaN\n",
       "2020-01-25  0.616108  0.606208       NaN  0.881464\n",
       "2020-01-26  0.574754       NaN       NaN  0.013739\n",
       "2020-01-27       NaN       NaN       NaN       NaN\n",
       "2020-01-28       NaN  0.037536       NaN  1.617875\n",
       "2020-01-29  0.305220  1.743578  0.874592  1.887615\n",
       "2020-01-30  0.593733       NaN  1.269596  0.836867\n",
       "2020-01-31  1.714771       NaN  1.100071       NaN\n",
       "2020-02-01  0.491580  0.452546       NaN  0.295499\n",
       "2020-02-02       NaN  0.875810       NaN       NaN\n",
       "2020-02-03       NaN  0.030479       NaN  0.428944\n",
       "2020-02-04  1.468738  0.686806  2.719943       NaN\n",
       "2020-02-05  0.257554       NaN       NaN       NaN\n",
       "2020-02-06  0.075053  0.560330  2.070199  0.843031\n",
       "2020-02-07       NaN       NaN  1.056589  0.331491\n",
       "2020-02-08  1.489409  1.133318  1.330864       NaN\n",
       "2020-02-09  0.994930       NaN       NaN  1.265552\n",
       "2020-02-10       NaN  0.296520       NaN       NaN\n",
       "2020-02-11  0.575519  0.861960       NaN       NaN\n",
       "2020-02-12  0.099407       NaN       NaN       NaN\n",
       "2020-02-13  0.181300  1.765904  1.372232  1.384885\n",
       "2020-02-14       NaN       NaN  1.236994       NaN\n",
       "2020-02-15  0.359237  0.094721  0.212683  0.174753\n",
       "2020-02-16  1.534969       NaN       NaN  0.390383\n",
       "2020-02-17       NaN       NaN       NaN  0.175998\n",
       "2020-02-18       NaN  1.344904       NaN  1.165238\n",
       "2020-02-19       NaN       NaN       NaN  0.566968"
      ]
     },
     "execution_count": 192,
     "metadata": {},
     "output_type": "execute_result"
    }
   ],
   "source": [
    "df3[df3 >0] # retorna somente os valores em que a condicao booleana eh valida"
   ]
  },
  {
   "cell_type": "markdown",
   "metadata": {},
   "source": [
    "##### O metodo isin() serve para filtrar valores nao numericos"
   ]
  },
  {
   "cell_type": "code",
   "execution_count": 193,
   "metadata": {},
   "outputs": [],
   "source": [
    "df4 = df3.copy()"
   ]
  },
  {
   "cell_type": "code",
   "execution_count": 196,
   "metadata": {},
   "outputs": [],
   "source": [
    "df4['E'] = ['one', 'two', 'three', 'four', 'five'] * 10"
   ]
  },
  {
   "cell_type": "code",
   "execution_count": 200,
   "metadata": {},
   "outputs": [
    {
     "data": {
      "text/html": [
       "<div>\n",
       "<style scoped>\n",
       "    .dataframe tbody tr th:only-of-type {\n",
       "        vertical-align: middle;\n",
       "    }\n",
       "\n",
       "    .dataframe tbody tr th {\n",
       "        vertical-align: top;\n",
       "    }\n",
       "\n",
       "    .dataframe thead th {\n",
       "        text-align: right;\n",
       "    }\n",
       "</style>\n",
       "<table border=\"1\" class=\"dataframe\">\n",
       "  <thead>\n",
       "    <tr style=\"text-align: right;\">\n",
       "      <th></th>\n",
       "      <th>A</th>\n",
       "      <th>B</th>\n",
       "      <th>C</th>\n",
       "      <th>D</th>\n",
       "      <th>E</th>\n",
       "    </tr>\n",
       "  </thead>\n",
       "  <tbody>\n",
       "    <tr>\n",
       "      <th>2020-01-01</th>\n",
       "      <td>0.060154</td>\n",
       "      <td>0.718504</td>\n",
       "      <td>-0.699011</td>\n",
       "      <td>0.252951</td>\n",
       "      <td>one</td>\n",
       "    </tr>\n",
       "    <tr>\n",
       "      <th>2020-01-02</th>\n",
       "      <td>-0.879357</td>\n",
       "      <td>-1.392539</td>\n",
       "      <td>-0.227250</td>\n",
       "      <td>-1.650153</td>\n",
       "      <td>two</td>\n",
       "    </tr>\n",
       "    <tr>\n",
       "      <th>2020-01-03</th>\n",
       "      <td>0.062244</td>\n",
       "      <td>-1.397159</td>\n",
       "      <td>0.199508</td>\n",
       "      <td>1.869659</td>\n",
       "      <td>three</td>\n",
       "    </tr>\n",
       "    <tr>\n",
       "      <th>2020-01-04</th>\n",
       "      <td>2.489535</td>\n",
       "      <td>-1.050802</td>\n",
       "      <td>0.142806</td>\n",
       "      <td>-0.362285</td>\n",
       "      <td>four</td>\n",
       "    </tr>\n",
       "    <tr>\n",
       "      <th>2020-01-05</th>\n",
       "      <td>1.492937</td>\n",
       "      <td>-0.178271</td>\n",
       "      <td>-0.950748</td>\n",
       "      <td>1.047542</td>\n",
       "      <td>five</td>\n",
       "    </tr>\n",
       "    <tr>\n",
       "      <th>2020-01-06</th>\n",
       "      <td>-2.117380</td>\n",
       "      <td>-1.065192</td>\n",
       "      <td>-0.629815</td>\n",
       "      <td>0.875181</td>\n",
       "      <td>one</td>\n",
       "    </tr>\n",
       "    <tr>\n",
       "      <th>2020-01-07</th>\n",
       "      <td>1.155720</td>\n",
       "      <td>-0.005995</td>\n",
       "      <td>0.625575</td>\n",
       "      <td>-0.381408</td>\n",
       "      <td>two</td>\n",
       "    </tr>\n",
       "    <tr>\n",
       "      <th>2020-01-08</th>\n",
       "      <td>0.453506</td>\n",
       "      <td>-1.052147</td>\n",
       "      <td>1.580398</td>\n",
       "      <td>-1.175469</td>\n",
       "      <td>three</td>\n",
       "    </tr>\n",
       "  </tbody>\n",
       "</table>\n",
       "</div>"
      ],
      "text/plain": [
       "                   A         B         C         D      E\n",
       "2020-01-01  0.060154  0.718504 -0.699011  0.252951    one\n",
       "2020-01-02 -0.879357 -1.392539 -0.227250 -1.650153    two\n",
       "2020-01-03  0.062244 -1.397159  0.199508  1.869659  three\n",
       "2020-01-04  2.489535 -1.050802  0.142806 -0.362285   four\n",
       "2020-01-05  1.492937 -0.178271 -0.950748  1.047542   five\n",
       "2020-01-06 -2.117380 -1.065192 -0.629815  0.875181    one\n",
       "2020-01-07  1.155720 -0.005995  0.625575 -0.381408    two\n",
       "2020-01-08  0.453506 -1.052147  1.580398 -1.175469  three"
      ]
     },
     "execution_count": 200,
     "metadata": {},
     "output_type": "execute_result"
    }
   ],
   "source": [
    "df4.head(8)"
   ]
  },
  {
   "cell_type": "code",
   "execution_count": 202,
   "metadata": {},
   "outputs": [
    {
     "data": {
      "text/html": [
       "<div>\n",
       "<style scoped>\n",
       "    .dataframe tbody tr th:only-of-type {\n",
       "        vertical-align: middle;\n",
       "    }\n",
       "\n",
       "    .dataframe tbody tr th {\n",
       "        vertical-align: top;\n",
       "    }\n",
       "\n",
       "    .dataframe thead th {\n",
       "        text-align: right;\n",
       "    }\n",
       "</style>\n",
       "<table border=\"1\" class=\"dataframe\">\n",
       "  <thead>\n",
       "    <tr style=\"text-align: right;\">\n",
       "      <th></th>\n",
       "      <th>A</th>\n",
       "      <th>B</th>\n",
       "      <th>C</th>\n",
       "      <th>D</th>\n",
       "      <th>E</th>\n",
       "    </tr>\n",
       "  </thead>\n",
       "  <tbody>\n",
       "    <tr>\n",
       "      <th>2020-01-01</th>\n",
       "      <td>0.060154</td>\n",
       "      <td>0.718504</td>\n",
       "      <td>-0.699011</td>\n",
       "      <td>0.252951</td>\n",
       "      <td>one</td>\n",
       "    </tr>\n",
       "    <tr>\n",
       "      <th>2020-01-03</th>\n",
       "      <td>0.062244</td>\n",
       "      <td>-1.397159</td>\n",
       "      <td>0.199508</td>\n",
       "      <td>1.869659</td>\n",
       "      <td>three</td>\n",
       "    </tr>\n",
       "    <tr>\n",
       "      <th>2020-01-06</th>\n",
       "      <td>-2.117380</td>\n",
       "      <td>-1.065192</td>\n",
       "      <td>-0.629815</td>\n",
       "      <td>0.875181</td>\n",
       "      <td>one</td>\n",
       "    </tr>\n",
       "    <tr>\n",
       "      <th>2020-01-08</th>\n",
       "      <td>0.453506</td>\n",
       "      <td>-1.052147</td>\n",
       "      <td>1.580398</td>\n",
       "      <td>-1.175469</td>\n",
       "      <td>three</td>\n",
       "    </tr>\n",
       "    <tr>\n",
       "      <th>2020-01-11</th>\n",
       "      <td>0.078246</td>\n",
       "      <td>-0.448366</td>\n",
       "      <td>0.565571</td>\n",
       "      <td>-0.853886</td>\n",
       "      <td>one</td>\n",
       "    </tr>\n",
       "    <tr>\n",
       "      <th>2020-01-13</th>\n",
       "      <td>-0.076813</td>\n",
       "      <td>1.404796</td>\n",
       "      <td>0.210019</td>\n",
       "      <td>-1.105351</td>\n",
       "      <td>three</td>\n",
       "    </tr>\n",
       "    <tr>\n",
       "      <th>2020-01-16</th>\n",
       "      <td>0.708097</td>\n",
       "      <td>-0.889243</td>\n",
       "      <td>0.585820</td>\n",
       "      <td>-1.320292</td>\n",
       "      <td>one</td>\n",
       "    </tr>\n",
       "    <tr>\n",
       "      <th>2020-01-18</th>\n",
       "      <td>0.208290</td>\n",
       "      <td>-0.451150</td>\n",
       "      <td>1.563768</td>\n",
       "      <td>0.858494</td>\n",
       "      <td>three</td>\n",
       "    </tr>\n",
       "    <tr>\n",
       "      <th>2020-01-21</th>\n",
       "      <td>0.010680</td>\n",
       "      <td>-0.233393</td>\n",
       "      <td>0.512138</td>\n",
       "      <td>0.377135</td>\n",
       "      <td>one</td>\n",
       "    </tr>\n",
       "    <tr>\n",
       "      <th>2020-01-23</th>\n",
       "      <td>-0.262465</td>\n",
       "      <td>-0.191300</td>\n",
       "      <td>1.375960</td>\n",
       "      <td>-0.042289</td>\n",
       "      <td>three</td>\n",
       "    </tr>\n",
       "    <tr>\n",
       "      <th>2020-01-26</th>\n",
       "      <td>0.574754</td>\n",
       "      <td>-0.858988</td>\n",
       "      <td>-0.077275</td>\n",
       "      <td>0.013739</td>\n",
       "      <td>one</td>\n",
       "    </tr>\n",
       "    <tr>\n",
       "      <th>2020-01-28</th>\n",
       "      <td>-0.450701</td>\n",
       "      <td>0.037536</td>\n",
       "      <td>-0.476908</td>\n",
       "      <td>1.617875</td>\n",
       "      <td>three</td>\n",
       "    </tr>\n",
       "    <tr>\n",
       "      <th>2020-01-31</th>\n",
       "      <td>1.714771</td>\n",
       "      <td>-0.965457</td>\n",
       "      <td>1.100071</td>\n",
       "      <td>-0.091997</td>\n",
       "      <td>one</td>\n",
       "    </tr>\n",
       "    <tr>\n",
       "      <th>2020-02-02</th>\n",
       "      <td>-0.639030</td>\n",
       "      <td>0.875810</td>\n",
       "      <td>-0.435856</td>\n",
       "      <td>-1.555014</td>\n",
       "      <td>three</td>\n",
       "    </tr>\n",
       "    <tr>\n",
       "      <th>2020-02-05</th>\n",
       "      <td>0.257554</td>\n",
       "      <td>-0.827770</td>\n",
       "      <td>-2.081583</td>\n",
       "      <td>-0.484735</td>\n",
       "      <td>one</td>\n",
       "    </tr>\n",
       "    <tr>\n",
       "      <th>2020-02-07</th>\n",
       "      <td>-0.589257</td>\n",
       "      <td>-0.249582</td>\n",
       "      <td>1.056589</td>\n",
       "      <td>0.331491</td>\n",
       "      <td>three</td>\n",
       "    </tr>\n",
       "    <tr>\n",
       "      <th>2020-02-10</th>\n",
       "      <td>-0.562041</td>\n",
       "      <td>0.296520</td>\n",
       "      <td>-2.210330</td>\n",
       "      <td>-1.483440</td>\n",
       "      <td>one</td>\n",
       "    </tr>\n",
       "    <tr>\n",
       "      <th>2020-02-12</th>\n",
       "      <td>0.099407</td>\n",
       "      <td>-0.948089</td>\n",
       "      <td>-2.885559</td>\n",
       "      <td>-0.942135</td>\n",
       "      <td>three</td>\n",
       "    </tr>\n",
       "    <tr>\n",
       "      <th>2020-02-15</th>\n",
       "      <td>0.359237</td>\n",
       "      <td>0.094721</td>\n",
       "      <td>0.212683</td>\n",
       "      <td>0.174753</td>\n",
       "      <td>one</td>\n",
       "    </tr>\n",
       "    <tr>\n",
       "      <th>2020-02-17</th>\n",
       "      <td>-0.448166</td>\n",
       "      <td>-0.052794</td>\n",
       "      <td>-0.506013</td>\n",
       "      <td>0.175998</td>\n",
       "      <td>three</td>\n",
       "    </tr>\n",
       "  </tbody>\n",
       "</table>\n",
       "</div>"
      ],
      "text/plain": [
       "                   A         B         C         D      E\n",
       "2020-01-01  0.060154  0.718504 -0.699011  0.252951    one\n",
       "2020-01-03  0.062244 -1.397159  0.199508  1.869659  three\n",
       "2020-01-06 -2.117380 -1.065192 -0.629815  0.875181    one\n",
       "2020-01-08  0.453506 -1.052147  1.580398 -1.175469  three\n",
       "2020-01-11  0.078246 -0.448366  0.565571 -0.853886    one\n",
       "2020-01-13 -0.076813  1.404796  0.210019 -1.105351  three\n",
       "2020-01-16  0.708097 -0.889243  0.585820 -1.320292    one\n",
       "2020-01-18  0.208290 -0.451150  1.563768  0.858494  three\n",
       "2020-01-21  0.010680 -0.233393  0.512138  0.377135    one\n",
       "2020-01-23 -0.262465 -0.191300  1.375960 -0.042289  three\n",
       "2020-01-26  0.574754 -0.858988 -0.077275  0.013739    one\n",
       "2020-01-28 -0.450701  0.037536 -0.476908  1.617875  three\n",
       "2020-01-31  1.714771 -0.965457  1.100071 -0.091997    one\n",
       "2020-02-02 -0.639030  0.875810 -0.435856 -1.555014  three\n",
       "2020-02-05  0.257554 -0.827770 -2.081583 -0.484735    one\n",
       "2020-02-07 -0.589257 -0.249582  1.056589  0.331491  three\n",
       "2020-02-10 -0.562041  0.296520 -2.210330 -1.483440    one\n",
       "2020-02-12  0.099407 -0.948089 -2.885559 -0.942135  three\n",
       "2020-02-15  0.359237  0.094721  0.212683  0.174753    one\n",
       "2020-02-17 -0.448166 -0.052794 -0.506013  0.175998  three"
      ]
     },
     "execution_count": 202,
     "metadata": {},
     "output_type": "execute_result"
    }
   ],
   "source": [
    "df4[df4['E'].isin(['one', 'three'])]"
   ]
  },
  {
   "cell_type": "markdown",
   "metadata": {},
   "source": [
    "#### Inserindo Valores"
   ]
  },
  {
   "cell_type": "markdown",
   "metadata": {},
   "source": [
    "##### Ao inserir uma coluna os indices serao alinhados automaticamente"
   ]
  },
  {
   "cell_type": "code",
   "execution_count": 227,
   "metadata": {},
   "outputs": [],
   "source": [
    "s1 = pd.Series(np.array([12] * len(df3)), index=pd.date_range('2020-01-01', periods=50, freq='D'))"
   ]
  },
  {
   "cell_type": "code",
   "execution_count": 243,
   "metadata": {},
   "outputs": [],
   "source": [
    "df3['F'] = s1 # no caso de inserir uma coluna a partir de uma serie, notar que o indice deve ser igual ao do DF"
   ]
  },
  {
   "cell_type": "code",
   "execution_count": 245,
   "metadata": {},
   "outputs": [],
   "source": [
    "df3['G'] = np.array([3] * 50) # podemos inserir valor diretamentr atraves de um numpy array"
   ]
  },
  {
   "cell_type": "code",
   "execution_count": 246,
   "metadata": {},
   "outputs": [
    {
     "data": {
      "text/html": [
       "<div>\n",
       "<style scoped>\n",
       "    .dataframe tbody tr th:only-of-type {\n",
       "        vertical-align: middle;\n",
       "    }\n",
       "\n",
       "    .dataframe tbody tr th {\n",
       "        vertical-align: top;\n",
       "    }\n",
       "\n",
       "    .dataframe thead th {\n",
       "        text-align: right;\n",
       "    }\n",
       "</style>\n",
       "<table border=\"1\" class=\"dataframe\">\n",
       "  <thead>\n",
       "    <tr style=\"text-align: right;\">\n",
       "      <th></th>\n",
       "      <th>A</th>\n",
       "      <th>B</th>\n",
       "      <th>C</th>\n",
       "      <th>D</th>\n",
       "      <th>F</th>\n",
       "      <th>G</th>\n",
       "    </tr>\n",
       "  </thead>\n",
       "  <tbody>\n",
       "    <tr>\n",
       "      <th>2020-01-01</th>\n",
       "      <td>0.060154</td>\n",
       "      <td>0.718504</td>\n",
       "      <td>-0.699011</td>\n",
       "      <td>0.252951</td>\n",
       "      <td>12</td>\n",
       "      <td>3</td>\n",
       "    </tr>\n",
       "    <tr>\n",
       "      <th>2020-01-02</th>\n",
       "      <td>-0.879357</td>\n",
       "      <td>-1.392539</td>\n",
       "      <td>-0.227250</td>\n",
       "      <td>-1.650153</td>\n",
       "      <td>12</td>\n",
       "      <td>3</td>\n",
       "    </tr>\n",
       "    <tr>\n",
       "      <th>2020-01-03</th>\n",
       "      <td>0.062244</td>\n",
       "      <td>-1.397159</td>\n",
       "      <td>0.199508</td>\n",
       "      <td>1.869659</td>\n",
       "      <td>12</td>\n",
       "      <td>3</td>\n",
       "    </tr>\n",
       "    <tr>\n",
       "      <th>2020-01-04</th>\n",
       "      <td>2.489535</td>\n",
       "      <td>-1.050802</td>\n",
       "      <td>0.142806</td>\n",
       "      <td>-0.362285</td>\n",
       "      <td>12</td>\n",
       "      <td>3</td>\n",
       "    </tr>\n",
       "    <tr>\n",
       "      <th>2020-01-05</th>\n",
       "      <td>1.492937</td>\n",
       "      <td>-0.178271</td>\n",
       "      <td>-0.950748</td>\n",
       "      <td>1.047542</td>\n",
       "      <td>12</td>\n",
       "      <td>3</td>\n",
       "    </tr>\n",
       "  </tbody>\n",
       "</table>\n",
       "</div>"
      ],
      "text/plain": [
       "                   A         B         C         D   F  G\n",
       "2020-01-01  0.060154  0.718504 -0.699011  0.252951  12  3\n",
       "2020-01-02 -0.879357 -1.392539 -0.227250 -1.650153  12  3\n",
       "2020-01-03  0.062244 -1.397159  0.199508  1.869659  12  3\n",
       "2020-01-04  2.489535 -1.050802  0.142806 -0.362285  12  3\n",
       "2020-01-05  1.492937 -0.178271 -0.950748  1.047542  12  3"
      ]
     },
     "execution_count": 246,
     "metadata": {},
     "output_type": "execute_result"
    }
   ],
   "source": [
    "df3.head()"
   ]
  },
  {
   "cell_type": "code",
   "execution_count": 249,
   "metadata": {},
   "outputs": [],
   "source": [
    "df3.loc['2020-01-01', 'A'] = 3.8 # podemos inserir valor diretamente numa unica celula desejada"
   ]
  },
  {
   "cell_type": "code",
   "execution_count": 250,
   "metadata": {},
   "outputs": [
    {
     "data": {
      "text/html": [
       "<div>\n",
       "<style scoped>\n",
       "    .dataframe tbody tr th:only-of-type {\n",
       "        vertical-align: middle;\n",
       "    }\n",
       "\n",
       "    .dataframe tbody tr th {\n",
       "        vertical-align: top;\n",
       "    }\n",
       "\n",
       "    .dataframe thead th {\n",
       "        text-align: right;\n",
       "    }\n",
       "</style>\n",
       "<table border=\"1\" class=\"dataframe\">\n",
       "  <thead>\n",
       "    <tr style=\"text-align: right;\">\n",
       "      <th></th>\n",
       "      <th>A</th>\n",
       "      <th>B</th>\n",
       "      <th>C</th>\n",
       "      <th>D</th>\n",
       "      <th>F</th>\n",
       "      <th>G</th>\n",
       "    </tr>\n",
       "  </thead>\n",
       "  <tbody>\n",
       "    <tr>\n",
       "      <th>2020-01-01</th>\n",
       "      <td>3.800000</td>\n",
       "      <td>0.718504</td>\n",
       "      <td>-0.699011</td>\n",
       "      <td>0.252951</td>\n",
       "      <td>12</td>\n",
       "      <td>3</td>\n",
       "    </tr>\n",
       "    <tr>\n",
       "      <th>2020-01-02</th>\n",
       "      <td>-0.879357</td>\n",
       "      <td>-1.392539</td>\n",
       "      <td>-0.227250</td>\n",
       "      <td>-1.650153</td>\n",
       "      <td>12</td>\n",
       "      <td>3</td>\n",
       "    </tr>\n",
       "    <tr>\n",
       "      <th>2020-01-03</th>\n",
       "      <td>0.062244</td>\n",
       "      <td>-1.397159</td>\n",
       "      <td>0.199508</td>\n",
       "      <td>1.869659</td>\n",
       "      <td>12</td>\n",
       "      <td>3</td>\n",
       "    </tr>\n",
       "    <tr>\n",
       "      <th>2020-01-04</th>\n",
       "      <td>2.489535</td>\n",
       "      <td>-1.050802</td>\n",
       "      <td>0.142806</td>\n",
       "      <td>-0.362285</td>\n",
       "      <td>12</td>\n",
       "      <td>3</td>\n",
       "    </tr>\n",
       "    <tr>\n",
       "      <th>2020-01-05</th>\n",
       "      <td>1.492937</td>\n",
       "      <td>-0.178271</td>\n",
       "      <td>-0.950748</td>\n",
       "      <td>1.047542</td>\n",
       "      <td>12</td>\n",
       "      <td>3</td>\n",
       "    </tr>\n",
       "  </tbody>\n",
       "</table>\n",
       "</div>"
      ],
      "text/plain": [
       "                   A         B         C         D   F  G\n",
       "2020-01-01  3.800000  0.718504 -0.699011  0.252951  12  3\n",
       "2020-01-02 -0.879357 -1.392539 -0.227250 -1.650153  12  3\n",
       "2020-01-03  0.062244 -1.397159  0.199508  1.869659  12  3\n",
       "2020-01-04  2.489535 -1.050802  0.142806 -0.362285  12  3\n",
       "2020-01-05  1.492937 -0.178271 -0.950748  1.047542  12  3"
      ]
     },
     "execution_count": 250,
     "metadata": {},
     "output_type": "execute_result"
    }
   ],
   "source": [
    "df3.head()"
   ]
  },
  {
   "cell_type": "markdown",
   "metadata": {},
   "source": [
    "### Missing Data"
   ]
  },
  {
   "cell_type": "code",
   "execution_count": 297,
   "metadata": {},
   "outputs": [],
   "source": [
    "df5 = df2.reindex(index=df2.index, columns=list(df2.columns) + ['G'])"
   ]
  },
  {
   "cell_type": "code",
   "execution_count": 298,
   "metadata": {},
   "outputs": [],
   "source": [
    "df5.loc[0:1, 'G'] = 1"
   ]
  },
  {
   "cell_type": "code",
   "execution_count": 299,
   "metadata": {},
   "outputs": [
    {
     "data": {
      "text/html": [
       "<div>\n",
       "<style scoped>\n",
       "    .dataframe tbody tr th:only-of-type {\n",
       "        vertical-align: middle;\n",
       "    }\n",
       "\n",
       "    .dataframe tbody tr th {\n",
       "        vertical-align: top;\n",
       "    }\n",
       "\n",
       "    .dataframe thead th {\n",
       "        text-align: right;\n",
       "    }\n",
       "</style>\n",
       "<table border=\"1\" class=\"dataframe\">\n",
       "  <thead>\n",
       "    <tr style=\"text-align: right;\">\n",
       "      <th></th>\n",
       "      <th>A</th>\n",
       "      <th>B</th>\n",
       "      <th>C</th>\n",
       "      <th>D</th>\n",
       "      <th>E</th>\n",
       "      <th>F</th>\n",
       "      <th>G</th>\n",
       "    </tr>\n",
       "  </thead>\n",
       "  <tbody>\n",
       "    <tr>\n",
       "      <th>0</th>\n",
       "      <td>1.0</td>\n",
       "      <td>2020-03-24</td>\n",
       "      <td>1.0</td>\n",
       "      <td>4</td>\n",
       "      <td>foo</td>\n",
       "      <td>kapa</td>\n",
       "      <td>1.0</td>\n",
       "    </tr>\n",
       "    <tr>\n",
       "      <th>1</th>\n",
       "      <td>1.0</td>\n",
       "      <td>2020-03-24</td>\n",
       "      <td>1.0</td>\n",
       "      <td>4</td>\n",
       "      <td>bar</td>\n",
       "      <td>kapa</td>\n",
       "      <td>1.0</td>\n",
       "    </tr>\n",
       "    <tr>\n",
       "      <th>2</th>\n",
       "      <td>1.0</td>\n",
       "      <td>2020-03-24</td>\n",
       "      <td>1.0</td>\n",
       "      <td>4</td>\n",
       "      <td>loco</td>\n",
       "      <td>kapa</td>\n",
       "      <td>NaN</td>\n",
       "    </tr>\n",
       "    <tr>\n",
       "      <th>3</th>\n",
       "      <td>1.0</td>\n",
       "      <td>2020-03-24</td>\n",
       "      <td>1.0</td>\n",
       "      <td>4</td>\n",
       "      <td>metre</td>\n",
       "      <td>kapa</td>\n",
       "      <td>NaN</td>\n",
       "    </tr>\n",
       "  </tbody>\n",
       "</table>\n",
       "</div>"
      ],
      "text/plain": [
       "     A          B    C  D      E     F    G\n",
       "0  1.0 2020-03-24  1.0  4    foo  kapa  1.0\n",
       "1  1.0 2020-03-24  1.0  4    bar  kapa  1.0\n",
       "2  1.0 2020-03-24  1.0  4   loco  kapa  NaN\n",
       "3  1.0 2020-03-24  1.0  4  metre  kapa  NaN"
      ]
     },
     "execution_count": 299,
     "metadata": {},
     "output_type": "execute_result"
    }
   ],
   "source": [
    "df5"
   ]
  },
  {
   "cell_type": "markdown",
   "metadata": {},
   "source": [
    "#### To drop any rows that have missing data"
   ]
  },
  {
   "cell_type": "code",
   "execution_count": 300,
   "metadata": {},
   "outputs": [
    {
     "data": {
      "text/html": [
       "<div>\n",
       "<style scoped>\n",
       "    .dataframe tbody tr th:only-of-type {\n",
       "        vertical-align: middle;\n",
       "    }\n",
       "\n",
       "    .dataframe tbody tr th {\n",
       "        vertical-align: top;\n",
       "    }\n",
       "\n",
       "    .dataframe thead th {\n",
       "        text-align: right;\n",
       "    }\n",
       "</style>\n",
       "<table border=\"1\" class=\"dataframe\">\n",
       "  <thead>\n",
       "    <tr style=\"text-align: right;\">\n",
       "      <th></th>\n",
       "      <th>A</th>\n",
       "      <th>B</th>\n",
       "      <th>C</th>\n",
       "      <th>D</th>\n",
       "      <th>E</th>\n",
       "      <th>F</th>\n",
       "      <th>G</th>\n",
       "    </tr>\n",
       "  </thead>\n",
       "  <tbody>\n",
       "    <tr>\n",
       "      <th>0</th>\n",
       "      <td>1.0</td>\n",
       "      <td>2020-03-24</td>\n",
       "      <td>1.0</td>\n",
       "      <td>4</td>\n",
       "      <td>foo</td>\n",
       "      <td>kapa</td>\n",
       "      <td>1.0</td>\n",
       "    </tr>\n",
       "    <tr>\n",
       "      <th>1</th>\n",
       "      <td>1.0</td>\n",
       "      <td>2020-03-24</td>\n",
       "      <td>1.0</td>\n",
       "      <td>4</td>\n",
       "      <td>bar</td>\n",
       "      <td>kapa</td>\n",
       "      <td>1.0</td>\n",
       "    </tr>\n",
       "  </tbody>\n",
       "</table>\n",
       "</div>"
      ],
      "text/plain": [
       "     A          B    C  D    E     F    G\n",
       "0  1.0 2020-03-24  1.0  4  foo  kapa  1.0\n",
       "1  1.0 2020-03-24  1.0  4  bar  kapa  1.0"
      ]
     },
     "execution_count": 300,
     "metadata": {},
     "output_type": "execute_result"
    }
   ],
   "source": [
    "df5.dropna(how='any')"
   ]
  },
  {
   "cell_type": "markdown",
   "metadata": {},
   "source": [
    "#### Filling missing data"
   ]
  },
  {
   "cell_type": "code",
   "execution_count": 306,
   "metadata": {},
   "outputs": [],
   "source": [
    "df5['G'].fillna(5, inplace=True)"
   ]
  },
  {
   "cell_type": "code",
   "execution_count": 307,
   "metadata": {},
   "outputs": [
    {
     "data": {
      "text/html": [
       "<div>\n",
       "<style scoped>\n",
       "    .dataframe tbody tr th:only-of-type {\n",
       "        vertical-align: middle;\n",
       "    }\n",
       "\n",
       "    .dataframe tbody tr th {\n",
       "        vertical-align: top;\n",
       "    }\n",
       "\n",
       "    .dataframe thead th {\n",
       "        text-align: right;\n",
       "    }\n",
       "</style>\n",
       "<table border=\"1\" class=\"dataframe\">\n",
       "  <thead>\n",
       "    <tr style=\"text-align: right;\">\n",
       "      <th></th>\n",
       "      <th>A</th>\n",
       "      <th>B</th>\n",
       "      <th>C</th>\n",
       "      <th>D</th>\n",
       "      <th>E</th>\n",
       "      <th>F</th>\n",
       "      <th>G</th>\n",
       "    </tr>\n",
       "  </thead>\n",
       "  <tbody>\n",
       "    <tr>\n",
       "      <th>0</th>\n",
       "      <td>1.0</td>\n",
       "      <td>2020-03-24</td>\n",
       "      <td>1.0</td>\n",
       "      <td>4</td>\n",
       "      <td>foo</td>\n",
       "      <td>kapa</td>\n",
       "      <td>1.0</td>\n",
       "    </tr>\n",
       "    <tr>\n",
       "      <th>1</th>\n",
       "      <td>1.0</td>\n",
       "      <td>2020-03-24</td>\n",
       "      <td>1.0</td>\n",
       "      <td>4</td>\n",
       "      <td>bar</td>\n",
       "      <td>kapa</td>\n",
       "      <td>1.0</td>\n",
       "    </tr>\n",
       "    <tr>\n",
       "      <th>2</th>\n",
       "      <td>1.0</td>\n",
       "      <td>2020-03-24</td>\n",
       "      <td>1.0</td>\n",
       "      <td>4</td>\n",
       "      <td>loco</td>\n",
       "      <td>kapa</td>\n",
       "      <td>5.0</td>\n",
       "    </tr>\n",
       "    <tr>\n",
       "      <th>3</th>\n",
       "      <td>1.0</td>\n",
       "      <td>2020-03-24</td>\n",
       "      <td>1.0</td>\n",
       "      <td>4</td>\n",
       "      <td>metre</td>\n",
       "      <td>kapa</td>\n",
       "      <td>5.0</td>\n",
       "    </tr>\n",
       "  </tbody>\n",
       "</table>\n",
       "</div>"
      ],
      "text/plain": [
       "     A          B    C  D      E     F    G\n",
       "0  1.0 2020-03-24  1.0  4    foo  kapa  1.0\n",
       "1  1.0 2020-03-24  1.0  4    bar  kapa  1.0\n",
       "2  1.0 2020-03-24  1.0  4   loco  kapa  5.0\n",
       "3  1.0 2020-03-24  1.0  4  metre  kapa  5.0"
      ]
     },
     "execution_count": 307,
     "metadata": {},
     "output_type": "execute_result"
    }
   ],
   "source": [
    "df5"
   ]
  },
  {
   "cell_type": "markdown",
   "metadata": {},
   "source": [
    "#### To get boolean mask"
   ]
  },
  {
   "cell_type": "code",
   "execution_count": 308,
   "metadata": {},
   "outputs": [
    {
     "data": {
      "text/html": [
       "<div>\n",
       "<style scoped>\n",
       "    .dataframe tbody tr th:only-of-type {\n",
       "        vertical-align: middle;\n",
       "    }\n",
       "\n",
       "    .dataframe tbody tr th {\n",
       "        vertical-align: top;\n",
       "    }\n",
       "\n",
       "    .dataframe thead th {\n",
       "        text-align: right;\n",
       "    }\n",
       "</style>\n",
       "<table border=\"1\" class=\"dataframe\">\n",
       "  <thead>\n",
       "    <tr style=\"text-align: right;\">\n",
       "      <th></th>\n",
       "      <th>A</th>\n",
       "      <th>B</th>\n",
       "      <th>C</th>\n",
       "      <th>D</th>\n",
       "      <th>E</th>\n",
       "      <th>F</th>\n",
       "      <th>G</th>\n",
       "    </tr>\n",
       "  </thead>\n",
       "  <tbody>\n",
       "    <tr>\n",
       "      <th>0</th>\n",
       "      <td>False</td>\n",
       "      <td>False</td>\n",
       "      <td>False</td>\n",
       "      <td>False</td>\n",
       "      <td>False</td>\n",
       "      <td>False</td>\n",
       "      <td>False</td>\n",
       "    </tr>\n",
       "    <tr>\n",
       "      <th>1</th>\n",
       "      <td>False</td>\n",
       "      <td>False</td>\n",
       "      <td>False</td>\n",
       "      <td>False</td>\n",
       "      <td>False</td>\n",
       "      <td>False</td>\n",
       "      <td>False</td>\n",
       "    </tr>\n",
       "    <tr>\n",
       "      <th>2</th>\n",
       "      <td>False</td>\n",
       "      <td>False</td>\n",
       "      <td>False</td>\n",
       "      <td>False</td>\n",
       "      <td>False</td>\n",
       "      <td>False</td>\n",
       "      <td>False</td>\n",
       "    </tr>\n",
       "    <tr>\n",
       "      <th>3</th>\n",
       "      <td>False</td>\n",
       "      <td>False</td>\n",
       "      <td>False</td>\n",
       "      <td>False</td>\n",
       "      <td>False</td>\n",
       "      <td>False</td>\n",
       "      <td>False</td>\n",
       "    </tr>\n",
       "  </tbody>\n",
       "</table>\n",
       "</div>"
      ],
      "text/plain": [
       "       A      B      C      D      E      F      G\n",
       "0  False  False  False  False  False  False  False\n",
       "1  False  False  False  False  False  False  False\n",
       "2  False  False  False  False  False  False  False\n",
       "3  False  False  False  False  False  False  False"
      ]
     },
     "execution_count": 308,
     "metadata": {},
     "output_type": "execute_result"
    }
   ],
   "source": [
    "pd.isna(df5)"
   ]
  },
  {
   "cell_type": "markdown",
   "metadata": {},
   "source": [
    "\n",
    "\n",
    "### Operations"
   ]
  },
  {
   "cell_type": "code",
   "execution_count": 318,
   "metadata": {},
   "outputs": [],
   "source": [
    "df.loc['2013-01-01':'2013-01-03', 'E'] = np.random.randn()"
   ]
  },
  {
   "cell_type": "code",
   "execution_count": 319,
   "metadata": {},
   "outputs": [
    {
     "data": {
      "text/html": [
       "<div>\n",
       "<style scoped>\n",
       "    .dataframe tbody tr th:only-of-type {\n",
       "        vertical-align: middle;\n",
       "    }\n",
       "\n",
       "    .dataframe tbody tr th {\n",
       "        vertical-align: top;\n",
       "    }\n",
       "\n",
       "    .dataframe thead th {\n",
       "        text-align: right;\n",
       "    }\n",
       "</style>\n",
       "<table border=\"1\" class=\"dataframe\">\n",
       "  <thead>\n",
       "    <tr style=\"text-align: right;\">\n",
       "      <th></th>\n",
       "      <th>A</th>\n",
       "      <th>B</th>\n",
       "      <th>C</th>\n",
       "      <th>D</th>\n",
       "      <th>E</th>\n",
       "    </tr>\n",
       "  </thead>\n",
       "  <tbody>\n",
       "    <tr>\n",
       "      <th>2013-01-01</th>\n",
       "      <td>-0.258812</td>\n",
       "      <td>0.490639</td>\n",
       "      <td>0.554961</td>\n",
       "      <td>0.720710</td>\n",
       "      <td>-0.941209</td>\n",
       "    </tr>\n",
       "    <tr>\n",
       "      <th>2013-01-02</th>\n",
       "      <td>-0.828347</td>\n",
       "      <td>-1.712154</td>\n",
       "      <td>1.334451</td>\n",
       "      <td>1.612054</td>\n",
       "      <td>-0.941209</td>\n",
       "    </tr>\n",
       "    <tr>\n",
       "      <th>2013-01-03</th>\n",
       "      <td>0.315432</td>\n",
       "      <td>-1.553939</td>\n",
       "      <td>0.675967</td>\n",
       "      <td>1.197011</td>\n",
       "      <td>-0.941209</td>\n",
       "    </tr>\n",
       "    <tr>\n",
       "      <th>2013-01-04</th>\n",
       "      <td>-0.902153</td>\n",
       "      <td>-1.333081</td>\n",
       "      <td>1.329269</td>\n",
       "      <td>0.673002</td>\n",
       "      <td>NaN</td>\n",
       "    </tr>\n",
       "    <tr>\n",
       "      <th>2013-01-05</th>\n",
       "      <td>-0.389936</td>\n",
       "      <td>-1.649198</td>\n",
       "      <td>1.602097</td>\n",
       "      <td>0.881038</td>\n",
       "      <td>NaN</td>\n",
       "    </tr>\n",
       "    <tr>\n",
       "      <th>2013-01-06</th>\n",
       "      <td>-0.058455</td>\n",
       "      <td>-2.893391</td>\n",
       "      <td>0.293816</td>\n",
       "      <td>-0.239046</td>\n",
       "      <td>NaN</td>\n",
       "    </tr>\n",
       "  </tbody>\n",
       "</table>\n",
       "</div>"
      ],
      "text/plain": [
       "                   A         B         C         D         E\n",
       "2013-01-01 -0.258812  0.490639  0.554961  0.720710 -0.941209\n",
       "2013-01-02 -0.828347 -1.712154  1.334451  1.612054 -0.941209\n",
       "2013-01-03  0.315432 -1.553939  0.675967  1.197011 -0.941209\n",
       "2013-01-04 -0.902153 -1.333081  1.329269  0.673002       NaN\n",
       "2013-01-05 -0.389936 -1.649198  1.602097  0.881038       NaN\n",
       "2013-01-06 -0.058455 -2.893391  0.293816 -0.239046       NaN"
      ]
     },
     "execution_count": 319,
     "metadata": {},
     "output_type": "execute_result"
    }
   ],
   "source": [
    "df"
   ]
  },
  {
   "cell_type": "markdown",
   "metadata": {},
   "source": [
    "#### Operations in general exclude missing data"
   ]
  },
  {
   "cell_type": "code",
   "execution_count": 320,
   "metadata": {},
   "outputs": [
    {
     "data": {
      "text/plain": [
       "A   -0.353712\n",
       "B   -1.441854\n",
       "C    0.965094\n",
       "D    0.807461\n",
       "E   -0.941209\n",
       "dtype: float64"
      ]
     },
     "execution_count": 320,
     "metadata": {},
     "output_type": "execute_result"
    }
   ],
   "source": [
    "df.mean()"
   ]
  },
  {
   "cell_type": "markdown",
   "metadata": {},
   "source": [
    "#### Same operation in other axis"
   ]
  },
  {
   "cell_type": "code",
   "execution_count": 324,
   "metadata": {},
   "outputs": [
    {
     "data": {
      "text/plain": [
       "2013-01-01    0.113258\n",
       "2013-01-02   -0.107041\n",
       "2013-01-03   -0.061348\n",
       "2013-01-04   -0.058241\n",
       "2013-01-05    0.111000\n",
       "2013-01-06   -0.724269\n",
       "Freq: D, dtype: float64"
      ]
     },
     "execution_count": 324,
     "metadata": {},
     "output_type": "execute_result"
    }
   ],
   "source": [
    "df.mean(axis='columns')"
   ]
  },
  {
   "cell_type": "markdown",
   "metadata": {},
   "source": [
    "### Apply - applying functions to the data"
   ]
  },
  {
   "cell_type": "code",
   "execution_count": 326,
   "metadata": {},
   "outputs": [
    {
     "data": {
      "text/html": [
       "<div>\n",
       "<style scoped>\n",
       "    .dataframe tbody tr th:only-of-type {\n",
       "        vertical-align: middle;\n",
       "    }\n",
       "\n",
       "    .dataframe tbody tr th {\n",
       "        vertical-align: top;\n",
       "    }\n",
       "\n",
       "    .dataframe thead th {\n",
       "        text-align: right;\n",
       "    }\n",
       "</style>\n",
       "<table border=\"1\" class=\"dataframe\">\n",
       "  <thead>\n",
       "    <tr style=\"text-align: right;\">\n",
       "      <th></th>\n",
       "      <th>A</th>\n",
       "      <th>B</th>\n",
       "      <th>C</th>\n",
       "      <th>D</th>\n",
       "      <th>E</th>\n",
       "    </tr>\n",
       "  </thead>\n",
       "  <tbody>\n",
       "    <tr>\n",
       "      <th>2013-01-01</th>\n",
       "      <td>-0.258812</td>\n",
       "      <td>0.490639</td>\n",
       "      <td>0.554961</td>\n",
       "      <td>0.720710</td>\n",
       "      <td>-0.941209</td>\n",
       "    </tr>\n",
       "    <tr>\n",
       "      <th>2013-01-02</th>\n",
       "      <td>-1.087158</td>\n",
       "      <td>-1.221515</td>\n",
       "      <td>1.889413</td>\n",
       "      <td>2.332763</td>\n",
       "      <td>-1.882417</td>\n",
       "    </tr>\n",
       "    <tr>\n",
       "      <th>2013-01-03</th>\n",
       "      <td>-0.771727</td>\n",
       "      <td>-2.775453</td>\n",
       "      <td>2.565379</td>\n",
       "      <td>3.529775</td>\n",
       "      <td>-2.823626</td>\n",
       "    </tr>\n",
       "    <tr>\n",
       "      <th>2013-01-04</th>\n",
       "      <td>-1.673880</td>\n",
       "      <td>-4.108534</td>\n",
       "      <td>3.894648</td>\n",
       "      <td>4.202777</td>\n",
       "      <td>NaN</td>\n",
       "    </tr>\n",
       "    <tr>\n",
       "      <th>2013-01-05</th>\n",
       "      <td>-2.063816</td>\n",
       "      <td>-5.757732</td>\n",
       "      <td>5.496745</td>\n",
       "      <td>5.083815</td>\n",
       "      <td>NaN</td>\n",
       "    </tr>\n",
       "    <tr>\n",
       "      <th>2013-01-06</th>\n",
       "      <td>-2.122272</td>\n",
       "      <td>-8.651123</td>\n",
       "      <td>5.790561</td>\n",
       "      <td>4.844768</td>\n",
       "      <td>NaN</td>\n",
       "    </tr>\n",
       "  </tbody>\n",
       "</table>\n",
       "</div>"
      ],
      "text/plain": [
       "                   A         B         C         D         E\n",
       "2013-01-01 -0.258812  0.490639  0.554961  0.720710 -0.941209\n",
       "2013-01-02 -1.087158 -1.221515  1.889413  2.332763 -1.882417\n",
       "2013-01-03 -0.771727 -2.775453  2.565379  3.529775 -2.823626\n",
       "2013-01-04 -1.673880 -4.108534  3.894648  4.202777       NaN\n",
       "2013-01-05 -2.063816 -5.757732  5.496745  5.083815       NaN\n",
       "2013-01-06 -2.122272 -8.651123  5.790561  4.844768       NaN"
      ]
     },
     "execution_count": 326,
     "metadata": {},
     "output_type": "execute_result"
    }
   ],
   "source": [
    "df.apply(np.cumsum)"
   ]
  },
  {
   "cell_type": "markdown",
   "metadata": {},
   "source": [
    "### Histograma"
   ]
  },
  {
   "cell_type": "code",
   "execution_count": 333,
   "metadata": {},
   "outputs": [],
   "source": [
    "ss = pd.Series(np.random.randint(0, 7, size=10))"
   ]
  },
  {
   "cell_type": "code",
   "execution_count": 334,
   "metadata": {},
   "outputs": [
    {
     "data": {
      "text/plain": [
       "0    6\n",
       "1    2\n",
       "2    1\n",
       "3    1\n",
       "4    3\n",
       "5    2\n",
       "6    6\n",
       "7    5\n",
       "8    1\n",
       "9    3\n",
       "dtype: int32"
      ]
     },
     "execution_count": 334,
     "metadata": {},
     "output_type": "execute_result"
    }
   ],
   "source": [
    "ss"
   ]
  },
  {
   "cell_type": "code",
   "execution_count": 339,
   "metadata": {},
   "outputs": [
    {
     "data": {
      "text/plain": [
       "1    3\n",
       "6    2\n",
       "3    2\n",
       "2    2\n",
       "5    1\n",
       "dtype: int64"
      ]
     },
     "execution_count": 339,
     "metadata": {},
     "output_type": "execute_result"
    }
   ],
   "source": [
    "ss.value_counts()"
   ]
  },
  {
   "cell_type": "markdown",
   "metadata": {},
   "source": [
    "### String Methods"
   ]
  },
  {
   "cell_type": "code",
   "execution_count": 340,
   "metadata": {},
   "outputs": [],
   "source": [
    "s = pd.Series(['A', 'BABA', 'CAO', 'ZOO', np.nan, 'fRICOS', 'QUTA'])"
   ]
  },
  {
   "cell_type": "markdown",
   "metadata": {},
   "source": [
    "#### Usamos o atributo str para ter acesso as strings e manipula-las"
   ]
  },
  {
   "cell_type": "code",
   "execution_count": null,
   "metadata": {},
   "outputs": [],
   "source": [
    "s.lower() # vai dar erro"
   ]
  },
  {
   "cell_type": "code",
   "execution_count": 344,
   "metadata": {},
   "outputs": [
    {
     "data": {
      "text/plain": [
       "0         a\n",
       "1      baba\n",
       "2       cao\n",
       "3       zoo\n",
       "4       NaN\n",
       "5    fricos\n",
       "6      quta\n",
       "dtype: object"
      ]
     },
     "execution_count": 344,
     "metadata": {},
     "output_type": "execute_result"
    }
   ],
   "source": [
    "s.str.lower()"
   ]
  },
  {
   "cell_type": "markdown",
   "metadata": {},
   "source": [
    "### Merge"
   ]
  },
  {
   "cell_type": "markdown",
   "metadata": {},
   "source": [
    "#### Concat"
   ]
  },
  {
   "cell_type": "code",
   "execution_count": 345,
   "metadata": {},
   "outputs": [],
   "source": [
    "df = pd.DataFrame(np.random.randn(10,4))"
   ]
  },
  {
   "cell_type": "code",
   "execution_count": 346,
   "metadata": {},
   "outputs": [
    {
     "data": {
      "text/html": [
       "<div>\n",
       "<style scoped>\n",
       "    .dataframe tbody tr th:only-of-type {\n",
       "        vertical-align: middle;\n",
       "    }\n",
       "\n",
       "    .dataframe tbody tr th {\n",
       "        vertical-align: top;\n",
       "    }\n",
       "\n",
       "    .dataframe thead th {\n",
       "        text-align: right;\n",
       "    }\n",
       "</style>\n",
       "<table border=\"1\" class=\"dataframe\">\n",
       "  <thead>\n",
       "    <tr style=\"text-align: right;\">\n",
       "      <th></th>\n",
       "      <th>0</th>\n",
       "      <th>1</th>\n",
       "      <th>2</th>\n",
       "      <th>3</th>\n",
       "    </tr>\n",
       "  </thead>\n",
       "  <tbody>\n",
       "    <tr>\n",
       "      <th>0</th>\n",
       "      <td>-0.162687</td>\n",
       "      <td>0.011541</td>\n",
       "      <td>1.253818</td>\n",
       "      <td>1.274151</td>\n",
       "    </tr>\n",
       "    <tr>\n",
       "      <th>1</th>\n",
       "      <td>-0.548442</td>\n",
       "      <td>-0.414818</td>\n",
       "      <td>-2.496740</td>\n",
       "      <td>-0.932935</td>\n",
       "    </tr>\n",
       "    <tr>\n",
       "      <th>2</th>\n",
       "      <td>1.424406</td>\n",
       "      <td>-0.175695</td>\n",
       "      <td>-0.525483</td>\n",
       "      <td>1.101804</td>\n",
       "    </tr>\n",
       "    <tr>\n",
       "      <th>3</th>\n",
       "      <td>0.582884</td>\n",
       "      <td>-2.047009</td>\n",
       "      <td>-0.373994</td>\n",
       "      <td>-0.229595</td>\n",
       "    </tr>\n",
       "    <tr>\n",
       "      <th>4</th>\n",
       "      <td>0.899988</td>\n",
       "      <td>0.088593</td>\n",
       "      <td>-0.426869</td>\n",
       "      <td>2.501247</td>\n",
       "    </tr>\n",
       "    <tr>\n",
       "      <th>5</th>\n",
       "      <td>0.416380</td>\n",
       "      <td>0.982512</td>\n",
       "      <td>0.754925</td>\n",
       "      <td>1.096392</td>\n",
       "    </tr>\n",
       "    <tr>\n",
       "      <th>6</th>\n",
       "      <td>0.202046</td>\n",
       "      <td>-0.738287</td>\n",
       "      <td>-1.310690</td>\n",
       "      <td>-1.553906</td>\n",
       "    </tr>\n",
       "    <tr>\n",
       "      <th>7</th>\n",
       "      <td>0.451980</td>\n",
       "      <td>-0.076201</td>\n",
       "      <td>0.598864</td>\n",
       "      <td>0.774103</td>\n",
       "    </tr>\n",
       "    <tr>\n",
       "      <th>8</th>\n",
       "      <td>-2.157928</td>\n",
       "      <td>0.333882</td>\n",
       "      <td>-0.081488</td>\n",
       "      <td>-0.619683</td>\n",
       "    </tr>\n",
       "    <tr>\n",
       "      <th>9</th>\n",
       "      <td>-2.362360</td>\n",
       "      <td>0.368156</td>\n",
       "      <td>0.040771</td>\n",
       "      <td>1.330568</td>\n",
       "    </tr>\n",
       "  </tbody>\n",
       "</table>\n",
       "</div>"
      ],
      "text/plain": [
       "          0         1         2         3\n",
       "0 -0.162687  0.011541  1.253818  1.274151\n",
       "1 -0.548442 -0.414818 -2.496740 -0.932935\n",
       "2  1.424406 -0.175695 -0.525483  1.101804\n",
       "3  0.582884 -2.047009 -0.373994 -0.229595\n",
       "4  0.899988  0.088593 -0.426869  2.501247\n",
       "5  0.416380  0.982512  0.754925  1.096392\n",
       "6  0.202046 -0.738287 -1.310690 -1.553906\n",
       "7  0.451980 -0.076201  0.598864  0.774103\n",
       "8 -2.157928  0.333882 -0.081488 -0.619683\n",
       "9 -2.362360  0.368156  0.040771  1.330568"
      ]
     },
     "execution_count": 346,
     "metadata": {},
     "output_type": "execute_result"
    }
   ],
   "source": [
    "df"
   ]
  },
  {
   "cell_type": "code",
   "execution_count": 349,
   "metadata": {},
   "outputs": [],
   "source": [
    "pc1 = df[:3]\n",
    "pc2 = df[3:7]\n",
    "pc3 = df[7:]"
   ]
  },
  {
   "cell_type": "code",
   "execution_count": 352,
   "metadata": {},
   "outputs": [
    {
     "data": {
      "text/html": [
       "<div>\n",
       "<style scoped>\n",
       "    .dataframe tbody tr th:only-of-type {\n",
       "        vertical-align: middle;\n",
       "    }\n",
       "\n",
       "    .dataframe tbody tr th {\n",
       "        vertical-align: top;\n",
       "    }\n",
       "\n",
       "    .dataframe thead th {\n",
       "        text-align: right;\n",
       "    }\n",
       "</style>\n",
       "<table border=\"1\" class=\"dataframe\">\n",
       "  <thead>\n",
       "    <tr style=\"text-align: right;\">\n",
       "      <th></th>\n",
       "      <th>0</th>\n",
       "      <th>1</th>\n",
       "      <th>2</th>\n",
       "      <th>3</th>\n",
       "    </tr>\n",
       "  </thead>\n",
       "  <tbody>\n",
       "    <tr>\n",
       "      <th>0</th>\n",
       "      <td>-0.162687</td>\n",
       "      <td>0.011541</td>\n",
       "      <td>1.253818</td>\n",
       "      <td>1.274151</td>\n",
       "    </tr>\n",
       "    <tr>\n",
       "      <th>1</th>\n",
       "      <td>-0.548442</td>\n",
       "      <td>-0.414818</td>\n",
       "      <td>-2.496740</td>\n",
       "      <td>-0.932935</td>\n",
       "    </tr>\n",
       "    <tr>\n",
       "      <th>2</th>\n",
       "      <td>1.424406</td>\n",
       "      <td>-0.175695</td>\n",
       "      <td>-0.525483</td>\n",
       "      <td>1.101804</td>\n",
       "    </tr>\n",
       "    <tr>\n",
       "      <th>3</th>\n",
       "      <td>0.582884</td>\n",
       "      <td>-2.047009</td>\n",
       "      <td>-0.373994</td>\n",
       "      <td>-0.229595</td>\n",
       "    </tr>\n",
       "    <tr>\n",
       "      <th>4</th>\n",
       "      <td>0.899988</td>\n",
       "      <td>0.088593</td>\n",
       "      <td>-0.426869</td>\n",
       "      <td>2.501247</td>\n",
       "    </tr>\n",
       "    <tr>\n",
       "      <th>5</th>\n",
       "      <td>0.416380</td>\n",
       "      <td>0.982512</td>\n",
       "      <td>0.754925</td>\n",
       "      <td>1.096392</td>\n",
       "    </tr>\n",
       "    <tr>\n",
       "      <th>6</th>\n",
       "      <td>0.202046</td>\n",
       "      <td>-0.738287</td>\n",
       "      <td>-1.310690</td>\n",
       "      <td>-1.553906</td>\n",
       "    </tr>\n",
       "    <tr>\n",
       "      <th>7</th>\n",
       "      <td>0.451980</td>\n",
       "      <td>-0.076201</td>\n",
       "      <td>0.598864</td>\n",
       "      <td>0.774103</td>\n",
       "    </tr>\n",
       "    <tr>\n",
       "      <th>8</th>\n",
       "      <td>-2.157928</td>\n",
       "      <td>0.333882</td>\n",
       "      <td>-0.081488</td>\n",
       "      <td>-0.619683</td>\n",
       "    </tr>\n",
       "    <tr>\n",
       "      <th>9</th>\n",
       "      <td>-2.362360</td>\n",
       "      <td>0.368156</td>\n",
       "      <td>0.040771</td>\n",
       "      <td>1.330568</td>\n",
       "    </tr>\n",
       "  </tbody>\n",
       "</table>\n",
       "</div>"
      ],
      "text/plain": [
       "          0         1         2         3\n",
       "0 -0.162687  0.011541  1.253818  1.274151\n",
       "1 -0.548442 -0.414818 -2.496740 -0.932935\n",
       "2  1.424406 -0.175695 -0.525483  1.101804\n",
       "3  0.582884 -2.047009 -0.373994 -0.229595\n",
       "4  0.899988  0.088593 -0.426869  2.501247\n",
       "5  0.416380  0.982512  0.754925  1.096392\n",
       "6  0.202046 -0.738287 -1.310690 -1.553906\n",
       "7  0.451980 -0.076201  0.598864  0.774103\n",
       "8 -2.157928  0.333882 -0.081488 -0.619683\n",
       "9 -2.362360  0.368156  0.040771  1.330568"
      ]
     },
     "execution_count": 352,
     "metadata": {},
     "output_type": "execute_result"
    }
   ],
   "source": [
    "pd.concat([pc1, pc2, pc3])"
   ]
  },
  {
   "cell_type": "markdown",
   "metadata": {},
   "source": [
    "#### Join"
   ]
  },
  {
   "cell_type": "code",
   "execution_count": 353,
   "metadata": {},
   "outputs": [],
   "source": [
    "left = pd.DataFrame({'key':['foo', 'foo'], 'lval':[1,2]})\n",
    "right = pd.DataFrame({'key':['foo', 'foo'], 'rval':[4,5]})"
   ]
  },
  {
   "cell_type": "code",
   "execution_count": 354,
   "metadata": {},
   "outputs": [
    {
     "data": {
      "text/html": [
       "<div>\n",
       "<style scoped>\n",
       "    .dataframe tbody tr th:only-of-type {\n",
       "        vertical-align: middle;\n",
       "    }\n",
       "\n",
       "    .dataframe tbody tr th {\n",
       "        vertical-align: top;\n",
       "    }\n",
       "\n",
       "    .dataframe thead th {\n",
       "        text-align: right;\n",
       "    }\n",
       "</style>\n",
       "<table border=\"1\" class=\"dataframe\">\n",
       "  <thead>\n",
       "    <tr style=\"text-align: right;\">\n",
       "      <th></th>\n",
       "      <th>key</th>\n",
       "      <th>lval</th>\n",
       "    </tr>\n",
       "  </thead>\n",
       "  <tbody>\n",
       "    <tr>\n",
       "      <th>0</th>\n",
       "      <td>foo</td>\n",
       "      <td>1</td>\n",
       "    </tr>\n",
       "    <tr>\n",
       "      <th>1</th>\n",
       "      <td>foo</td>\n",
       "      <td>2</td>\n",
       "    </tr>\n",
       "  </tbody>\n",
       "</table>\n",
       "</div>"
      ],
      "text/plain": [
       "   key  lval\n",
       "0  foo     1\n",
       "1  foo     2"
      ]
     },
     "execution_count": 354,
     "metadata": {},
     "output_type": "execute_result"
    }
   ],
   "source": [
    "left"
   ]
  },
  {
   "cell_type": "code",
   "execution_count": 355,
   "metadata": {},
   "outputs": [
    {
     "data": {
      "text/html": [
       "<div>\n",
       "<style scoped>\n",
       "    .dataframe tbody tr th:only-of-type {\n",
       "        vertical-align: middle;\n",
       "    }\n",
       "\n",
       "    .dataframe tbody tr th {\n",
       "        vertical-align: top;\n",
       "    }\n",
       "\n",
       "    .dataframe thead th {\n",
       "        text-align: right;\n",
       "    }\n",
       "</style>\n",
       "<table border=\"1\" class=\"dataframe\">\n",
       "  <thead>\n",
       "    <tr style=\"text-align: right;\">\n",
       "      <th></th>\n",
       "      <th>key</th>\n",
       "      <th>rval</th>\n",
       "    </tr>\n",
       "  </thead>\n",
       "  <tbody>\n",
       "    <tr>\n",
       "      <th>0</th>\n",
       "      <td>foo</td>\n",
       "      <td>4</td>\n",
       "    </tr>\n",
       "    <tr>\n",
       "      <th>1</th>\n",
       "      <td>foo</td>\n",
       "      <td>5</td>\n",
       "    </tr>\n",
       "  </tbody>\n",
       "</table>\n",
       "</div>"
      ],
      "text/plain": [
       "   key  rval\n",
       "0  foo     4\n",
       "1  foo     5"
      ]
     },
     "execution_count": 355,
     "metadata": {},
     "output_type": "execute_result"
    }
   ],
   "source": [
    "right"
   ]
  },
  {
   "cell_type": "code",
   "execution_count": 360,
   "metadata": {},
   "outputs": [
    {
     "data": {
      "text/html": [
       "<div>\n",
       "<style scoped>\n",
       "    .dataframe tbody tr th:only-of-type {\n",
       "        vertical-align: middle;\n",
       "    }\n",
       "\n",
       "    .dataframe tbody tr th {\n",
       "        vertical-align: top;\n",
       "    }\n",
       "\n",
       "    .dataframe thead th {\n",
       "        text-align: right;\n",
       "    }\n",
       "</style>\n",
       "<table border=\"1\" class=\"dataframe\">\n",
       "  <thead>\n",
       "    <tr style=\"text-align: right;\">\n",
       "      <th></th>\n",
       "      <th>key</th>\n",
       "      <th>lval</th>\n",
       "      <th>rval</th>\n",
       "    </tr>\n",
       "  </thead>\n",
       "  <tbody>\n",
       "    <tr>\n",
       "      <th>0</th>\n",
       "      <td>foo</td>\n",
       "      <td>1</td>\n",
       "      <td>4</td>\n",
       "    </tr>\n",
       "    <tr>\n",
       "      <th>1</th>\n",
       "      <td>foo</td>\n",
       "      <td>1</td>\n",
       "      <td>5</td>\n",
       "    </tr>\n",
       "    <tr>\n",
       "      <th>2</th>\n",
       "      <td>foo</td>\n",
       "      <td>2</td>\n",
       "      <td>4</td>\n",
       "    </tr>\n",
       "    <tr>\n",
       "      <th>3</th>\n",
       "      <td>foo</td>\n",
       "      <td>2</td>\n",
       "      <td>5</td>\n",
       "    </tr>\n",
       "  </tbody>\n",
       "</table>\n",
       "</div>"
      ],
      "text/plain": [
       "   key  lval  rval\n",
       "0  foo     1     4\n",
       "1  foo     1     5\n",
       "2  foo     2     4\n",
       "3  foo     2     5"
      ]
     },
     "execution_count": 360,
     "metadata": {},
     "output_type": "execute_result"
    }
   ],
   "source": [
    "pd.merge(left, right, on='key')"
   ]
  },
  {
   "cell_type": "markdown",
   "metadata": {},
   "source": [
    "##### Another example"
   ]
  },
  {
   "cell_type": "code",
   "execution_count": 361,
   "metadata": {},
   "outputs": [],
   "source": [
    "left = pd.DataFrame({'key':['foo', 'bar'], 'lval':[1,2]})\n",
    "right = pd.DataFrame({'key':['foo', 'bar'], 'rval':[4,5]})"
   ]
  },
  {
   "cell_type": "code",
   "execution_count": 362,
   "metadata": {},
   "outputs": [
    {
     "data": {
      "text/html": [
       "<div>\n",
       "<style scoped>\n",
       "    .dataframe tbody tr th:only-of-type {\n",
       "        vertical-align: middle;\n",
       "    }\n",
       "\n",
       "    .dataframe tbody tr th {\n",
       "        vertical-align: top;\n",
       "    }\n",
       "\n",
       "    .dataframe thead th {\n",
       "        text-align: right;\n",
       "    }\n",
       "</style>\n",
       "<table border=\"1\" class=\"dataframe\">\n",
       "  <thead>\n",
       "    <tr style=\"text-align: right;\">\n",
       "      <th></th>\n",
       "      <th>key</th>\n",
       "      <th>lval</th>\n",
       "    </tr>\n",
       "  </thead>\n",
       "  <tbody>\n",
       "    <tr>\n",
       "      <th>0</th>\n",
       "      <td>foo</td>\n",
       "      <td>1</td>\n",
       "    </tr>\n",
       "    <tr>\n",
       "      <th>1</th>\n",
       "      <td>bar</td>\n",
       "      <td>2</td>\n",
       "    </tr>\n",
       "  </tbody>\n",
       "</table>\n",
       "</div>"
      ],
      "text/plain": [
       "   key  lval\n",
       "0  foo     1\n",
       "1  bar     2"
      ]
     },
     "execution_count": 362,
     "metadata": {},
     "output_type": "execute_result"
    }
   ],
   "source": [
    "left"
   ]
  },
  {
   "cell_type": "code",
   "execution_count": 363,
   "metadata": {},
   "outputs": [
    {
     "data": {
      "text/html": [
       "<div>\n",
       "<style scoped>\n",
       "    .dataframe tbody tr th:only-of-type {\n",
       "        vertical-align: middle;\n",
       "    }\n",
       "\n",
       "    .dataframe tbody tr th {\n",
       "        vertical-align: top;\n",
       "    }\n",
       "\n",
       "    .dataframe thead th {\n",
       "        text-align: right;\n",
       "    }\n",
       "</style>\n",
       "<table border=\"1\" class=\"dataframe\">\n",
       "  <thead>\n",
       "    <tr style=\"text-align: right;\">\n",
       "      <th></th>\n",
       "      <th>key</th>\n",
       "      <th>rval</th>\n",
       "    </tr>\n",
       "  </thead>\n",
       "  <tbody>\n",
       "    <tr>\n",
       "      <th>0</th>\n",
       "      <td>foo</td>\n",
       "      <td>4</td>\n",
       "    </tr>\n",
       "    <tr>\n",
       "      <th>1</th>\n",
       "      <td>bar</td>\n",
       "      <td>5</td>\n",
       "    </tr>\n",
       "  </tbody>\n",
       "</table>\n",
       "</div>"
      ],
      "text/plain": [
       "   key  rval\n",
       "0  foo     4\n",
       "1  bar     5"
      ]
     },
     "execution_count": 363,
     "metadata": {},
     "output_type": "execute_result"
    }
   ],
   "source": [
    "right"
   ]
  },
  {
   "cell_type": "code",
   "execution_count": 364,
   "metadata": {},
   "outputs": [
    {
     "data": {
      "text/html": [
       "<div>\n",
       "<style scoped>\n",
       "    .dataframe tbody tr th:only-of-type {\n",
       "        vertical-align: middle;\n",
       "    }\n",
       "\n",
       "    .dataframe tbody tr th {\n",
       "        vertical-align: top;\n",
       "    }\n",
       "\n",
       "    .dataframe thead th {\n",
       "        text-align: right;\n",
       "    }\n",
       "</style>\n",
       "<table border=\"1\" class=\"dataframe\">\n",
       "  <thead>\n",
       "    <tr style=\"text-align: right;\">\n",
       "      <th></th>\n",
       "      <th>key</th>\n",
       "      <th>lval</th>\n",
       "      <th>rval</th>\n",
       "    </tr>\n",
       "  </thead>\n",
       "  <tbody>\n",
       "    <tr>\n",
       "      <th>0</th>\n",
       "      <td>foo</td>\n",
       "      <td>1</td>\n",
       "      <td>4</td>\n",
       "    </tr>\n",
       "    <tr>\n",
       "      <th>1</th>\n",
       "      <td>bar</td>\n",
       "      <td>2</td>\n",
       "      <td>5</td>\n",
       "    </tr>\n",
       "  </tbody>\n",
       "</table>\n",
       "</div>"
      ],
      "text/plain": [
       "   key  lval  rval\n",
       "0  foo     1     4\n",
       "1  bar     2     5"
      ]
     },
     "execution_count": 364,
     "metadata": {},
     "output_type": "execute_result"
    }
   ],
   "source": [
    "pd.merge(left, right, on='key')"
   ]
  },
  {
   "cell_type": "markdown",
   "metadata": {},
   "source": [
    "### Grouping - split, apply, combine"
   ]
  },
  {
   "cell_type": "code",
   "execution_count": 365,
   "metadata": {},
   "outputs": [],
   "source": [
    "df = pd.DataFrame({'A':['foo', 'bar', 'foo', 'bar', 'foo', 'bar', 'foo', 'foo'], \n",
    "                   'B':['one', 'one', 'two', 'three', 'two', 'two', 'one', 'three'], 'C':np.random.randn(8), \n",
    "                   'D':np.random.randn(8)})"
   ]
  },
  {
   "cell_type": "code",
   "execution_count": 366,
   "metadata": {},
   "outputs": [
    {
     "data": {
      "text/html": [
       "<div>\n",
       "<style scoped>\n",
       "    .dataframe tbody tr th:only-of-type {\n",
       "        vertical-align: middle;\n",
       "    }\n",
       "\n",
       "    .dataframe tbody tr th {\n",
       "        vertical-align: top;\n",
       "    }\n",
       "\n",
       "    .dataframe thead th {\n",
       "        text-align: right;\n",
       "    }\n",
       "</style>\n",
       "<table border=\"1\" class=\"dataframe\">\n",
       "  <thead>\n",
       "    <tr style=\"text-align: right;\">\n",
       "      <th></th>\n",
       "      <th>A</th>\n",
       "      <th>B</th>\n",
       "      <th>C</th>\n",
       "      <th>D</th>\n",
       "    </tr>\n",
       "  </thead>\n",
       "  <tbody>\n",
       "    <tr>\n",
       "      <th>0</th>\n",
       "      <td>foo</td>\n",
       "      <td>one</td>\n",
       "      <td>1.216275</td>\n",
       "      <td>1.280132</td>\n",
       "    </tr>\n",
       "    <tr>\n",
       "      <th>1</th>\n",
       "      <td>bar</td>\n",
       "      <td>one</td>\n",
       "      <td>-0.189833</td>\n",
       "      <td>0.663632</td>\n",
       "    </tr>\n",
       "    <tr>\n",
       "      <th>2</th>\n",
       "      <td>foo</td>\n",
       "      <td>two</td>\n",
       "      <td>-0.268105</td>\n",
       "      <td>-0.023186</td>\n",
       "    </tr>\n",
       "    <tr>\n",
       "      <th>3</th>\n",
       "      <td>bar</td>\n",
       "      <td>three</td>\n",
       "      <td>0.769089</td>\n",
       "      <td>1.565679</td>\n",
       "    </tr>\n",
       "    <tr>\n",
       "      <th>4</th>\n",
       "      <td>foo</td>\n",
       "      <td>two</td>\n",
       "      <td>0.606644</td>\n",
       "      <td>1.260294</td>\n",
       "    </tr>\n",
       "    <tr>\n",
       "      <th>5</th>\n",
       "      <td>bar</td>\n",
       "      <td>two</td>\n",
       "      <td>2.266609</td>\n",
       "      <td>2.525202</td>\n",
       "    </tr>\n",
       "    <tr>\n",
       "      <th>6</th>\n",
       "      <td>foo</td>\n",
       "      <td>one</td>\n",
       "      <td>0.523437</td>\n",
       "      <td>-0.986615</td>\n",
       "    </tr>\n",
       "    <tr>\n",
       "      <th>7</th>\n",
       "      <td>foo</td>\n",
       "      <td>three</td>\n",
       "      <td>-0.078520</td>\n",
       "      <td>1.173194</td>\n",
       "    </tr>\n",
       "  </tbody>\n",
       "</table>\n",
       "</div>"
      ],
      "text/plain": [
       "     A      B         C         D\n",
       "0  foo    one  1.216275  1.280132\n",
       "1  bar    one -0.189833  0.663632\n",
       "2  foo    two -0.268105 -0.023186\n",
       "3  bar  three  0.769089  1.565679\n",
       "4  foo    two  0.606644  1.260294\n",
       "5  bar    two  2.266609  2.525202\n",
       "6  foo    one  0.523437 -0.986615\n",
       "7  foo  three -0.078520  1.173194"
      ]
     },
     "execution_count": 366,
     "metadata": {},
     "output_type": "execute_result"
    }
   ],
   "source": [
    "df"
   ]
  },
  {
   "cell_type": "markdown",
   "metadata": {},
   "source": [
    "#### Vamos agrupar e entao aplicar a funcao soma"
   ]
  },
  {
   "cell_type": "code",
   "execution_count": 371,
   "metadata": {},
   "outputs": [
    {
     "data": {
      "text/html": [
       "<div>\n",
       "<style scoped>\n",
       "    .dataframe tbody tr th:only-of-type {\n",
       "        vertical-align: middle;\n",
       "    }\n",
       "\n",
       "    .dataframe tbody tr th {\n",
       "        vertical-align: top;\n",
       "    }\n",
       "\n",
       "    .dataframe thead th {\n",
       "        text-align: right;\n",
       "    }\n",
       "</style>\n",
       "<table border=\"1\" class=\"dataframe\">\n",
       "  <thead>\n",
       "    <tr style=\"text-align: right;\">\n",
       "      <th></th>\n",
       "      <th>C</th>\n",
       "      <th>D</th>\n",
       "    </tr>\n",
       "    <tr>\n",
       "      <th>A</th>\n",
       "      <th></th>\n",
       "      <th></th>\n",
       "    </tr>\n",
       "  </thead>\n",
       "  <tbody>\n",
       "    <tr>\n",
       "      <th>bar</th>\n",
       "      <td>2.845865</td>\n",
       "      <td>4.754512</td>\n",
       "    </tr>\n",
       "    <tr>\n",
       "      <th>foo</th>\n",
       "      <td>1.999731</td>\n",
       "      <td>2.703819</td>\n",
       "    </tr>\n",
       "  </tbody>\n",
       "</table>\n",
       "</div>"
      ],
      "text/plain": [
       "            C         D\n",
       "A                      \n",
       "bar  2.845865  4.754512\n",
       "foo  1.999731  2.703819"
      ]
     },
     "execution_count": 371,
     "metadata": {},
     "output_type": "execute_result"
    }
   ],
   "source": [
    "df.groupby('A').sum()"
   ]
  },
  {
   "cell_type": "markdown",
   "metadata": {},
   "source": [
    "##### Podemos agrupar por várias colunas e retornar um índice hierárquico"
   ]
  },
  {
   "cell_type": "code",
   "execution_count": 393,
   "metadata": {},
   "outputs": [
    {
     "data": {
      "text/html": [
       "<div>\n",
       "<style scoped>\n",
       "    .dataframe tbody tr th:only-of-type {\n",
       "        vertical-align: middle;\n",
       "    }\n",
       "\n",
       "    .dataframe tbody tr th {\n",
       "        vertical-align: top;\n",
       "    }\n",
       "\n",
       "    .dataframe thead th {\n",
       "        text-align: right;\n",
       "    }\n",
       "</style>\n",
       "<table border=\"1\" class=\"dataframe\">\n",
       "  <thead>\n",
       "    <tr style=\"text-align: right;\">\n",
       "      <th></th>\n",
       "      <th></th>\n",
       "      <th>C</th>\n",
       "      <th>D</th>\n",
       "    </tr>\n",
       "    <tr>\n",
       "      <th>A</th>\n",
       "      <th>B</th>\n",
       "      <th></th>\n",
       "      <th></th>\n",
       "    </tr>\n",
       "  </thead>\n",
       "  <tbody>\n",
       "    <tr>\n",
       "      <th rowspan=\"3\" valign=\"top\">bar</th>\n",
       "      <th>one</th>\n",
       "      <td>-0.189833</td>\n",
       "      <td>0.663632</td>\n",
       "    </tr>\n",
       "    <tr>\n",
       "      <th>three</th>\n",
       "      <td>0.769089</td>\n",
       "      <td>1.565679</td>\n",
       "    </tr>\n",
       "    <tr>\n",
       "      <th>two</th>\n",
       "      <td>2.266609</td>\n",
       "      <td>2.525202</td>\n",
       "    </tr>\n",
       "    <tr>\n",
       "      <th rowspan=\"3\" valign=\"top\">foo</th>\n",
       "      <th>one</th>\n",
       "      <td>0.869856</td>\n",
       "      <td>0.146758</td>\n",
       "    </tr>\n",
       "    <tr>\n",
       "      <th>three</th>\n",
       "      <td>-0.078520</td>\n",
       "      <td>1.173194</td>\n",
       "    </tr>\n",
       "    <tr>\n",
       "      <th>two</th>\n",
       "      <td>0.169269</td>\n",
       "      <td>0.618554</td>\n",
       "    </tr>\n",
       "  </tbody>\n",
       "</table>\n",
       "</div>"
      ],
      "text/plain": [
       "                  C         D\n",
       "A   B                        \n",
       "bar one   -0.189833  0.663632\n",
       "    three  0.769089  1.565679\n",
       "    two    2.266609  2.525202\n",
       "foo one    0.869856  0.146758\n",
       "    three -0.078520  1.173194\n",
       "    two    0.169269  0.618554"
      ]
     },
     "execution_count": 393,
     "metadata": {},
     "output_type": "execute_result"
    }
   ],
   "source": [
    "df.groupby(['A', 'B']).mean()"
   ]
  },
  {
   "cell_type": "code",
   "execution_count": null,
   "metadata": {},
   "outputs": [],
   "source": [
    "ex = df.groupby(['A', 'B']).mean() "
   ]
  },
  {
   "cell_type": "markdown",
   "metadata": {},
   "source": [
    "### Reshaping"
   ]
  },
  {
   "cell_type": "markdown",
   "metadata": {},
   "source": [
    "#### Stack - este metodo comprime um nivel nas colunas do data frame"
   ]
  },
  {
   "cell_type": "code",
   "execution_count": 401,
   "metadata": {},
   "outputs": [
    {
     "data": {
      "text/plain": [
       "A    B       \n",
       "bar  one    C   -0.189833\n",
       "            D    0.663632\n",
       "     three  C    0.769089\n",
       "            D    1.565679\n",
       "     two    C    2.266609\n",
       "            D    2.525202\n",
       "foo  one    C    0.869856\n",
       "            D    0.146758\n",
       "     three  C   -0.078520\n",
       "            D    1.173194\n",
       "     two    C    0.169269\n",
       "            D    0.618554\n",
       "dtype: float64"
      ]
     },
     "execution_count": 401,
     "metadata": {},
     "output_type": "execute_result"
    }
   ],
   "source": [
    "stacked = ex.stack()\n",
    "stacked"
   ]
  },
  {
   "cell_type": "code",
   "execution_count": 404,
   "metadata": {},
   "outputs": [
    {
     "data": {
      "text/html": [
       "<div>\n",
       "<style scoped>\n",
       "    .dataframe tbody tr th:only-of-type {\n",
       "        vertical-align: middle;\n",
       "    }\n",
       "\n",
       "    .dataframe tbody tr th {\n",
       "        vertical-align: top;\n",
       "    }\n",
       "\n",
       "    .dataframe thead th {\n",
       "        text-align: right;\n",
       "    }\n",
       "</style>\n",
       "<table border=\"1\" class=\"dataframe\">\n",
       "  <thead>\n",
       "    <tr style=\"text-align: right;\">\n",
       "      <th></th>\n",
       "      <th></th>\n",
       "      <th>C</th>\n",
       "      <th>D</th>\n",
       "    </tr>\n",
       "    <tr>\n",
       "      <th>A</th>\n",
       "      <th>B</th>\n",
       "      <th></th>\n",
       "      <th></th>\n",
       "    </tr>\n",
       "  </thead>\n",
       "  <tbody>\n",
       "    <tr>\n",
       "      <th rowspan=\"3\" valign=\"top\">bar</th>\n",
       "      <th>one</th>\n",
       "      <td>-0.189833</td>\n",
       "      <td>0.663632</td>\n",
       "    </tr>\n",
       "    <tr>\n",
       "      <th>three</th>\n",
       "      <td>0.769089</td>\n",
       "      <td>1.565679</td>\n",
       "    </tr>\n",
       "    <tr>\n",
       "      <th>two</th>\n",
       "      <td>2.266609</td>\n",
       "      <td>2.525202</td>\n",
       "    </tr>\n",
       "    <tr>\n",
       "      <th rowspan=\"3\" valign=\"top\">foo</th>\n",
       "      <th>one</th>\n",
       "      <td>0.869856</td>\n",
       "      <td>0.146758</td>\n",
       "    </tr>\n",
       "    <tr>\n",
       "      <th>three</th>\n",
       "      <td>-0.078520</td>\n",
       "      <td>1.173194</td>\n",
       "    </tr>\n",
       "    <tr>\n",
       "      <th>two</th>\n",
       "      <td>0.169269</td>\n",
       "      <td>0.618554</td>\n",
       "    </tr>\n",
       "  </tbody>\n",
       "</table>\n",
       "</div>"
      ],
      "text/plain": [
       "                  C         D\n",
       "A   B                        \n",
       "bar one   -0.189833  0.663632\n",
       "    three  0.769089  1.565679\n",
       "    two    2.266609  2.525202\n",
       "foo one    0.869856  0.146758\n",
       "    three -0.078520  1.173194\n",
       "    two    0.169269  0.618554"
      ]
     },
     "execution_count": 404,
     "metadata": {},
     "output_type": "execute_result"
    }
   ],
   "source": [
    "stacked.unstack() # funcao inversa da stack"
   ]
  },
  {
   "cell_type": "markdown",
   "metadata": {},
   "source": [
    "##### Outro exemplo"
   ]
  },
  {
   "cell_type": "code",
   "execution_count": 415,
   "metadata": {},
   "outputs": [],
   "source": [
    "tuplas = list(zip(*[['bar', 'bar', 'baz', 'baz', 'foo', 'foo', 'qux', 'qux'], \n",
    "          ['one', 'two', 'one', 'two', 'one', 'two', 'one', 'two']]))"
   ]
  },
  {
   "cell_type": "code",
   "execution_count": 418,
   "metadata": {},
   "outputs": [],
   "source": [
    "index = pd.MultiIndex.from_tuples(tuplas, names=['first', 'second'])"
   ]
  },
  {
   "cell_type": "code",
   "execution_count": 427,
   "metadata": {},
   "outputs": [],
   "source": [
    "df = pd.DataFrame(np.random.randn(8,2), index=index, columns=['A', 'B'])"
   ]
  },
  {
   "cell_type": "code",
   "execution_count": 428,
   "metadata": {},
   "outputs": [
    {
     "data": {
      "text/html": [
       "<div>\n",
       "<style scoped>\n",
       "    .dataframe tbody tr th:only-of-type {\n",
       "        vertical-align: middle;\n",
       "    }\n",
       "\n",
       "    .dataframe tbody tr th {\n",
       "        vertical-align: top;\n",
       "    }\n",
       "\n",
       "    .dataframe thead th {\n",
       "        text-align: right;\n",
       "    }\n",
       "</style>\n",
       "<table border=\"1\" class=\"dataframe\">\n",
       "  <thead>\n",
       "    <tr style=\"text-align: right;\">\n",
       "      <th></th>\n",
       "      <th></th>\n",
       "      <th>A</th>\n",
       "      <th>B</th>\n",
       "    </tr>\n",
       "    <tr>\n",
       "      <th>first</th>\n",
       "      <th>second</th>\n",
       "      <th></th>\n",
       "      <th></th>\n",
       "    </tr>\n",
       "  </thead>\n",
       "  <tbody>\n",
       "    <tr>\n",
       "      <th rowspan=\"2\" valign=\"top\">bar</th>\n",
       "      <th>one</th>\n",
       "      <td>-0.295725</td>\n",
       "      <td>0.543258</td>\n",
       "    </tr>\n",
       "    <tr>\n",
       "      <th>two</th>\n",
       "      <td>1.389407</td>\n",
       "      <td>-0.251361</td>\n",
       "    </tr>\n",
       "    <tr>\n",
       "      <th rowspan=\"2\" valign=\"top\">baz</th>\n",
       "      <th>one</th>\n",
       "      <td>0.431600</td>\n",
       "      <td>-0.101466</td>\n",
       "    </tr>\n",
       "    <tr>\n",
       "      <th>two</th>\n",
       "      <td>0.803037</td>\n",
       "      <td>-0.439793</td>\n",
       "    </tr>\n",
       "    <tr>\n",
       "      <th rowspan=\"2\" valign=\"top\">foo</th>\n",
       "      <th>one</th>\n",
       "      <td>-0.392342</td>\n",
       "      <td>0.359764</td>\n",
       "    </tr>\n",
       "    <tr>\n",
       "      <th>two</th>\n",
       "      <td>-1.651577</td>\n",
       "      <td>0.352337</td>\n",
       "    </tr>\n",
       "    <tr>\n",
       "      <th rowspan=\"2\" valign=\"top\">qux</th>\n",
       "      <th>one</th>\n",
       "      <td>-0.500354</td>\n",
       "      <td>-0.191407</td>\n",
       "    </tr>\n",
       "    <tr>\n",
       "      <th>two</th>\n",
       "      <td>0.013674</td>\n",
       "      <td>-0.838733</td>\n",
       "    </tr>\n",
       "  </tbody>\n",
       "</table>\n",
       "</div>"
      ],
      "text/plain": [
       "                     A         B\n",
       "first second                    \n",
       "bar   one    -0.295725  0.543258\n",
       "      two     1.389407 -0.251361\n",
       "baz   one     0.431600 -0.101466\n",
       "      two     0.803037 -0.439793\n",
       "foo   one    -0.392342  0.359764\n",
       "      two    -1.651577  0.352337\n",
       "qux   one    -0.500354 -0.191407\n",
       "      two     0.013674 -0.838733"
      ]
     },
     "execution_count": 428,
     "metadata": {},
     "output_type": "execute_result"
    }
   ],
   "source": [
    "df"
   ]
  },
  {
   "cell_type": "code",
   "execution_count": 429,
   "metadata": {},
   "outputs": [
    {
     "data": {
      "text/plain": [
       "first  second   \n",
       "bar    one     A   -0.295725\n",
       "               B    0.543258\n",
       "       two     A    1.389407\n",
       "               B   -0.251361\n",
       "baz    one     A    0.431600\n",
       "               B   -0.101466\n",
       "       two     A    0.803037\n",
       "               B   -0.439793\n",
       "foo    one     A   -0.392342\n",
       "               B    0.359764\n",
       "       two     A   -1.651577\n",
       "               B    0.352337\n",
       "qux    one     A   -0.500354\n",
       "               B   -0.191407\n",
       "       two     A    0.013674\n",
       "               B   -0.838733\n",
       "dtype: float64"
      ]
     },
     "execution_count": 429,
     "metadata": {},
     "output_type": "execute_result"
    }
   ],
   "source": [
    "df.stack()"
   ]
  },
  {
   "cell_type": "markdown",
   "metadata": {},
   "source": [
    "#### Pivot Tables"
   ]
  },
  {
   "cell_type": "code",
   "execution_count": 430,
   "metadata": {},
   "outputs": [],
   "source": [
    "df = pd.DataFrame({'A':['one', 'one', 'two', 'three'] * 3, 'B':['A', 'B', 'C'] * 4, \n",
    "                   'C':['foo', 'foo', 'foo', 'bar', 'bar', 'bar'] * 2, 'D':np.random.randn(12), 'E':np.random.randn(12)})"
   ]
  },
  {
   "cell_type": "code",
   "execution_count": 431,
   "metadata": {},
   "outputs": [
    {
     "data": {
      "text/html": [
       "<div>\n",
       "<style scoped>\n",
       "    .dataframe tbody tr th:only-of-type {\n",
       "        vertical-align: middle;\n",
       "    }\n",
       "\n",
       "    .dataframe tbody tr th {\n",
       "        vertical-align: top;\n",
       "    }\n",
       "\n",
       "    .dataframe thead th {\n",
       "        text-align: right;\n",
       "    }\n",
       "</style>\n",
       "<table border=\"1\" class=\"dataframe\">\n",
       "  <thead>\n",
       "    <tr style=\"text-align: right;\">\n",
       "      <th></th>\n",
       "      <th>A</th>\n",
       "      <th>B</th>\n",
       "      <th>C</th>\n",
       "      <th>D</th>\n",
       "      <th>E</th>\n",
       "    </tr>\n",
       "  </thead>\n",
       "  <tbody>\n",
       "    <tr>\n",
       "      <th>0</th>\n",
       "      <td>one</td>\n",
       "      <td>A</td>\n",
       "      <td>foo</td>\n",
       "      <td>-0.801024</td>\n",
       "      <td>1.110998</td>\n",
       "    </tr>\n",
       "    <tr>\n",
       "      <th>1</th>\n",
       "      <td>one</td>\n",
       "      <td>B</td>\n",
       "      <td>foo</td>\n",
       "      <td>-0.425756</td>\n",
       "      <td>-0.738598</td>\n",
       "    </tr>\n",
       "    <tr>\n",
       "      <th>2</th>\n",
       "      <td>two</td>\n",
       "      <td>C</td>\n",
       "      <td>foo</td>\n",
       "      <td>0.077375</td>\n",
       "      <td>-0.742502</td>\n",
       "    </tr>\n",
       "    <tr>\n",
       "      <th>3</th>\n",
       "      <td>three</td>\n",
       "      <td>A</td>\n",
       "      <td>bar</td>\n",
       "      <td>0.579070</td>\n",
       "      <td>-0.129325</td>\n",
       "    </tr>\n",
       "    <tr>\n",
       "      <th>4</th>\n",
       "      <td>one</td>\n",
       "      <td>B</td>\n",
       "      <td>bar</td>\n",
       "      <td>0.685435</td>\n",
       "      <td>0.203064</td>\n",
       "    </tr>\n",
       "    <tr>\n",
       "      <th>5</th>\n",
       "      <td>one</td>\n",
       "      <td>C</td>\n",
       "      <td>bar</td>\n",
       "      <td>0.378819</td>\n",
       "      <td>0.139163</td>\n",
       "    </tr>\n",
       "    <tr>\n",
       "      <th>6</th>\n",
       "      <td>two</td>\n",
       "      <td>A</td>\n",
       "      <td>foo</td>\n",
       "      <td>-0.004583</td>\n",
       "      <td>1.521127</td>\n",
       "    </tr>\n",
       "    <tr>\n",
       "      <th>7</th>\n",
       "      <td>three</td>\n",
       "      <td>B</td>\n",
       "      <td>foo</td>\n",
       "      <td>-0.191588</td>\n",
       "      <td>-0.719270</td>\n",
       "    </tr>\n",
       "    <tr>\n",
       "      <th>8</th>\n",
       "      <td>one</td>\n",
       "      <td>C</td>\n",
       "      <td>foo</td>\n",
       "      <td>-1.953766</td>\n",
       "      <td>0.464945</td>\n",
       "    </tr>\n",
       "    <tr>\n",
       "      <th>9</th>\n",
       "      <td>one</td>\n",
       "      <td>A</td>\n",
       "      <td>bar</td>\n",
       "      <td>-1.009027</td>\n",
       "      <td>-0.331539</td>\n",
       "    </tr>\n",
       "    <tr>\n",
       "      <th>10</th>\n",
       "      <td>two</td>\n",
       "      <td>B</td>\n",
       "      <td>bar</td>\n",
       "      <td>-1.266776</td>\n",
       "      <td>-0.460790</td>\n",
       "    </tr>\n",
       "    <tr>\n",
       "      <th>11</th>\n",
       "      <td>three</td>\n",
       "      <td>C</td>\n",
       "      <td>bar</td>\n",
       "      <td>0.916806</td>\n",
       "      <td>-1.227481</td>\n",
       "    </tr>\n",
       "  </tbody>\n",
       "</table>\n",
       "</div>"
      ],
      "text/plain": [
       "        A  B    C         D         E\n",
       "0     one  A  foo -0.801024  1.110998\n",
       "1     one  B  foo -0.425756 -0.738598\n",
       "2     two  C  foo  0.077375 -0.742502\n",
       "3   three  A  bar  0.579070 -0.129325\n",
       "4     one  B  bar  0.685435  0.203064\n",
       "5     one  C  bar  0.378819  0.139163\n",
       "6     two  A  foo -0.004583  1.521127\n",
       "7   three  B  foo -0.191588 -0.719270\n",
       "8     one  C  foo -1.953766  0.464945\n",
       "9     one  A  bar -1.009027 -0.331539\n",
       "10    two  B  bar -1.266776 -0.460790\n",
       "11  three  C  bar  0.916806 -1.227481"
      ]
     },
     "execution_count": 431,
     "metadata": {},
     "output_type": "execute_result"
    }
   ],
   "source": [
    "df"
   ]
  },
  {
   "cell_type": "code",
   "execution_count": 442,
   "metadata": {},
   "outputs": [
    {
     "data": {
      "text/html": [
       "<div>\n",
       "<style scoped>\n",
       "    .dataframe tbody tr th:only-of-type {\n",
       "        vertical-align: middle;\n",
       "    }\n",
       "\n",
       "    .dataframe tbody tr th {\n",
       "        vertical-align: top;\n",
       "    }\n",
       "\n",
       "    .dataframe thead tr th {\n",
       "        text-align: left;\n",
       "    }\n",
       "\n",
       "    .dataframe thead tr:last-of-type th {\n",
       "        text-align: right;\n",
       "    }\n",
       "</style>\n",
       "<table border=\"1\" class=\"dataframe\">\n",
       "  <thead>\n",
       "    <tr>\n",
       "      <th></th>\n",
       "      <th></th>\n",
       "      <th colspan=\"2\" halign=\"left\">D</th>\n",
       "      <th colspan=\"2\" halign=\"left\">E</th>\n",
       "    </tr>\n",
       "    <tr>\n",
       "      <th></th>\n",
       "      <th>C</th>\n",
       "      <th>bar</th>\n",
       "      <th>foo</th>\n",
       "      <th>bar</th>\n",
       "      <th>foo</th>\n",
       "    </tr>\n",
       "    <tr>\n",
       "      <th>A</th>\n",
       "      <th>B</th>\n",
       "      <th></th>\n",
       "      <th></th>\n",
       "      <th></th>\n",
       "      <th></th>\n",
       "    </tr>\n",
       "  </thead>\n",
       "  <tbody>\n",
       "    <tr>\n",
       "      <th rowspan=\"3\" valign=\"top\">one</th>\n",
       "      <th>A</th>\n",
       "      <td>-1.009027</td>\n",
       "      <td>-0.801024</td>\n",
       "      <td>-0.331539</td>\n",
       "      <td>1.110998</td>\n",
       "    </tr>\n",
       "    <tr>\n",
       "      <th>B</th>\n",
       "      <td>0.685435</td>\n",
       "      <td>-0.425756</td>\n",
       "      <td>0.203064</td>\n",
       "      <td>-0.738598</td>\n",
       "    </tr>\n",
       "    <tr>\n",
       "      <th>C</th>\n",
       "      <td>0.378819</td>\n",
       "      <td>-1.953766</td>\n",
       "      <td>0.139163</td>\n",
       "      <td>0.464945</td>\n",
       "    </tr>\n",
       "    <tr>\n",
       "      <th rowspan=\"3\" valign=\"top\">three</th>\n",
       "      <th>A</th>\n",
       "      <td>0.579070</td>\n",
       "      <td>NaN</td>\n",
       "      <td>-0.129325</td>\n",
       "      <td>NaN</td>\n",
       "    </tr>\n",
       "    <tr>\n",
       "      <th>B</th>\n",
       "      <td>NaN</td>\n",
       "      <td>-0.191588</td>\n",
       "      <td>NaN</td>\n",
       "      <td>-0.719270</td>\n",
       "    </tr>\n",
       "    <tr>\n",
       "      <th>C</th>\n",
       "      <td>0.916806</td>\n",
       "      <td>NaN</td>\n",
       "      <td>-1.227481</td>\n",
       "      <td>NaN</td>\n",
       "    </tr>\n",
       "    <tr>\n",
       "      <th rowspan=\"3\" valign=\"top\">two</th>\n",
       "      <th>A</th>\n",
       "      <td>NaN</td>\n",
       "      <td>-0.004583</td>\n",
       "      <td>NaN</td>\n",
       "      <td>1.521127</td>\n",
       "    </tr>\n",
       "    <tr>\n",
       "      <th>B</th>\n",
       "      <td>-1.266776</td>\n",
       "      <td>NaN</td>\n",
       "      <td>-0.460790</td>\n",
       "      <td>NaN</td>\n",
       "    </tr>\n",
       "    <tr>\n",
       "      <th>C</th>\n",
       "      <td>NaN</td>\n",
       "      <td>0.077375</td>\n",
       "      <td>NaN</td>\n",
       "      <td>-0.742502</td>\n",
       "    </tr>\n",
       "  </tbody>\n",
       "</table>\n",
       "</div>"
      ],
      "text/plain": [
       "                D                   E          \n",
       "C             bar       foo       bar       foo\n",
       "A     B                                        \n",
       "one   A -1.009027 -0.801024 -0.331539  1.110998\n",
       "      B  0.685435 -0.425756  0.203064 -0.738598\n",
       "      C  0.378819 -1.953766  0.139163  0.464945\n",
       "three A  0.579070       NaN -0.129325       NaN\n",
       "      B       NaN -0.191588       NaN -0.719270\n",
       "      C  0.916806       NaN -1.227481       NaN\n",
       "two   A       NaN -0.004583       NaN  1.521127\n",
       "      B -1.266776       NaN -0.460790       NaN\n",
       "      C       NaN  0.077375       NaN -0.742502"
      ]
     },
     "execution_count": 442,
     "metadata": {},
     "output_type": "execute_result"
    }
   ],
   "source": [
    "pd.pivot_table(df, values=['D', 'E'], index=['A', 'B'], columns=['C'])"
   ]
  },
  {
   "cell_type": "markdown",
   "metadata": {},
   "source": [
    "### Time Series"
   ]
  },
  {
   "cell_type": "code",
   "execution_count": 490,
   "metadata": {},
   "outputs": [],
   "source": [
    "rng = pd.date_range('26/03/2020', periods=10, freq='D')"
   ]
  },
  {
   "cell_type": "code",
   "execution_count": 491,
   "metadata": {},
   "outputs": [],
   "source": [
    "ts = pd.Series(np.random.randint(0, 10, len(rng)), index=rng)"
   ]
  },
  {
   "cell_type": "code",
   "execution_count": 492,
   "metadata": {},
   "outputs": [
    {
     "data": {
      "text/plain": [
       "2020-03-26    4\n",
       "2020-03-27    6\n",
       "2020-03-28    7\n",
       "2020-03-29    2\n",
       "2020-03-30    5\n",
       "2020-03-31    2\n",
       "2020-04-01    7\n",
       "2020-04-02    8\n",
       "2020-04-03    7\n",
       "2020-04-04    5\n",
       "Freq: D, dtype: int32"
      ]
     },
     "execution_count": 492,
     "metadata": {},
     "output_type": "execute_result"
    }
   ],
   "source": [
    "ts"
   ]
  },
  {
   "cell_type": "markdown",
   "metadata": {},
   "source": [
    "##### Fazer resample dos dados para converter a frequencia do tempo (de diaria para a cada 2 dias neste exemplo)"
   ]
  },
  {
   "cell_type": "code",
   "execution_count": 493,
   "metadata": {},
   "outputs": [
    {
     "data": {
      "text/plain": [
       "2020-03-26    10\n",
       "2020-03-28     9\n",
       "2020-03-30     7\n",
       "2020-04-01    15\n",
       "2020-04-03    12\n",
       "Freq: 2D, dtype: int32"
      ]
     },
     "execution_count": 493,
     "metadata": {},
     "output_type": "execute_result"
    }
   ],
   "source": [
    "ts.resample('2d').sum()"
   ]
  },
  {
   "cell_type": "markdown",
   "metadata": {},
   "source": [
    "##### Para situar a data numa timezone especifica"
   ]
  },
  {
   "cell_type": "code",
   "execution_count": 509,
   "metadata": {},
   "outputs": [],
   "source": [
    "ts1 = pd.Series(np.random.randint(0, 20, 10), index=pd.date_range('26/03/2020', periods=10, freq='min'))"
   ]
  },
  {
   "cell_type": "code",
   "execution_count": 510,
   "metadata": {},
   "outputs": [
    {
     "data": {
      "text/plain": [
       "2020-03-26 00:00:00     6\n",
       "2020-03-26 00:01:00    18\n",
       "2020-03-26 00:02:00     3\n",
       "2020-03-26 00:03:00    14\n",
       "2020-03-26 00:04:00     7\n",
       "2020-03-26 00:05:00    16\n",
       "2020-03-26 00:06:00     9\n",
       "2020-03-26 00:07:00    13\n",
       "2020-03-26 00:08:00    10\n",
       "2020-03-26 00:09:00     9\n",
       "Freq: T, dtype: int32"
      ]
     },
     "execution_count": 510,
     "metadata": {},
     "output_type": "execute_result"
    }
   ],
   "source": [
    "ts1"
   ]
  },
  {
   "cell_type": "code",
   "execution_count": 511,
   "metadata": {},
   "outputs": [],
   "source": [
    "tz_utc = ts1.tz_localize('UTC')"
   ]
  },
  {
   "cell_type": "code",
   "execution_count": 512,
   "metadata": {},
   "outputs": [
    {
     "data": {
      "text/plain": [
       "2020-03-26 00:00:00+00:00     6\n",
       "2020-03-26 00:01:00+00:00    18\n",
       "2020-03-26 00:02:00+00:00     3\n",
       "2020-03-26 00:03:00+00:00    14\n",
       "2020-03-26 00:04:00+00:00     7\n",
       "2020-03-26 00:05:00+00:00    16\n",
       "2020-03-26 00:06:00+00:00     9\n",
       "2020-03-26 00:07:00+00:00    13\n",
       "2020-03-26 00:08:00+00:00    10\n",
       "2020-03-26 00:09:00+00:00     9\n",
       "Freq: T, dtype: int32"
      ]
     },
     "execution_count": 512,
     "metadata": {},
     "output_type": "execute_result"
    }
   ],
   "source": [
    "tz_utc"
   ]
  },
  {
   "cell_type": "markdown",
   "metadata": {},
   "source": [
    "##### Para converter a timezone"
   ]
  },
  {
   "cell_type": "code",
   "execution_count": 516,
   "metadata": {},
   "outputs": [],
   "source": [
    "tz_conv = tz_utc.tz_convert('America/Argentina/Catamarca')"
   ]
  },
  {
   "cell_type": "code",
   "execution_count": 517,
   "metadata": {},
   "outputs": [
    {
     "data": {
      "text/plain": [
       "2020-03-25 21:00:00-03:00     6\n",
       "2020-03-25 21:01:00-03:00    18\n",
       "2020-03-25 21:02:00-03:00     3\n",
       "2020-03-25 21:03:00-03:00    14\n",
       "2020-03-25 21:04:00-03:00     7\n",
       "2020-03-25 21:05:00-03:00    16\n",
       "2020-03-25 21:06:00-03:00     9\n",
       "2020-03-25 21:07:00-03:00    13\n",
       "2020-03-25 21:08:00-03:00    10\n",
       "2020-03-25 21:09:00-03:00     9\n",
       "Freq: T, dtype: int32"
      ]
     },
     "execution_count": 517,
     "metadata": {},
     "output_type": "execute_result"
    }
   ],
   "source": [
    "tz_conv"
   ]
  },
  {
   "cell_type": "markdown",
   "metadata": {},
   "source": [
    "##### Converting between timespan representations"
   ]
  },
  {
   "cell_type": "code",
   "execution_count": 531,
   "metadata": {},
   "outputs": [],
   "source": [
    "rng = pd.date_range('26/03/2020', periods=5, freq='M')"
   ]
  },
  {
   "cell_type": "code",
   "execution_count": 532,
   "metadata": {},
   "outputs": [],
   "source": [
    "ts = pd.Series(np.random.randn(len(rng)), index=rng)"
   ]
  },
  {
   "cell_type": "code",
   "execution_count": 533,
   "metadata": {},
   "outputs": [
    {
     "data": {
      "text/plain": [
       "2020-03-31    0.856892\n",
       "2020-04-30    0.328536\n",
       "2020-05-31   -0.532766\n",
       "2020-06-30   -1.487922\n",
       "2020-07-31   -0.878760\n",
       "Freq: M, dtype: float64"
      ]
     },
     "execution_count": 533,
     "metadata": {},
     "output_type": "execute_result"
    }
   ],
   "source": [
    "ts"
   ]
  },
  {
   "cell_type": "code",
   "execution_count": 535,
   "metadata": {},
   "outputs": [
    {
     "data": {
      "text/plain": [
       "2020-03    0.856892\n",
       "2020-04    0.328536\n",
       "2020-05   -0.532766\n",
       "2020-06   -1.487922\n",
       "2020-07   -0.878760\n",
       "Freq: M, dtype: float64"
      ]
     },
     "execution_count": 535,
     "metadata": {},
     "output_type": "execute_result"
    }
   ],
   "source": [
    "ps = ts.to_period() # vai retornar somente para o nivel da sequencia escolhida (neste exemplo, meses)\n",
    "ps"
   ]
  },
  {
   "cell_type": "code",
   "execution_count": 536,
   "metadata": {},
   "outputs": [
    {
     "data": {
      "text/plain": [
       "2020-03-01    0.856892\n",
       "2020-04-01    0.328536\n",
       "2020-05-01   -0.532766\n",
       "2020-06-01   -1.487922\n",
       "2020-07-01   -0.878760\n",
       "Freq: MS, dtype: float64"
      ]
     },
     "execution_count": 536,
     "metadata": {},
     "output_type": "execute_result"
    }
   ],
   "source": [
    "ps.to_timestamp() # retorna o periodo completo"
   ]
  },
  {
   "cell_type": "markdown",
   "metadata": {},
   "source": [
    "### Categoricals"
   ]
  },
  {
   "cell_type": "markdown",
   "metadata": {},
   "source": [
    "##### Podemos incluir dados categoricos num DF"
   ]
  },
  {
   "cell_type": "code",
   "execution_count": 676,
   "metadata": {},
   "outputs": [],
   "source": [
    "df = pd.DataFrame({'id':[1, 2, 3, 4, 5, 6], 'raw grade':['a', 'b', 'b', 'e', 'a', 'e']})"
   ]
  },
  {
   "cell_type": "code",
   "execution_count": 677,
   "metadata": {},
   "outputs": [
    {
     "data": {
      "text/plain": [
       "0    a\n",
       "1    b\n",
       "2    b\n",
       "3    e\n",
       "4    a\n",
       "5    e\n",
       "Name: grade, dtype: category\n",
       "Categories (3, object): [a, b, e]"
      ]
     },
     "execution_count": 677,
     "metadata": {},
     "output_type": "execute_result"
    }
   ],
   "source": [
    "df['grade'] = df['raw grade'].astype(\"category\")\n",
    "df['grade']"
   ]
  },
  {
   "cell_type": "markdown",
   "metadata": {},
   "source": [
    "##### Podemos renomear as categorias para nomes mais intuitivos\n",
    "\n",
    "###### Veja que as categorias sao classificadas na ordem alfabetica"
   ]
  },
  {
   "cell_type": "code",
   "execution_count": 678,
   "metadata": {},
   "outputs": [],
   "source": [
    "df['grade'].cat.categories = ['very good', 'good', 'terrible'] # o primeiro corresponde ao 'a', segundo ao 'b', etc"
   ]
  },
  {
   "cell_type": "code",
   "execution_count": 679,
   "metadata": {},
   "outputs": [
    {
     "data": {
      "text/plain": [
       "0    very good\n",
       "1         good\n",
       "2         good\n",
       "3     terrible\n",
       "4    very good\n",
       "5     terrible\n",
       "Name: grade, dtype: category\n",
       "Categories (3, object): [very good, good, terrible]"
      ]
     },
     "execution_count": 679,
     "metadata": {},
     "output_type": "execute_result"
    }
   ],
   "source": [
    "df['grade']"
   ]
  },
  {
   "cell_type": "markdown",
   "metadata": {},
   "source": [
    "##### Com a funcao abaixo podemos reorganizar as categorias e adicionar as que faltam"
   ]
  },
  {
   "cell_type": "code",
   "execution_count": 680,
   "metadata": {},
   "outputs": [],
   "source": [
    "df['grade'] = df['grade'].cat.set_categories(['terrible', 'bad', 'medium', 'good', 'very good'])"
   ]
  },
  {
   "cell_type": "code",
   "execution_count": 681,
   "metadata": {},
   "outputs": [
    {
     "data": {
      "text/plain": [
       "0    very good\n",
       "1         good\n",
       "2         good\n",
       "3     terrible\n",
       "4    very good\n",
       "5     terrible\n",
       "Name: grade, dtype: category\n",
       "Categories (5, object): [terrible, bad, medium, good, very good]"
      ]
     },
     "execution_count": 681,
     "metadata": {},
     "output_type": "execute_result"
    }
   ],
   "source": [
    "df['grade']"
   ]
  },
  {
   "cell_type": "code",
   "execution_count": 684,
   "metadata": {},
   "outputs": [
    {
     "data": {
      "text/html": [
       "<div>\n",
       "<style scoped>\n",
       "    .dataframe tbody tr th:only-of-type {\n",
       "        vertical-align: middle;\n",
       "    }\n",
       "\n",
       "    .dataframe tbody tr th {\n",
       "        vertical-align: top;\n",
       "    }\n",
       "\n",
       "    .dataframe thead th {\n",
       "        text-align: right;\n",
       "    }\n",
       "</style>\n",
       "<table border=\"1\" class=\"dataframe\">\n",
       "  <thead>\n",
       "    <tr style=\"text-align: right;\">\n",
       "      <th></th>\n",
       "      <th>id</th>\n",
       "      <th>raw grade</th>\n",
       "      <th>grade</th>\n",
       "    </tr>\n",
       "  </thead>\n",
       "  <tbody>\n",
       "    <tr>\n",
       "      <th>3</th>\n",
       "      <td>4</td>\n",
       "      <td>e</td>\n",
       "      <td>terrible</td>\n",
       "    </tr>\n",
       "    <tr>\n",
       "      <th>5</th>\n",
       "      <td>6</td>\n",
       "      <td>e</td>\n",
       "      <td>terrible</td>\n",
       "    </tr>\n",
       "    <tr>\n",
       "      <th>1</th>\n",
       "      <td>2</td>\n",
       "      <td>b</td>\n",
       "      <td>good</td>\n",
       "    </tr>\n",
       "    <tr>\n",
       "      <th>2</th>\n",
       "      <td>3</td>\n",
       "      <td>b</td>\n",
       "      <td>good</td>\n",
       "    </tr>\n",
       "    <tr>\n",
       "      <th>0</th>\n",
       "      <td>1</td>\n",
       "      <td>a</td>\n",
       "      <td>very good</td>\n",
       "    </tr>\n",
       "    <tr>\n",
       "      <th>4</th>\n",
       "      <td>5</td>\n",
       "      <td>a</td>\n",
       "      <td>very good</td>\n",
       "    </tr>\n",
       "  </tbody>\n",
       "</table>\n",
       "</div>"
      ],
      "text/plain": [
       "   id raw grade      grade\n",
       "3   4         e   terrible\n",
       "5   6         e   terrible\n",
       "1   2         b       good\n",
       "2   3         b       good\n",
       "0   1         a  very good\n",
       "4   5         a  very good"
      ]
     },
     "execution_count": 684,
     "metadata": {},
     "output_type": "execute_result"
    }
   ],
   "source": [
    "df.sort_values(by='grade') # a organizacao eh por ordem de categoria, e nao por ordem alfabetica"
   ]
  },
  {
   "cell_type": "code",
   "execution_count": 686,
   "metadata": {},
   "outputs": [
    {
     "data": {
      "text/plain": [
       "grade\n",
       "terrible     2\n",
       "bad          0\n",
       "medium       0\n",
       "good         2\n",
       "very good    2\n",
       "dtype: int64"
      ]
     },
     "execution_count": 686,
     "metadata": {},
     "output_type": "execute_result"
    }
   ],
   "source": [
    "df.groupby('grade').size()\n",
    "# ao agruparmos uma coluna de categorias o agrupamento também mostrará as categorias vazias"
   ]
  },
  {
   "cell_type": "markdown",
   "metadata": {},
   "source": [
    "### Plotting"
   ]
  },
  {
   "cell_type": "code",
   "execution_count": 730,
   "metadata": {},
   "outputs": [],
   "source": [
    "import matplotlib.pyplot as plt\n",
    "%matplotlib inline"
   ]
  },
  {
   "cell_type": "code",
   "execution_count": 749,
   "metadata": {},
   "outputs": [],
   "source": [
    "a = pd.Series(np.random.randint(0, 100, 10))"
   ]
  },
  {
   "cell_type": "code",
   "execution_count": 750,
   "metadata": {},
   "outputs": [
    {
     "data": {
      "text/plain": [
       "0    38\n",
       "1    74\n",
       "2    99\n",
       "3    36\n",
       "4     7\n",
       "dtype: int32"
      ]
     },
     "execution_count": 750,
     "metadata": {},
     "output_type": "execute_result"
    }
   ],
   "source": [
    "a.head()"
   ]
  },
  {
   "cell_type": "code",
   "execution_count": 751,
   "metadata": {},
   "outputs": [
    {
     "data": {
      "text/plain": [
       "<matplotlib.axes._subplots.AxesSubplot at 0x19a9088dda0>"
      ]
     },
     "execution_count": 751,
     "metadata": {},
     "output_type": "execute_result"
    },
    {
     "data": {
      "image/png": "[encoded data removed]",
      "text/plain": [
       "<Figure size 432x288 with 1 Axes>"
      ]
     },
     "metadata": {
      "needs_background": "light"
     },
     "output_type": "display_data"
    }
   ],
   "source": [
    "a.plot()"
   ]
  },
  {
   "cell_type": "markdown",
   "metadata": {},
   "source": [
    "##### A plotagem de dataframe vai usar todas as colunas como labels"
   ]
  },
  {
   "cell_type": "code",
   "execution_count": 752,
   "metadata": {},
   "outputs": [],
   "source": [
    "a = pd.DataFrame(np.random.randn(10, 4), columns=list('ABCD'), index=pd.date_range('27/03/2020', periods=10, freq='D'))"
   ]
  },
  {
   "cell_type": "code",
   "execution_count": 753,
   "metadata": {},
   "outputs": [
    {
     "data": {
      "text/plain": [
       "<matplotlib.axes._subplots.AxesSubplot at 0x19a93516e80>"
      ]
     },
     "execution_count": 753,
     "metadata": {},
     "output_type": "execute_result"
    },
    {
     "data": {
      "text/plain": [
       "<Figure size 1152x288 with 0 Axes>"
      ]
     },
     "metadata": {},
     "output_type": "display_data"
    },
    {
     "data": {
      "image/png": "[encoded data removed]",
      "text/plain": [
       "<Figure size 432x288 with 1 Axes>"
      ]
     },
     "metadata": {
      "needs_background": "light"
     },
     "output_type": "display_data"
    }
   ],
   "source": [
    "plt.figure(figsize=(16,4))\n",
    "a.plot(kind='box')"
   ]
  },
  {
   "cell_type": "code",
   "execution_count": 754,
   "metadata": {},
   "outputs": [
    {
     "data": {
      "text/plain": [
       "<matplotlib.axes._subplots.AxesSubplot at 0x19a935dac50>"
      ]
     },
     "execution_count": 754,
     "metadata": {},
     "output_type": "execute_result"
    },
    {
     "data": {
      "image/png": "[encoded data removed]",
      "text/plain": [
       "<Figure size 432x288 with 1 Axes>"
      ]
     },
     "metadata": {
      "needs_background": "light"
     },
     "output_type": "display_data"
    }
   ],
   "source": [
    "a.plot(kind='barh')"
   ]
  },
  {
   "cell_type": "code",
   "execution_count": 755,
   "metadata": {},
   "outputs": [
    {
     "data": {
      "text/plain": [
       "<matplotlib.axes._subplots.AxesSubplot at 0x19a93648748>"
      ]
     },
     "execution_count": 755,
     "metadata": {},
     "output_type": "execute_result"
    },
    {
     "data": {
      "image/png": "[encoded data removed]",
      "text/plain": [
       "<Figure size 432x288 with 1 Axes>"
      ]
     },
     "metadata": {
      "needs_background": "light"
     },
     "output_type": "display_data"
    }
   ],
   "source": [
    "a.plot()"
   ]
  }
 ],
 "metadata": {
  "kernelspec": {
   "display_name": "Python 3",
   "language": "python",
   "name": "python3"
  },
  "language_info": {
   "codemirror_mode": {
    "name": "ipython",
    "version": 3
   },
   "file_extension": ".py",
   "mimetype": "text/x-python",
   "name": "python",
   "nbconvert_exporter": "python",
   "pygments_lexer": "ipython3",
   "version": "3.7.0"
  }
 },
 "nbformat": 4,
 "nbformat_minor": 2
}
